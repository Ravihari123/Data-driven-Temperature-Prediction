{
  "cells": [
    {
      "cell_type": "markdown",
      "metadata": {
        "id": "2IZjn8tiCq_j"
      },
      "source": [
        "# Multivariate Time-Series Regression Problem \n",
        "Machine Learning models : KNN, Random Forest, Decision Tree and Linear Regression were used to predict four target variables based on 11 input features.\n"
      ]
    },
    {
      "cell_type": "code",
      "execution_count": 51,
      "metadata": {
        "id": "DIFXVrf62VKR"
      },
      "outputs": [],
      "source": [
        "import numpy as np\n",
        "import tensorflow as tf\n",
        "from keras.models import Sequential\n",
        "from keras.layers import LSTM, Conv1D, MaxPool1D, add, AveragePooling1D, Dense, Dropout, BatchNormalization, Flatten, Input\n",
        "import pandas as pd\n",
        "from matplotlib import pyplot as plt\n",
        "from sklearn.preprocessing import StandardScaler\n",
        "import seaborn as sns\n",
        "#from datetime import datetime\n",
        "from google.colab import drive\n",
        "from os import listdir\n",
        "import os\n",
        "from sklearn.metrics import r2_score, mean_squared_error, mean_absolute_error\n",
        "from keras import models, optimizers as opts\n",
        "tf.keras.optimizers.Optimizer\n",
        "tf.keras.callbacks.LearningRateScheduler\n",
        "from numpy import mean\n",
        "from keras.regularizers import l2\n"
      ]
    },
    {
      "cell_type": "code",
      "execution_count": 2,
      "metadata": {
        "colab": {
          "base_uri": "https://localhost:8080/"
        },
        "id": "YWIFGzbd2kjO",
        "outputId": "c8087877-16a3-44d6-a501-329fdf443650"
      },
      "outputs": [
        {
          "output_type": "stream",
          "name": "stdout",
          "text": [
            "Mounted at /content/gdrive\n"
          ]
        }
      ],
      "source": [
        "drive.mount('/content/gdrive')"
      ]
    },
    {
      "cell_type": "code",
      "execution_count": 3,
      "metadata": {
        "id": "jOQ6McnE2vjp"
      },
      "outputs": [],
      "source": [
        "base_path =  \"/content/gdrive/MyDrive/Deep Learning/DL_project\"\n",
        "# Change the working directory to the base_path\n",
        "os.chdir(base_path)"
      ]
    },
    {
      "cell_type": "code",
      "execution_count": 4,
      "metadata": {
        "colab": {
          "base_uri": "https://localhost:8080/"
        },
        "id": "oooqOu9-2viR",
        "outputId": "bcb0e4e1-9d62-4c78-cc00-9bf70e0685d8"
      },
      "outputs": [
        {
          "output_type": "execute_result",
          "data": {
            "text/plain": [
              "(1330816, 13)"
            ]
          },
          "metadata": {},
          "execution_count": 4
        }
      ],
      "source": [
        "df = pd.read_csv('measures_v2.csv')\n",
        "df.shape"
      ]
    },
    {
      "cell_type": "code",
      "execution_count": 5,
      "metadata": {
        "colab": {
          "base_uri": "https://localhost:8080/",
          "height": 206
        },
        "id": "SwBdmZfP2vhW",
        "outputId": "67aadd13-84dc-432a-a121-6c4ee96beff7"
      },
      "outputs": [
        {
          "output_type": "execute_result",
          "data": {
            "text/plain": [
              "        u_q    coolant  stator_winding       u_d  stator_tooth  motor_speed  \\\n",
              "0 -0.450682  18.805172       19.086670 -0.350055     18.293219     0.002866   \n",
              "1 -0.325737  18.818571       19.092390 -0.305803     18.294807     0.000257   \n",
              "2 -0.440864  18.828770       19.089380 -0.372503     18.294094     0.002355   \n",
              "3 -0.327026  18.835567       19.083031 -0.316199     18.292542     0.006105   \n",
              "4 -0.471150  18.857033       19.082525 -0.332272     18.291428     0.003133   \n",
              "\n",
              "        i_d       i_q         pm  stator_yoke    ambient    torque  profile_id  \n",
              "0  0.004419  0.000328  24.554214    18.316547  19.850691  0.187101          17  \n",
              "1  0.000606 -0.000785  24.538078    18.314955  19.850672  0.245417          17  \n",
              "2  0.001290  0.000386  24.544693    18.326307  19.850657  0.176615          17  \n",
              "3  0.000026  0.002046  24.554018    18.330833  19.850647  0.238303          17  \n",
              "4 -0.064317  0.037184  24.565397    18.326662  19.850639  0.208197          17  "
            ],
            "text/html": [
              "\n",
              "  <div id=\"df-acbe0a9d-82b3-48d9-b086-af930bff291f\">\n",
              "    <div class=\"colab-df-container\">\n",
              "      <div>\n",
              "<style scoped>\n",
              "    .dataframe tbody tr th:only-of-type {\n",
              "        vertical-align: middle;\n",
              "    }\n",
              "\n",
              "    .dataframe tbody tr th {\n",
              "        vertical-align: top;\n",
              "    }\n",
              "\n",
              "    .dataframe thead th {\n",
              "        text-align: right;\n",
              "    }\n",
              "</style>\n",
              "<table border=\"1\" class=\"dataframe\">\n",
              "  <thead>\n",
              "    <tr style=\"text-align: right;\">\n",
              "      <th></th>\n",
              "      <th>u_q</th>\n",
              "      <th>coolant</th>\n",
              "      <th>stator_winding</th>\n",
              "      <th>u_d</th>\n",
              "      <th>stator_tooth</th>\n",
              "      <th>motor_speed</th>\n",
              "      <th>i_d</th>\n",
              "      <th>i_q</th>\n",
              "      <th>pm</th>\n",
              "      <th>stator_yoke</th>\n",
              "      <th>ambient</th>\n",
              "      <th>torque</th>\n",
              "      <th>profile_id</th>\n",
              "    </tr>\n",
              "  </thead>\n",
              "  <tbody>\n",
              "    <tr>\n",
              "      <th>0</th>\n",
              "      <td>-0.450682</td>\n",
              "      <td>18.805172</td>\n",
              "      <td>19.086670</td>\n",
              "      <td>-0.350055</td>\n",
              "      <td>18.293219</td>\n",
              "      <td>0.002866</td>\n",
              "      <td>0.004419</td>\n",
              "      <td>0.000328</td>\n",
              "      <td>24.554214</td>\n",
              "      <td>18.316547</td>\n",
              "      <td>19.850691</td>\n",
              "      <td>0.187101</td>\n",
              "      <td>17</td>\n",
              "    </tr>\n",
              "    <tr>\n",
              "      <th>1</th>\n",
              "      <td>-0.325737</td>\n",
              "      <td>18.818571</td>\n",
              "      <td>19.092390</td>\n",
              "      <td>-0.305803</td>\n",
              "      <td>18.294807</td>\n",
              "      <td>0.000257</td>\n",
              "      <td>0.000606</td>\n",
              "      <td>-0.000785</td>\n",
              "      <td>24.538078</td>\n",
              "      <td>18.314955</td>\n",
              "      <td>19.850672</td>\n",
              "      <td>0.245417</td>\n",
              "      <td>17</td>\n",
              "    </tr>\n",
              "    <tr>\n",
              "      <th>2</th>\n",
              "      <td>-0.440864</td>\n",
              "      <td>18.828770</td>\n",
              "      <td>19.089380</td>\n",
              "      <td>-0.372503</td>\n",
              "      <td>18.294094</td>\n",
              "      <td>0.002355</td>\n",
              "      <td>0.001290</td>\n",
              "      <td>0.000386</td>\n",
              "      <td>24.544693</td>\n",
              "      <td>18.326307</td>\n",
              "      <td>19.850657</td>\n",
              "      <td>0.176615</td>\n",
              "      <td>17</td>\n",
              "    </tr>\n",
              "    <tr>\n",
              "      <th>3</th>\n",
              "      <td>-0.327026</td>\n",
              "      <td>18.835567</td>\n",
              "      <td>19.083031</td>\n",
              "      <td>-0.316199</td>\n",
              "      <td>18.292542</td>\n",
              "      <td>0.006105</td>\n",
              "      <td>0.000026</td>\n",
              "      <td>0.002046</td>\n",
              "      <td>24.554018</td>\n",
              "      <td>18.330833</td>\n",
              "      <td>19.850647</td>\n",
              "      <td>0.238303</td>\n",
              "      <td>17</td>\n",
              "    </tr>\n",
              "    <tr>\n",
              "      <th>4</th>\n",
              "      <td>-0.471150</td>\n",
              "      <td>18.857033</td>\n",
              "      <td>19.082525</td>\n",
              "      <td>-0.332272</td>\n",
              "      <td>18.291428</td>\n",
              "      <td>0.003133</td>\n",
              "      <td>-0.064317</td>\n",
              "      <td>0.037184</td>\n",
              "      <td>24.565397</td>\n",
              "      <td>18.326662</td>\n",
              "      <td>19.850639</td>\n",
              "      <td>0.208197</td>\n",
              "      <td>17</td>\n",
              "    </tr>\n",
              "  </tbody>\n",
              "</table>\n",
              "</div>\n",
              "      <button class=\"colab-df-convert\" onclick=\"convertToInteractive('df-acbe0a9d-82b3-48d9-b086-af930bff291f')\"\n",
              "              title=\"Convert this dataframe to an interactive table.\"\n",
              "              style=\"display:none;\">\n",
              "        \n",
              "  <svg xmlns=\"http://www.w3.org/2000/svg\" height=\"24px\"viewBox=\"0 0 24 24\"\n",
              "       width=\"24px\">\n",
              "    <path d=\"M0 0h24v24H0V0z\" fill=\"none\"/>\n",
              "    <path d=\"M18.56 5.44l.94 2.06.94-2.06 2.06-.94-2.06-.94-.94-2.06-.94 2.06-2.06.94zm-11 1L8.5 8.5l.94-2.06 2.06-.94-2.06-.94L8.5 2.5l-.94 2.06-2.06.94zm10 10l.94 2.06.94-2.06 2.06-.94-2.06-.94-.94-2.06-.94 2.06-2.06.94z\"/><path d=\"M17.41 7.96l-1.37-1.37c-.4-.4-.92-.59-1.43-.59-.52 0-1.04.2-1.43.59L10.3 9.45l-7.72 7.72c-.78.78-.78 2.05 0 2.83L4 21.41c.39.39.9.59 1.41.59.51 0 1.02-.2 1.41-.59l7.78-7.78 2.81-2.81c.8-.78.8-2.07 0-2.86zM5.41 20L4 18.59l7.72-7.72 1.47 1.35L5.41 20z\"/>\n",
              "  </svg>\n",
              "      </button>\n",
              "      \n",
              "  <style>\n",
              "    .colab-df-container {\n",
              "      display:flex;\n",
              "      flex-wrap:wrap;\n",
              "      gap: 12px;\n",
              "    }\n",
              "\n",
              "    .colab-df-convert {\n",
              "      background-color: #E8F0FE;\n",
              "      border: none;\n",
              "      border-radius: 50%;\n",
              "      cursor: pointer;\n",
              "      display: none;\n",
              "      fill: #1967D2;\n",
              "      height: 32px;\n",
              "      padding: 0 0 0 0;\n",
              "      width: 32px;\n",
              "    }\n",
              "\n",
              "    .colab-df-convert:hover {\n",
              "      background-color: #E2EBFA;\n",
              "      box-shadow: 0px 1px 2px rgba(60, 64, 67, 0.3), 0px 1px 3px 1px rgba(60, 64, 67, 0.15);\n",
              "      fill: #174EA6;\n",
              "    }\n",
              "\n",
              "    [theme=dark] .colab-df-convert {\n",
              "      background-color: #3B4455;\n",
              "      fill: #D2E3FC;\n",
              "    }\n",
              "\n",
              "    [theme=dark] .colab-df-convert:hover {\n",
              "      background-color: #434B5C;\n",
              "      box-shadow: 0px 1px 3px 1px rgba(0, 0, 0, 0.15);\n",
              "      filter: drop-shadow(0px 1px 2px rgba(0, 0, 0, 0.3));\n",
              "      fill: #FFFFFF;\n",
              "    }\n",
              "  </style>\n",
              "\n",
              "      <script>\n",
              "        const buttonEl =\n",
              "          document.querySelector('#df-acbe0a9d-82b3-48d9-b086-af930bff291f button.colab-df-convert');\n",
              "        buttonEl.style.display =\n",
              "          google.colab.kernel.accessAllowed ? 'block' : 'none';\n",
              "\n",
              "        async function convertToInteractive(key) {\n",
              "          const element = document.querySelector('#df-acbe0a9d-82b3-48d9-b086-af930bff291f');\n",
              "          const dataTable =\n",
              "            await google.colab.kernel.invokeFunction('convertToInteractive',\n",
              "                                                     [key], {});\n",
              "          if (!dataTable) return;\n",
              "\n",
              "          const docLinkHtml = 'Like what you see? Visit the ' +\n",
              "            '<a target=\"_blank\" href=https://colab.research.google.com/notebooks/data_table.ipynb>data table notebook</a>'\n",
              "            + ' to learn more about interactive tables.';\n",
              "          element.innerHTML = '';\n",
              "          dataTable['output_type'] = 'display_data';\n",
              "          await google.colab.output.renderOutput(dataTable, element);\n",
              "          const docLink = document.createElement('div');\n",
              "          docLink.innerHTML = docLinkHtml;\n",
              "          element.appendChild(docLink);\n",
              "        }\n",
              "      </script>\n",
              "    </div>\n",
              "  </div>\n",
              "  "
            ]
          },
          "metadata": {},
          "execution_count": 5
        }
      ],
      "source": [
        "df.head()"
      ]
    },
    {
      "cell_type": "code",
      "execution_count": 6,
      "metadata": {
        "colab": {
          "base_uri": "https://localhost:8080/",
          "height": 206
        },
        "id": "FIrXPphx2vfh",
        "outputId": "e82cdde5-a842-4632-ad39-62d1b2eae322"
      },
      "outputs": [
        {
          "output_type": "execute_result",
          "data": {
            "text/plain": [
              "        u_q    coolant       u_d  motor_speed       i_d       i_q    ambient  \\\n",
              "0 -0.450682  18.805172 -0.350055     0.002866  0.004419  0.000328  19.850691   \n",
              "1 -0.325737  18.818571 -0.305803     0.000257  0.000606 -0.000785  19.850672   \n",
              "2 -0.440864  18.828770 -0.372503     0.002355  0.001290  0.000386  19.850657   \n",
              "3 -0.327026  18.835567 -0.316199     0.006105  0.000026  0.002046  19.850647   \n",
              "4 -0.471150  18.857033 -0.332272     0.003133 -0.064317  0.037184  19.850639   \n",
              "\n",
              "     torque         pm  stator_yoke  stator_tooth  stator_winding  profile_id  \n",
              "0  0.187101  24.554214    18.316547     18.293219       19.086670          17  \n",
              "1  0.245417  24.538078    18.314955     18.294807       19.092390          17  \n",
              "2  0.176615  24.544693    18.326307     18.294094       19.089380          17  \n",
              "3  0.238303  24.554018    18.330833     18.292542       19.083031          17  \n",
              "4  0.208197  24.565397    18.326662     18.291428       19.082525          17  "
            ],
            "text/html": [
              "\n",
              "  <div id=\"df-62e78c19-0cf2-4214-9cec-89c3798c4c0a\">\n",
              "    <div class=\"colab-df-container\">\n",
              "      <div>\n",
              "<style scoped>\n",
              "    .dataframe tbody tr th:only-of-type {\n",
              "        vertical-align: middle;\n",
              "    }\n",
              "\n",
              "    .dataframe tbody tr th {\n",
              "        vertical-align: top;\n",
              "    }\n",
              "\n",
              "    .dataframe thead th {\n",
              "        text-align: right;\n",
              "    }\n",
              "</style>\n",
              "<table border=\"1\" class=\"dataframe\">\n",
              "  <thead>\n",
              "    <tr style=\"text-align: right;\">\n",
              "      <th></th>\n",
              "      <th>u_q</th>\n",
              "      <th>coolant</th>\n",
              "      <th>u_d</th>\n",
              "      <th>motor_speed</th>\n",
              "      <th>i_d</th>\n",
              "      <th>i_q</th>\n",
              "      <th>ambient</th>\n",
              "      <th>torque</th>\n",
              "      <th>pm</th>\n",
              "      <th>stator_yoke</th>\n",
              "      <th>stator_tooth</th>\n",
              "      <th>stator_winding</th>\n",
              "      <th>profile_id</th>\n",
              "    </tr>\n",
              "  </thead>\n",
              "  <tbody>\n",
              "    <tr>\n",
              "      <th>0</th>\n",
              "      <td>-0.450682</td>\n",
              "      <td>18.805172</td>\n",
              "      <td>-0.350055</td>\n",
              "      <td>0.002866</td>\n",
              "      <td>0.004419</td>\n",
              "      <td>0.000328</td>\n",
              "      <td>19.850691</td>\n",
              "      <td>0.187101</td>\n",
              "      <td>24.554214</td>\n",
              "      <td>18.316547</td>\n",
              "      <td>18.293219</td>\n",
              "      <td>19.086670</td>\n",
              "      <td>17</td>\n",
              "    </tr>\n",
              "    <tr>\n",
              "      <th>1</th>\n",
              "      <td>-0.325737</td>\n",
              "      <td>18.818571</td>\n",
              "      <td>-0.305803</td>\n",
              "      <td>0.000257</td>\n",
              "      <td>0.000606</td>\n",
              "      <td>-0.000785</td>\n",
              "      <td>19.850672</td>\n",
              "      <td>0.245417</td>\n",
              "      <td>24.538078</td>\n",
              "      <td>18.314955</td>\n",
              "      <td>18.294807</td>\n",
              "      <td>19.092390</td>\n",
              "      <td>17</td>\n",
              "    </tr>\n",
              "    <tr>\n",
              "      <th>2</th>\n",
              "      <td>-0.440864</td>\n",
              "      <td>18.828770</td>\n",
              "      <td>-0.372503</td>\n",
              "      <td>0.002355</td>\n",
              "      <td>0.001290</td>\n",
              "      <td>0.000386</td>\n",
              "      <td>19.850657</td>\n",
              "      <td>0.176615</td>\n",
              "      <td>24.544693</td>\n",
              "      <td>18.326307</td>\n",
              "      <td>18.294094</td>\n",
              "      <td>19.089380</td>\n",
              "      <td>17</td>\n",
              "    </tr>\n",
              "    <tr>\n",
              "      <th>3</th>\n",
              "      <td>-0.327026</td>\n",
              "      <td>18.835567</td>\n",
              "      <td>-0.316199</td>\n",
              "      <td>0.006105</td>\n",
              "      <td>0.000026</td>\n",
              "      <td>0.002046</td>\n",
              "      <td>19.850647</td>\n",
              "      <td>0.238303</td>\n",
              "      <td>24.554018</td>\n",
              "      <td>18.330833</td>\n",
              "      <td>18.292542</td>\n",
              "      <td>19.083031</td>\n",
              "      <td>17</td>\n",
              "    </tr>\n",
              "    <tr>\n",
              "      <th>4</th>\n",
              "      <td>-0.471150</td>\n",
              "      <td>18.857033</td>\n",
              "      <td>-0.332272</td>\n",
              "      <td>0.003133</td>\n",
              "      <td>-0.064317</td>\n",
              "      <td>0.037184</td>\n",
              "      <td>19.850639</td>\n",
              "      <td>0.208197</td>\n",
              "      <td>24.565397</td>\n",
              "      <td>18.326662</td>\n",
              "      <td>18.291428</td>\n",
              "      <td>19.082525</td>\n",
              "      <td>17</td>\n",
              "    </tr>\n",
              "  </tbody>\n",
              "</table>\n",
              "</div>\n",
              "      <button class=\"colab-df-convert\" onclick=\"convertToInteractive('df-62e78c19-0cf2-4214-9cec-89c3798c4c0a')\"\n",
              "              title=\"Convert this dataframe to an interactive table.\"\n",
              "              style=\"display:none;\">\n",
              "        \n",
              "  <svg xmlns=\"http://www.w3.org/2000/svg\" height=\"24px\"viewBox=\"0 0 24 24\"\n",
              "       width=\"24px\">\n",
              "    <path d=\"M0 0h24v24H0V0z\" fill=\"none\"/>\n",
              "    <path d=\"M18.56 5.44l.94 2.06.94-2.06 2.06-.94-2.06-.94-.94-2.06-.94 2.06-2.06.94zm-11 1L8.5 8.5l.94-2.06 2.06-.94-2.06-.94L8.5 2.5l-.94 2.06-2.06.94zm10 10l.94 2.06.94-2.06 2.06-.94-2.06-.94-.94-2.06-.94 2.06-2.06.94z\"/><path d=\"M17.41 7.96l-1.37-1.37c-.4-.4-.92-.59-1.43-.59-.52 0-1.04.2-1.43.59L10.3 9.45l-7.72 7.72c-.78.78-.78 2.05 0 2.83L4 21.41c.39.39.9.59 1.41.59.51 0 1.02-.2 1.41-.59l7.78-7.78 2.81-2.81c.8-.78.8-2.07 0-2.86zM5.41 20L4 18.59l7.72-7.72 1.47 1.35L5.41 20z\"/>\n",
              "  </svg>\n",
              "      </button>\n",
              "      \n",
              "  <style>\n",
              "    .colab-df-container {\n",
              "      display:flex;\n",
              "      flex-wrap:wrap;\n",
              "      gap: 12px;\n",
              "    }\n",
              "\n",
              "    .colab-df-convert {\n",
              "      background-color: #E8F0FE;\n",
              "      border: none;\n",
              "      border-radius: 50%;\n",
              "      cursor: pointer;\n",
              "      display: none;\n",
              "      fill: #1967D2;\n",
              "      height: 32px;\n",
              "      padding: 0 0 0 0;\n",
              "      width: 32px;\n",
              "    }\n",
              "\n",
              "    .colab-df-convert:hover {\n",
              "      background-color: #E2EBFA;\n",
              "      box-shadow: 0px 1px 2px rgba(60, 64, 67, 0.3), 0px 1px 3px 1px rgba(60, 64, 67, 0.15);\n",
              "      fill: #174EA6;\n",
              "    }\n",
              "\n",
              "    [theme=dark] .colab-df-convert {\n",
              "      background-color: #3B4455;\n",
              "      fill: #D2E3FC;\n",
              "    }\n",
              "\n",
              "    [theme=dark] .colab-df-convert:hover {\n",
              "      background-color: #434B5C;\n",
              "      box-shadow: 0px 1px 3px 1px rgba(0, 0, 0, 0.15);\n",
              "      filter: drop-shadow(0px 1px 2px rgba(0, 0, 0, 0.3));\n",
              "      fill: #FFFFFF;\n",
              "    }\n",
              "  </style>\n",
              "\n",
              "      <script>\n",
              "        const buttonEl =\n",
              "          document.querySelector('#df-62e78c19-0cf2-4214-9cec-89c3798c4c0a button.colab-df-convert');\n",
              "        buttonEl.style.display =\n",
              "          google.colab.kernel.accessAllowed ? 'block' : 'none';\n",
              "\n",
              "        async function convertToInteractive(key) {\n",
              "          const element = document.querySelector('#df-62e78c19-0cf2-4214-9cec-89c3798c4c0a');\n",
              "          const dataTable =\n",
              "            await google.colab.kernel.invokeFunction('convertToInteractive',\n",
              "                                                     [key], {});\n",
              "          if (!dataTable) return;\n",
              "\n",
              "          const docLinkHtml = 'Like what you see? Visit the ' +\n",
              "            '<a target=\"_blank\" href=https://colab.research.google.com/notebooks/data_table.ipynb>data table notebook</a>'\n",
              "            + ' to learn more about interactive tables.';\n",
              "          element.innerHTML = '';\n",
              "          dataTable['output_type'] = 'display_data';\n",
              "          await google.colab.output.renderOutput(dataTable, element);\n",
              "          const docLink = document.createElement('div');\n",
              "          docLink.innerHTML = docLinkHtml;\n",
              "          element.appendChild(docLink);\n",
              "        }\n",
              "      </script>\n",
              "    </div>\n",
              "  </div>\n",
              "  "
            ]
          },
          "metadata": {},
          "execution_count": 6
        }
      ],
      "source": [
        "# change the order of cols\n",
        "new_cols = ['u_q','coolant','u_d','motor_speed','i_d','i_q','ambient', 'torque','pm','stator_yoke','stator_tooth','stator_winding','profile_id']\n",
        "df=df.reindex(columns=new_cols)\n",
        "df.head()"
      ]
    },
    {
      "cell_type": "code",
      "execution_count": 10,
      "metadata": {
        "id": "Olifhxiq2veA"
      },
      "outputs": [],
      "source": [
        "# split the dataset\n",
        "# Making the profile id 65 and 72 as the two testing sets and rest as the training set\n",
        "df_test1set = df[(df['profile_id'] == 72)]\n",
        "df_test2set = df[(df['profile_id'] == 65)]\n",
        "\n",
        "# Otherthan the 65 and 72, 20, 18 and 6 profiles will be removed to reduce the dataset size. Higher computations needed.\n",
        "df_trainset = df[(df['profile_id'] != 65) & (df['profile_id'] != 72) & (df['profile_id'] != 20) & (df['profile_id'] != 6) & (df['profile_id'] != 18) & (df['profile_id'] != 13) & (df['profile_id'] != 27) & (df['profile_id'] != 53) & (df['profile_id'] != 56) & (df['profile_id'] != 58)]\n",
        "# df_trainset = df[(df['profile_id'] == 20)]"
      ]
    },
    {
      "cell_type": "code",
      "execution_count": 11,
      "metadata": {
        "colab": {
          "base_uri": "https://localhost:8080/"
        },
        "id": "tvDqPmQR2vcV",
        "outputId": "b1edafa7-c394-422f-bcfb-085eb43a7f1f"
      },
      "outputs": [
        {
          "output_type": "stream",
          "name": "stderr",
          "text": [
            "/usr/local/lib/python3.7/dist-packages/pandas/core/frame.py:4913: SettingWithCopyWarning: \n",
            "A value is trying to be set on a copy of a slice from a DataFrame\n",
            "\n",
            "See the caveats in the documentation: https://pandas.pydata.org/pandas-docs/stable/user_guide/indexing.html#returning-a-view-versus-a-copy\n",
            "  errors=errors,\n"
          ]
        }
      ],
      "source": [
        "df_trainset.drop(['profile_id','torque'],axis = 1,inplace=True)\n",
        "df_test1set.drop(['profile_id','torque'],axis = 1,inplace=True)\n",
        "df_test2set.drop(['profile_id','torque'],axis = 1,inplace=True)"
      ]
    },
    {
      "cell_type": "markdown",
      "metadata": {
        "id": "yxwUei_YgAzv"
      },
      "source": [
        "# Preparing the training data set"
      ]
    },
    {
      "cell_type": "code",
      "execution_count": 12,
      "metadata": {
        "colab": {
          "base_uri": "https://localhost:8080/"
        },
        "id": "Z7lup36l2vaN",
        "outputId": "ded1944d-4f6e-4645-fa26-1a2cbca713df"
      },
      "outputs": [
        {
          "output_type": "execute_result",
          "data": {
            "text/plain": [
              "(983116, 11)"
            ]
          },
          "metadata": {},
          "execution_count": 12
        }
      ],
      "source": [
        "df_trainset.head()\n",
        "df_trainset.shape"
      ]
    },
    {
      "cell_type": "code",
      "execution_count": 13,
      "metadata": {
        "colab": {
          "base_uri": "https://localhost:8080/"
        },
        "id": "W8N3Z-qN2ukp",
        "outputId": "f71ed1f5-95bf-47e5-dc5c-554673baa3a0"
      },
      "outputs": [
        {
          "output_type": "stream",
          "name": "stdout",
          "text": [
            "['u_q', 'coolant', 'u_d', 'motor_speed', 'i_d', 'i_q', 'ambient', 'pm', 'stator_yoke', 'stator_tooth', 'stator_winding']\n"
          ]
        }
      ],
      "source": [
        "cols = list(df_trainset)[0:12]\n",
        "print(cols)"
      ]
    },
    {
      "cell_type": "code",
      "execution_count": 14,
      "metadata": {
        "id": "kWdZCbq95aPG"
      },
      "outputs": [],
      "source": [
        "#New dataframe with only training data - 12 columns\n",
        "df_for_training = df_trainset[cols].astype(float)"
      ]
    },
    {
      "cell_type": "code",
      "execution_count": 15,
      "metadata": {
        "id": "mOruT8cw5aC6"
      },
      "outputs": [],
      "source": [
        "#LSTM uses sigmoid and tanh that are sensitive to magnitude so values need to be normalized\n",
        "# normalize the dataset\n",
        "scaler = StandardScaler()\n",
        "scaler = scaler.fit(df_for_training)\n",
        "df_for_training_scaled = scaler.transform(df_for_training)"
      ]
    },
    {
      "cell_type": "code",
      "execution_count": 16,
      "metadata": {
        "colab": {
          "base_uri": "https://localhost:8080/"
        },
        "id": "qxc0z2bO5Z-4",
        "outputId": "993ad63c-ade1-47d7-8c9b-313cbfee44e5"
      },
      "outputs": [
        {
          "output_type": "execute_result",
          "data": {
            "text/plain": [
              "(983116, 11)"
            ]
          },
          "metadata": {},
          "execution_count": 16
        }
      ],
      "source": [
        "df_for_training_scaled.shape"
      ]
    },
    {
      "cell_type": "code",
      "execution_count": 17,
      "metadata": {
        "id": "hfr3hn0P5Z6d"
      },
      "outputs": [],
      "source": [
        "#As required for LSTM networks, we require to reshape an input data into n_samples x timesteps x n_features. \n",
        "#In this example, the n_features is 12. We will make timesteps = 10 (past records data used for training). \n",
        "\n",
        "#Empty lists to be populated using formatted training data\n",
        "trainX = []\n",
        "trainY = []\n",
        "\n",
        "n_future = 1   # Number of records we want to look into the future based on the past records.\n",
        "n_past = 10  # Number of past records we want to use to predict the future."
      ]
    },
    {
      "cell_type": "code",
      "execution_count": 18,
      "metadata": {
        "colab": {
          "base_uri": "https://localhost:8080/"
        },
        "id": "hk8Yjo3I6x9U",
        "outputId": "af2abad7-669f-4c36-b918-1c4c492bb0dd"
      },
      "outputs": [
        {
          "output_type": "stream",
          "name": "stdout",
          "text": [
            "trainX shape == (983106, 10, 11).\n",
            "trainY shape == (983106, 1, 4).\n"
          ]
        }
      ],
      "source": [
        "#Reformat input data into a shape: (n_samples x timesteps x n_features)\n",
        "#Here df_for_training_scaled has a shape (983116, 12)\n",
        "#983116 refers to the number of data points and 12 refers to the columns (multi-variables).\n",
        "for i in range(n_past, len(df_for_training_scaled) - n_future +1):\n",
        "    trainX.append(df_for_training_scaled[i - n_past:i, 0:df_for_training.shape[1]])\n",
        "    trainY.append(df_for_training_scaled[i + n_future - 1:i + n_future, 7:12])   #here, 7:12 represnt the index of varibales we need to predict. Can update this to predict single varible \n",
        "\n",
        "trainX, trainY = np.array(trainX), np.array(trainY)\n",
        "\n",
        "print('trainX shape == {}.'.format(trainX.shape))\n",
        "print('trainY shape == {}.'.format(trainY.shape))"
      ]
    },
    {
      "cell_type": "code",
      "execution_count": 19,
      "metadata": {
        "colab": {
          "base_uri": "https://localhost:8080/"
        },
        "id": "cIOzl07o6x5m",
        "outputId": "4c733ca1-66e6-4eec-acde-98e5b4b387d1"
      },
      "outputs": [
        {
          "output_type": "stream",
          "name": "stdout",
          "text": [
            "[[-1.25896404 -0.80940053  0.39863082 -1.20882166  1.02368538 -0.39160665\n",
            "  -2.37881046 -1.82708059 -1.51839289 -1.70896308 -1.64992031]\n",
            " [-1.2561576  -0.80878908  0.39934023 -1.20882308  1.02362741 -0.39161894\n",
            "  -2.37882066 -1.82796087 -1.51847385 -1.70889245 -1.64971892]\n",
            " [-1.25874353 -0.80832368  0.39827095 -1.20882194  1.02363781 -0.391606\n",
            "  -2.37882882 -1.82760002 -1.51789674 -1.70892416 -1.64982489]\n",
            " [-1.25618654 -0.80801347  0.39917357 -1.20881989  1.02361859 -0.39158769\n",
            "  -2.37883392 -1.82709131 -1.51766665 -1.70899319 -1.65004843]\n",
            " [-1.2594238  -0.80703392  0.3989159  -1.20882151  1.02264046 -0.39119977\n",
            "  -2.378838   -1.82647054 -1.5178787  -1.70904271 -1.65006623]\n",
            " [-1.2609472  -0.8050025   0.40438928 -1.20881797  1.01428972 -0.38789265\n",
            "  -2.37884106 -1.82602301 -1.51802104 -1.70907824 -1.65025693]\n",
            " [-1.26351176 -0.80316971  0.40807234 -1.20882249  1.00833035 -0.38549189\n",
            "  -2.3788431  -1.82586058 -1.51811897 -1.70899395 -1.65034584]\n",
            " [-1.26587568 -0.80229583  0.41057657 -1.20882245  1.00403219 -0.38381208\n",
            "  -2.37884412 -1.82594944 -1.51848908 -1.70892654 -1.65006717]\n",
            " [-1.26517346 -0.80171702  0.41300568 -1.20882291  1.00095915 -0.382587\n",
            "  -2.37884514 -1.82637876 -1.51888206 -1.70901888 -1.64996033]\n",
            " [-1.26847933 -0.80106596  0.41352384 -1.2088239   0.99877108 -0.38169638\n",
            "  -2.37884616 -1.82713366 -1.51914599 -1.70922917 -1.65029508]]\n",
            "[[-1.82817084 -1.51895876 -1.70926165 -1.65022363]]\n"
          ]
        }
      ],
      "source": [
        "print(trainX[0])\n",
        "print(trainY[0])"
      ]
    },
    {
      "cell_type": "markdown",
      "metadata": {
        "id": "2Rvr6aswgQhP"
      },
      "source": [
        "# Preparing the testing data set"
      ]
    },
    {
      "cell_type": "code",
      "execution_count": 20,
      "metadata": {
        "colab": {
          "base_uri": "https://localhost:8080/"
        },
        "id": "_7SHMV74gcp2",
        "outputId": "a12c18d0-9d58-4158-c8dd-372deff2abf6"
      },
      "outputs": [
        {
          "output_type": "stream",
          "name": "stdout",
          "text": [
            "              u_q    coolant        u_d  motor_speed        i_d         i_q  \\\n",
            "984807  -1.887356  30.721162   1.946434     0.022686  -2.001102    1.098022   \n",
            "984808   0.604919  30.721209   0.109622    27.444022  -8.944310   26.184500   \n",
            "984809   4.665253  30.721242  -6.753488   116.920677 -35.659968   80.725465   \n",
            "984810   9.206368  30.721266 -16.699363   251.384409 -59.658771  125.454513   \n",
            "984811  14.197583  30.720804 -28.559625   418.588814 -77.320911  158.080952   \n",
            "\n",
            "          ambient         pm  stator_yoke  stator_tooth  stator_winding  \n",
            "984807  23.886441  37.112483    30.660012     31.291477       32.113178  \n",
            "984808  23.885538  37.111457    30.708855     31.296847       32.115623  \n",
            "984809  23.883657  37.116662    30.743853     31.283346       32.122736  \n",
            "984810  23.880380  36.924837    30.777050     31.283340       32.130268  \n",
            "984811  23.874869  36.922961    30.820728     31.212032       32.117775  \n",
            "(15301, 11)\n",
            "              u_q    coolant       u_d  motor_speed        i_d        i_q  \\\n",
            "1042494 -0.060301  24.572270 -0.044640  3028.577653 -16.682717 -22.554878   \n",
            "1042495 -0.098472  24.549411 -0.087538  3277.195135 -32.674103 -36.837572   \n",
            "1042496 -0.134579  24.529792 -0.137843  3526.252702 -51.436325 -50.341317   \n",
            "1042497 -0.163837  24.506268 -0.188305  3775.622429 -70.247635 -61.302441   \n",
            "1042498 -0.185884  24.494794 -0.235406  4025.182345 -87.820645 -69.577852   \n",
            "\n",
            "           ambient         pm  stator_yoke  stator_tooth  stator_winding  \n",
            "1042494  25.156664  26.037928    23.902619     24.759084       25.328268  \n",
            "1042495  25.158406  26.171841    23.906777     24.771273       25.332084  \n",
            "1042496  25.159215  25.995341    23.909756     24.780007       25.289755  \n",
            "1042497  25.157646  25.900132    23.910191     24.786265       25.284230  \n",
            "1042498  25.156261  25.862153    23.911742     24.790749       25.343128  \n",
            "(40094, 11)\n"
          ]
        }
      ],
      "source": [
        "print(df_test1set.head())\n",
        "print(df_test1set.shape)\n",
        "print(df_test2set.head())\n",
        "print(df_test2set.shape)"
      ]
    },
    {
      "cell_type": "code",
      "execution_count": 21,
      "metadata": {
        "colab": {
          "base_uri": "https://localhost:8080/"
        },
        "id": "YJUHt6KFgciL",
        "outputId": "ad45a6b4-cc6b-417f-d9d8-d254c06e1f91"
      },
      "outputs": [
        {
          "output_type": "stream",
          "name": "stdout",
          "text": [
            "['u_q', 'coolant', 'u_d', 'motor_speed', 'i_d', 'i_q', 'ambient', 'pm', 'stator_yoke', 'stator_tooth', 'stator_winding']\n"
          ]
        }
      ],
      "source": [
        "cols = list(df_test1set)[0:12]\n",
        "print(cols)"
      ]
    },
    {
      "cell_type": "code",
      "execution_count": 22,
      "metadata": {
        "id": "t46sJbOJgcYB"
      },
      "outputs": [],
      "source": [
        "#New dataframe with only training data - 11 columns\n",
        "df_for_testing1 = df_test1set[cols].astype(float)\n",
        "df_for_testing2 = df_test2set[cols].astype(float)"
      ]
    },
    {
      "cell_type": "code",
      "execution_count": 23,
      "metadata": {
        "id": "AMuP7c1dgcOG"
      },
      "outputs": [],
      "source": [
        "#LSTM uses sigmoid and tanh that are sensitive to magnitude so values need to be normalized\n",
        "# normalize the testing 1 dataset\n",
        "scaler = StandardScaler()\n",
        "scaler = scaler.fit(df_for_testing1)\n",
        "df_for_testing1_scaled = scaler.transform(df_for_testing1)\n",
        "\n",
        "# normalize the testing 2 dataset\n",
        "scaler = StandardScaler()\n",
        "scaler = scaler.fit(df_for_testing2)\n",
        "df_for_testing2_scaled = scaler.transform(df_for_testing2)"
      ]
    },
    {
      "cell_type": "code",
      "execution_count": 24,
      "metadata": {
        "colab": {
          "base_uri": "https://localhost:8080/"
        },
        "id": "UybrbYBthZfH",
        "outputId": "9871e4e2-5de6-4842-c85f-a56cf90680eb"
      },
      "outputs": [
        {
          "output_type": "stream",
          "name": "stdout",
          "text": [
            "(15301, 11)\n",
            "(40094, 11)\n"
          ]
        }
      ],
      "source": [
        "print(df_for_testing1_scaled.shape)\n",
        "print(df_for_testing2_scaled.shape)"
      ]
    },
    {
      "cell_type": "code",
      "execution_count": 25,
      "metadata": {
        "id": "6C9Fc5c7hZS7"
      },
      "outputs": [],
      "source": [
        "#As required for LSTM networks, we require to reshape an input data into n_samples x timesteps x n_features. \n",
        "#In this example, the n_features is 12. We will make timesteps = 10 (past records data used for training). \n",
        "\n",
        "#Empty lists to be populated using formatted training data\n",
        "test1X = []\n",
        "test1Y = []\n",
        "test2X = []\n",
        "test2Y = []\n"
      ]
    },
    {
      "cell_type": "code",
      "execution_count": 26,
      "metadata": {
        "id": "DmK_Hk6I15qI"
      },
      "outputs": [],
      "source": [
        "n_future = 1   # Number of records we want to look into the future based on the past records.\n",
        "n_past = 10  # Number of past days we want to use to predict the future.\n",
        "n_feature_predict = 4"
      ]
    },
    {
      "cell_type": "code",
      "execution_count": 27,
      "metadata": {
        "colab": {
          "base_uri": "https://localhost:8080/"
        },
        "id": "o0yCoOfMheHr",
        "outputId": "9109b198-6194-4557-ac6b-b3de0324df79"
      },
      "outputs": [
        {
          "output_type": "stream",
          "name": "stdout",
          "text": [
            "test1X shape == (15291, 10, 11).\n",
            "test1Y shape == (15291, 1, 4).\n",
            "test2X shape == (40084, 10, 11).\n",
            "test2Y shape == (40084, 1, 4).\n"
          ]
        }
      ],
      "source": [
        "#Reformat input data into a shape: (n_samples x timesteps x n_features)\n",
        "#Here df_for_training_scaled has a shape (983116, 12)\n",
        "#983116 refers to the number of data points and 12 refers to the columns (multi-variables).\n",
        "\n",
        "#for testing set1\n",
        "for i in range(n_past, len(df_for_testing1_scaled) - n_future +1):\n",
        "    test1X.append(df_for_testing1_scaled[i - n_past:i, 0:df_for_testing1.shape[1]])\n",
        "    test1Y.append(df_for_testing1_scaled[i + n_future - 1:i + n_future, 7:12])   #here, 8:12 represnt the index of varibales we need to predict. Can update this to predict single varible \n",
        "\n",
        "test1X, test1Y = np.array(test1X), np.array(test1Y)\n",
        "\n",
        "print('test1X shape == {}.'.format(test1X.shape))\n",
        "print('test1Y shape == {}.'.format(test1Y.shape))\n",
        "\n",
        "\n",
        "\n",
        "\n",
        "#for testing set2\n",
        "for i in range(n_past, len(df_for_testing2_scaled) - n_future +1):\n",
        "    test2X.append(df_for_testing2_scaled[i - n_past:i, 0:df_for_testing2.shape[1]])\n",
        "    test2Y.append(df_for_testing2_scaled[i + n_future - 1:i + n_future, 7:12])   #here, 8:12 represnt the index of varibales we need to predict. Can update this to predict single varible \n",
        "\n",
        "test2X, test2Y = np.array(test2X), np.array(test2Y)\n",
        "\n",
        "print('test2X shape == {}.'.format(test2X.shape))\n",
        "print('test2Y shape == {}.'.format(test2Y.shape))"
      ]
    },
    {
      "cell_type": "code",
      "execution_count": 28,
      "metadata": {
        "colab": {
          "base_uri": "https://localhost:8080/"
        },
        "id": "ocqBVnz5hd8E",
        "outputId": "5a629f00-0a59-4904-9e10-c6059020b3fe"
      },
      "outputs": [
        {
          "output_type": "stream",
          "name": "stdout",
          "text": [
            "[[-8.78772845e-01 -7.56371740e-01  3.45559522e-02 -8.12250541e-01\n",
            "   7.50442825e-01 -4.51270049e-02 -1.80336035e+00 -2.24822679e+00\n",
            "  -1.15274113e+00 -1.35652784e+00 -1.47226284e+00]\n",
            " [-8.25551818e-01 -7.56369847e-01 -9.13754760e-05 -7.97354756e-01\n",
            "   6.23326560e-01  2.73478543e-01 -1.80566932e+00 -2.24833480e+00\n",
            "  -1.15037549e+00 -1.35626666e+00 -1.47215309e+00]\n",
            " [-7.38845823e-01 -7.56368490e-01 -1.29548453e-01 -7.48749358e-01\n",
            "   1.34216246e-01  9.66164622e-01 -1.81047760e+00 -2.24778655e+00\n",
            "  -1.14868043e+00 -1.35692325e+00 -1.47183376e+00]\n",
            " [-6.41873056e-01 -7.56367518e-01 -3.17154917e-01 -6.75706134e-01\n",
            "  -3.05153865e-01  1.53423651e+00 -1.81885482e+00 -2.26799373e+00\n",
            "  -1.14707256e+00 -1.35692357e+00 -1.47149565e+00]\n",
            " [-5.35288682e-01 -7.56386252e-01 -5.40871998e-01 -5.84877562e-01\n",
            "  -6.28512354e-01  1.94860176e+00 -1.83294313e+00 -2.26819135e+00\n",
            "  -1.14495711e+00 -1.36039158e+00 -1.47205650e+00]\n",
            " [-4.22180826e-01 -7.56391199e-01 -7.91230291e-01 -4.81303549e-01\n",
            "  -8.65055007e-01  2.25171862e+00 -1.83397880e+00 -2.23809152e+00\n",
            "  -1.14543801e+00 -1.36628321e+00 -1.47318809e+00]\n",
            " [-3.04218161e-01 -7.56383790e-01 -1.05754178e+00 -3.69738537e-01\n",
            "  -1.03705380e+00  2.47381327e+00 -1.82760840e+00 -2.23392424e+00\n",
            "  -1.14797530e+00 -1.36877558e+00 -1.47279806e+00]\n",
            " [-2.09006459e-01 -7.56378481e-01 -1.27294492e+00 -2.78836845e-01\n",
            "  -1.16293576e+00  2.63632066e+00 -1.82304381e+00 -2.20983986e+00\n",
            "  -1.14936741e+00 -1.36463695e+00 -1.47313821e+00]\n",
            " [-1.40365675e-01 -7.56374677e-01 -1.43102213e+00 -2.12444923e-01\n",
            "  -1.25575541e+00  2.75479621e+00 -1.84500372e+00 -2.23801538e+00\n",
            "  -1.15249878e+00 -1.36150095e+00 -1.47499341e+00]\n",
            " [-8.93499337e-02 -7.56371951e-01 -1.55279275e+00 -1.61885715e-01\n",
            "  -1.32732153e+00  2.84370792e+00 -1.83554088e+00 -2.27936997e+00\n",
            "  -1.15520527e+00 -1.35929015e+00 -1.47698497e+00]]\n",
            "[[-2.24404216 -1.15618169 -1.3583358  -1.4768043 ]]\n",
            "[[-1.02306099 -1.39451465 -0.20477431  0.45653373  0.7469841  -0.02825305\n",
            "  -1.9460081  -2.55417098 -1.84113679 -1.80773921 -1.71540056]\n",
            " [-1.02388237 -1.39594691 -0.20541789  0.58141676  0.49823643 -0.19766417\n",
            "  -1.94331872 -2.54537179 -1.8408965  -1.80716793 -1.71525963]\n",
            " [-1.02465934 -1.39717619 -0.20617259  0.70652084  0.20638812 -0.35783596\n",
            "  -1.94206955 -2.55696929 -1.84072432 -1.80675859 -1.71682292]\n",
            " [-1.02528893 -1.39865015 -0.20692963  0.83178172 -0.08622375 -0.48784899\n",
            "  -1.94449278 -2.56322529 -1.84069916 -1.80646529 -1.71702695]\n",
            " [-1.02576336 -1.39936909 -0.20763626  0.95713814 -0.35957375 -0.586006\n",
            "  -1.94663108 -2.56572087 -1.84060953 -1.80625513 -1.71485177]\n",
            " [-1.02609918 -1.39978384 -0.20827375  1.08254817 -0.60557467 -0.65605571\n",
            "  -1.94322914 -2.57829746 -1.84041844 -1.80610454 -1.71742115]\n",
            " [-1.02632699 -1.39986334 -0.20883282  1.20801416 -0.82222872 -0.70319437\n",
            "  -1.9592038  -2.56948492 -1.84041298 -1.80599664 -1.7183161 ]\n",
            " [-1.02646782 -1.39976003 -0.20931922  1.33352364 -1.01064525 -0.732321\n",
            "  -1.96861659 -2.56861288 -1.84023055 -1.80591933 -1.71671761]\n",
            " [-1.02653817 -1.398864   -0.20972149  1.44785948 -1.16656159 -0.74722824\n",
            "  -1.96337268 -2.56195166 -1.83954433 -1.80550555 -1.71369138]\n",
            " [-1.02659302 -1.39730007 -0.20999923  1.52507753 -1.27418886 -0.75859553\n",
            "  -1.94608195 -2.55724242 -1.83843726 -1.80503235 -1.71207643]]\n",
            "[[-2.55345207 -1.83789873 -1.80470906 -1.70976904]]\n"
          ]
        }
      ],
      "source": [
        "print(test1X[0])\n",
        "print(test1Y[0])\n",
        "print(test2X[0])\n",
        "print(test2Y[0])"
      ]
    },
    {
      "cell_type": "markdown",
      "metadata": {
        "id": "CTDXVxK2gXMN"
      },
      "source": [
        "# Model Development"
      ]
    },
    {
      "cell_type": "code",
      "execution_count": 29,
      "metadata": {
        "id": "C55cn-TFkpug"
      },
      "outputs": [],
      "source": [
        "from sklearn.ensemble import RandomForestRegressor\n",
        "from sklearn.model_selection import GridSearchCV\n",
        "from sklearn import neighbors\n",
        "from sklearn.tree import DecisionTreeRegressor\n",
        "from sklearn.pipeline import Pipeline\n"
      ]
    },
    {
      "cell_type": "code",
      "execution_count": 30,
      "metadata": {
        "id": "UjvfFxqsQBzT"
      },
      "outputs": [],
      "source": [
        "# Prepare the 3D arrays into required 2D formats\n",
        "\n",
        "# Training Sets\n",
        "trainX_new = trainX.reshape(trainX.shape[0],trainX.shape[1]*trainX.shape[2])\n",
        "trainY_new = trainY.reshape(trainY.shape[0],trainY.shape[1]*trainY.shape[2])"
      ]
    },
    {
      "cell_type": "code",
      "execution_count": 31,
      "metadata": {
        "colab": {
          "base_uri": "https://localhost:8080/"
        },
        "id": "SumStLVQkpuh",
        "outputId": "25672fe6-7add-414a-b122-cab7e8a82e0e"
      },
      "outputs": [
        {
          "output_type": "stream",
          "name": "stdout",
          "text": [
            "(983106, 110)\n",
            "(983106, 4)\n"
          ]
        }
      ],
      "source": [
        "print(trainX_new.shape)\n",
        "print(trainY_new.shape)"
      ]
    },
    {
      "cell_type": "code",
      "execution_count": 32,
      "metadata": {
        "colab": {
          "base_uri": "https://localhost:8080/"
        },
        "id": "tStpFSlzkpuh",
        "outputId": "735eda71-2388-4090-fa2f-3f54c377cd90"
      },
      "outputs": [
        {
          "output_type": "stream",
          "name": "stdout",
          "text": [
            "(15291, 110)\n",
            "(15291, 4)\n",
            "(40084, 110)\n",
            "(40084, 4)\n"
          ]
        }
      ],
      "source": [
        "# Reshaping Testing Sets\n",
        "test1X_new = test1X.reshape(test1X.shape[0],test1X.shape[1]*test1X.shape[2])\n",
        "test1Y_new = test1Y.reshape(test1Y.shape[0],test1Y.shape[1]*test1Y.shape[2])\n",
        "print(test1X_new.shape)\n",
        "print(test1Y_new.shape)\n",
        "\n",
        "test2X_new = test2X.reshape(test2X.shape[0],test2X.shape[1]*test2X.shape[2])\n",
        "test2Y_new = test2Y.reshape(test2Y.shape[0],test2Y.shape[1]*test2Y.shape[2])\n",
        "print(test2X_new.shape)\n",
        "print(test2Y_new.shape)"
      ]
    },
    {
      "cell_type": "markdown",
      "metadata": {
        "id": "YNBP6ybgkpui"
      },
      "source": [
        "# KNN"
      ]
    },
    {
      "cell_type": "code",
      "execution_count": 33,
      "metadata": {
        "id": "hqcKGUwYkpui"
      },
      "outputs": [],
      "source": [
        "# hyperparameter tuning to find out optimium value for n_neighbors. Initialy the range was high, due to run time the range reduced to 10. \n",
        "R2test = []\n",
        "MSEtest = []\n",
        "# Will take some time\n",
        "for i in range(1,10):\n",
        "    \n",
        "    knn = neighbors.KNeighborsRegressor(n_neighbors=i)\n",
        "    knn.fit(trainX_new,trainY_new)\n",
        "    pred_i = knn.predict(test1X_new)\n",
        "    \n",
        "    R2test.append(r2_score(test1Y_new, pred_i))\n",
        "    MSEtest.append(mean_squared_error(test1Y_new, pred_i))"
      ]
    },
    {
      "cell_type": "code",
      "execution_count": 34,
      "metadata": {
        "colab": {
          "base_uri": "https://localhost:8080/",
          "height": 424
        },
        "id": "zuNioxfAkpuj",
        "outputId": "0502cd0a-08f1-458a-b895-f32e6db7a809"
      },
      "outputs": [
        {
          "output_type": "execute_result",
          "data": {
            "text/plain": [
              "Text(0, 0.5, 'R^2 Rate')"
            ]
          },
          "metadata": {},
          "execution_count": 34
        },
        {
          "output_type": "display_data",
          "data": {
            "text/plain": [
              "<Figure size 720x432 with 1 Axes>"
            ],
            "image/png": "[encoded data removed]"
          },
          "metadata": {
            "needs_background": "light"
          }
        }
      ],
      "source": [
        "plt.figure(figsize=(10,6))\n",
        "plt.plot(range(1,10),R2test,color='red', linestyle='dashed', marker='o',\n",
        "         markerfacecolor='red', markersize=2, label=\"R^2\")\n",
        "\n",
        "plt.title('R^2 Rate vs. n_neighbour Value')\n",
        "plt.xlabel('n_neighbour')\n",
        "plt.ylabel('R^2 Rate')"
      ]
    },
    {
      "cell_type": "code",
      "execution_count": 35,
      "metadata": {
        "colab": {
          "base_uri": "https://localhost:8080/",
          "height": 315
        },
        "id": "kgK8uEnFkpuk",
        "outputId": "975e032f-f95d-4af9-b998-fc9dd8b169d0"
      },
      "outputs": [
        {
          "output_type": "execute_result",
          "data": {
            "text/plain": [
              "Text(0, 0.5, 'MSE Rate')"
            ]
          },
          "metadata": {},
          "execution_count": 35
        },
        {
          "output_type": "display_data",
          "data": {
            "text/plain": [
              "<Figure size 432x288 with 1 Axes>"
            ],
            "image/png": "[encoded data removed]"
          },
          "metadata": {
            "needs_background": "light"
          }
        }
      ],
      "source": [
        "plt.plot(range(1,10),MSEtest,color='blue', linestyle='dashed', marker='o',\n",
        "         markerfacecolor='red', markersize=2, label = \"MSE\")\n",
        "plt.title('Mean Squared Error vs. n_neighbour Value')\n",
        "plt.xlabel('n_neighbour')\n",
        "plt.ylabel('MSE Rate')"
      ]
    },
    {
      "cell_type": "markdown",
      "metadata": {
        "id": "HVVdutWPkpuk"
      },
      "source": [
        "Train the KNN model with the best neighbour count"
      ]
    },
    {
      "cell_type": "code",
      "execution_count": 36,
      "metadata": {
        "colab": {
          "base_uri": "https://localhost:8080/"
        },
        "id": "0Uec77xckpuk",
        "outputId": "b97150ae-7b01-4b36-b296-a691c55615a6"
      },
      "outputs": [
        {
          "output_type": "execute_result",
          "data": {
            "text/plain": [
              "KNeighborsRegressor(n_neighbors=9)"
            ]
          },
          "metadata": {},
          "execution_count": 36
        }
      ],
      "source": [
        "knn = neighbors.KNeighborsRegressor(n_neighbors=9)\n",
        "knn.fit(trainX_new,trainY_new)"
      ]
    },
    {
      "cell_type": "code",
      "execution_count": 37,
      "metadata": {
        "id": "fulBAhLmkpul"
      },
      "outputs": [],
      "source": [
        "# Predicting with two testing sets\n",
        "test1Y_pred = []\n",
        "test2Y_pred = []\n",
        "\n",
        "test1Y_pred= knn.predict(test1X_new)\n",
        "test2Y_pred= knn.predict(test2X_new)"
      ]
    },
    {
      "cell_type": "code",
      "execution_count": 38,
      "metadata": {
        "colab": {
          "base_uri": "https://localhost:8080/"
        },
        "id": "sqvpXwxVkpul",
        "outputId": "d38a94aa-950a-4fc4-ceb2-aad89f4b4413"
      },
      "outputs": [
        {
          "output_type": "stream",
          "name": "stdout",
          "text": [
            "test1 R2: [0.87941011 0.97278508 0.97857571 0.9548802 ]\n",
            "test1 average R2: 0.9464127755218275\n",
            "test2 R2: [0.91268845 0.9752156  0.97836773 0.95684282]\n",
            "test2 average R2: 0.955778652587283\n"
          ]
        }
      ],
      "source": [
        "r2_RF1 = []\n",
        "r2_RF2 = []\n",
        "\n",
        "# Predict R2 for test1 dataset\n",
        "r2_RF1 = r2_score(test1Y_new, test1Y_pred, multioutput='raw_values')\n",
        "print('test1 R2:', r2_RF1)\n",
        "print('test1 average R2:', np.mean(r2_RF1))\n",
        "\n",
        "# Predict R2 for test2 dataset\n",
        "r2_RF2 = r2_score(test2Y_new, test2Y_pred, multioutput='raw_values')\n",
        "print('test2 R2:', r2_RF2)\n",
        "print('test2 average R2:', np.mean(r2_RF2))"
      ]
    },
    {
      "cell_type": "code",
      "execution_count": 39,
      "metadata": {
        "colab": {
          "base_uri": "https://localhost:8080/"
        },
        "id": "i1BDGstXkpul",
        "outputId": "a9102bd7-007f-4ae5-8c4d-5c52b95d3abb"
      },
      "outputs": [
        {
          "output_type": "stream",
          "name": "stdout",
          "text": [
            "test1 MSE: [0.12026994 0.02720919 0.02141234 0.04508523]\n",
            "test1 average MSE: 0.05349417412577233\n",
            "test2 MSE: [0.08719031 0.02476963 0.02162005 0.04313624]\n",
            "test2 average MSE: 0.044179058331179376\n"
          ]
        }
      ],
      "source": [
        "mse_RF1 = []\n",
        "mse_RF2 = []\n",
        "\n",
        "# Predict R2 for test1 dataset\n",
        "\n",
        "mse_RF1 = mean_squared_error(test1Y_new, test1Y_pred, multioutput='raw_values')\n",
        "print('test1 MSE:', mse_RF1)\n",
        "print('test1 average MSE:', np.mean(mse_RF1))\n",
        "\n",
        "# Predict R2 for test2 dataset\n",
        "mse_RF2 = mean_squared_error(test2Y_new, test2Y_pred, multioutput='raw_values')\n",
        "print('test2 MSE:', mse_RF2)\n",
        "print('test2 average MSE:', np.mean(mse_RF2))"
      ]
    },
    {
      "cell_type": "code",
      "execution_count": 40,
      "metadata": {
        "colab": {
          "base_uri": "https://localhost:8080/"
        },
        "id": "O2uZ2GsLkpul",
        "outputId": "d83da02e-90b2-4128-f57f-5a8c3ec043cc"
      },
      "outputs": [
        {
          "output_type": "stream",
          "name": "stdout",
          "text": [
            "test1 MAE: [0.28476903 0.12547673 0.10795533 0.15471854]\n",
            "test1 average MAE: 0.16822990704197824\n",
            "test2 MAE: [0.24059722 0.12102872 0.10686675 0.15163424]\n",
            "test2 average MAE: 0.15503173143098814\n"
          ]
        }
      ],
      "source": [
        "mae_RF1 = []\n",
        "mae_RF2 = []\n",
        "\n",
        "# Predict mae for test1 dataset\n",
        "mae_RF1 = mean_absolute_error(test1Y_new, test1Y_pred, multioutput='raw_values')\n",
        "print('test1 MAE:', mae_RF1)\n",
        "print('test1 average MAE:', np.mean(mae_RF1))\n",
        "\n",
        "# Predict mae for test2 dataset\n",
        "mae_RF2 = mean_absolute_error(test2Y_new, test2Y_pred, multioutput='raw_values')\n",
        "print('test2 MAE:', mae_RF2)\n",
        "print('test2 average MAE:', np.mean(mae_RF2))"
      ]
    },
    {
      "cell_type": "markdown",
      "metadata": {
        "id": "faDVAEOSMqVS"
      },
      "source": [
        "# Random Forest"
      ]
    },
    {
      "cell_type": "markdown",
      "metadata": {
        "id": "0VH4tYFXkpun"
      },
      "source": [
        "Hyperparameter optimization"
      ]
    },
    {
      "cell_type": "code",
      "execution_count": 41,
      "metadata": {
        "id": "vMh-4wg0kpun"
      },
      "outputs": [],
      "source": [
        "# define the grid search parameters. Due to limited computation power, a very few configurations were used\n",
        "# n_estimators = [10, 20, 40, 60, 80, 100, 120]\n",
        "n_estimators = [10, 15]\n",
        "max_depth = [10, 30]\n",
        "param_grid = dict(n_estimators=n_estimators, max_depth=max_depth)\n",
        "\n",
        "RF_model = RandomForestRegressor(bootstrap=True, random_state=0)\n",
        "\n",
        "grid = GridSearchCV(estimator=RF_model, param_grid=param_grid, n_jobs=-1,  verbose=0)"
      ]
    },
    {
      "cell_type": "code",
      "execution_count": 42,
      "metadata": {
        "id": "24fgX4S86x17",
        "colab": {
          "base_uri": "https://localhost:8080/",
          "height": 387
        },
        "outputId": "2251c8a7-371d-4176-98e6-611da89f8848"
      },
      "outputs": [
        {
          "output_type": "stream",
          "name": "stderr",
          "text": [
            "/usr/local/lib/python3.7/dist-packages/joblib/externals/loky/process_executor.py:705: UserWarning: A worker stopped while some jobs were given to the executor. This can be caused by a too short worker timeout or by a memory leak.\n",
            "  \"timeout or by a memory leak.\", UserWarning\n"
          ]
        },
        {
          "output_type": "error",
          "ename": "KeyboardInterrupt",
          "evalue": "ignored",
          "traceback": [
            "\u001b[0;31m---------------------------------------------------------------------------\u001b[0m",
            "\u001b[0;31mKeyboardInterrupt\u001b[0m                         Traceback (most recent call last)",
            "\u001b[0;32m<ipython-input-42-af99dbf8e9e6>\u001b[0m in \u001b[0;36m<module>\u001b[0;34m()\u001b[0m\n\u001b[0;32m----> 1\u001b[0;31m \u001b[0mgrid_result\u001b[0m \u001b[0;34m=\u001b[0m \u001b[0mgrid\u001b[0m\u001b[0;34m.\u001b[0m\u001b[0mfit\u001b[0m\u001b[0;34m(\u001b[0m\u001b[0mtrainX_new\u001b[0m\u001b[0;34m,\u001b[0m \u001b[0mtrainY_new\u001b[0m\u001b[0;34m)\u001b[0m\u001b[0;34m\u001b[0m\u001b[0;34m\u001b[0m\u001b[0m\n\u001b[0m",
            "\u001b[0;32m/usr/local/lib/python3.7/dist-packages/sklearn/model_selection/_search.py\u001b[0m in \u001b[0;36mfit\u001b[0;34m(self, X, y, groups, **fit_params)\u001b[0m\n\u001b[1;32m    889\u001b[0m                 \u001b[0;32mreturn\u001b[0m \u001b[0mresults\u001b[0m\u001b[0;34m\u001b[0m\u001b[0;34m\u001b[0m\u001b[0m\n\u001b[1;32m    890\u001b[0m \u001b[0;34m\u001b[0m\u001b[0m\n\u001b[0;32m--> 891\u001b[0;31m             \u001b[0mself\u001b[0m\u001b[0;34m.\u001b[0m\u001b[0m_run_search\u001b[0m\u001b[0;34m(\u001b[0m\u001b[0mevaluate_candidates\u001b[0m\u001b[0;34m)\u001b[0m\u001b[0;34m\u001b[0m\u001b[0;34m\u001b[0m\u001b[0m\n\u001b[0m\u001b[1;32m    892\u001b[0m \u001b[0;34m\u001b[0m\u001b[0m\n\u001b[1;32m    893\u001b[0m             \u001b[0;31m# multimetric is determined here because in the case of a callable\u001b[0m\u001b[0;34m\u001b[0m\u001b[0;34m\u001b[0m\u001b[0;34m\u001b[0m\u001b[0m\n",
            "\u001b[0;32m/usr/local/lib/python3.7/dist-packages/sklearn/model_selection/_search.py\u001b[0m in \u001b[0;36m_run_search\u001b[0;34m(self, evaluate_candidates)\u001b[0m\n\u001b[1;32m   1390\u001b[0m     \u001b[0;32mdef\u001b[0m \u001b[0m_run_search\u001b[0m\u001b[0;34m(\u001b[0m\u001b[0mself\u001b[0m\u001b[0;34m,\u001b[0m \u001b[0mevaluate_candidates\u001b[0m\u001b[0;34m)\u001b[0m\u001b[0;34m:\u001b[0m\u001b[0;34m\u001b[0m\u001b[0;34m\u001b[0m\u001b[0m\n\u001b[1;32m   1391\u001b[0m         \u001b[0;34m\"\"\"Search all candidates in param_grid\"\"\"\u001b[0m\u001b[0;34m\u001b[0m\u001b[0;34m\u001b[0m\u001b[0m\n\u001b[0;32m-> 1392\u001b[0;31m         \u001b[0mevaluate_candidates\u001b[0m\u001b[0;34m(\u001b[0m\u001b[0mParameterGrid\u001b[0m\u001b[0;34m(\u001b[0m\u001b[0mself\u001b[0m\u001b[0;34m.\u001b[0m\u001b[0mparam_grid\u001b[0m\u001b[0;34m)\u001b[0m\u001b[0;34m)\u001b[0m\u001b[0;34m\u001b[0m\u001b[0;34m\u001b[0m\u001b[0m\n\u001b[0m\u001b[1;32m   1393\u001b[0m \u001b[0;34m\u001b[0m\u001b[0m\n\u001b[1;32m   1394\u001b[0m \u001b[0;34m\u001b[0m\u001b[0m\n",
            "\u001b[0;32m/usr/local/lib/python3.7/dist-packages/sklearn/model_selection/_search.py\u001b[0m in \u001b[0;36mevaluate_candidates\u001b[0;34m(candidate_params, cv, more_results)\u001b[0m\n\u001b[1;32m    849\u001b[0m                     )\n\u001b[1;32m    850\u001b[0m                     for (cand_idx, parameters), (split_idx, (train, test)) in product(\n\u001b[0;32m--> 851\u001b[0;31m                         \u001b[0menumerate\u001b[0m\u001b[0;34m(\u001b[0m\u001b[0mcandidate_params\u001b[0m\u001b[0;34m)\u001b[0m\u001b[0;34m,\u001b[0m \u001b[0menumerate\u001b[0m\u001b[0;34m(\u001b[0m\u001b[0mcv\u001b[0m\u001b[0;34m.\u001b[0m\u001b[0msplit\u001b[0m\u001b[0;34m(\u001b[0m\u001b[0mX\u001b[0m\u001b[0;34m,\u001b[0m \u001b[0my\u001b[0m\u001b[0;34m,\u001b[0m \u001b[0mgroups\u001b[0m\u001b[0;34m)\u001b[0m\u001b[0;34m)\u001b[0m\u001b[0;34m\u001b[0m\u001b[0;34m\u001b[0m\u001b[0m\n\u001b[0m\u001b[1;32m    852\u001b[0m                     )\n\u001b[1;32m    853\u001b[0m                 )\n",
            "\u001b[0;32m/usr/local/lib/python3.7/dist-packages/joblib/parallel.py\u001b[0m in \u001b[0;36m__call__\u001b[0;34m(self, iterable)\u001b[0m\n\u001b[1;32m   1054\u001b[0m \u001b[0;34m\u001b[0m\u001b[0m\n\u001b[1;32m   1055\u001b[0m             \u001b[0;32mwith\u001b[0m \u001b[0mself\u001b[0m\u001b[0;34m.\u001b[0m\u001b[0m_backend\u001b[0m\u001b[0;34m.\u001b[0m\u001b[0mretrieval_context\u001b[0m\u001b[0;34m(\u001b[0m\u001b[0;34m)\u001b[0m\u001b[0;34m:\u001b[0m\u001b[0;34m\u001b[0m\u001b[0;34m\u001b[0m\u001b[0m\n\u001b[0;32m-> 1056\u001b[0;31m                 \u001b[0mself\u001b[0m\u001b[0;34m.\u001b[0m\u001b[0mretrieve\u001b[0m\u001b[0;34m(\u001b[0m\u001b[0;34m)\u001b[0m\u001b[0;34m\u001b[0m\u001b[0;34m\u001b[0m\u001b[0m\n\u001b[0m\u001b[1;32m   1057\u001b[0m             \u001b[0;31m# Make sure that we get a last message telling us we are done\u001b[0m\u001b[0;34m\u001b[0m\u001b[0;34m\u001b[0m\u001b[0;34m\u001b[0m\u001b[0m\n\u001b[1;32m   1058\u001b[0m             \u001b[0melapsed_time\u001b[0m \u001b[0;34m=\u001b[0m \u001b[0mtime\u001b[0m\u001b[0;34m.\u001b[0m\u001b[0mtime\u001b[0m\u001b[0;34m(\u001b[0m\u001b[0;34m)\u001b[0m \u001b[0;34m-\u001b[0m \u001b[0mself\u001b[0m\u001b[0;34m.\u001b[0m\u001b[0m_start_time\u001b[0m\u001b[0;34m\u001b[0m\u001b[0;34m\u001b[0m\u001b[0m\n",
            "\u001b[0;32m/usr/local/lib/python3.7/dist-packages/joblib/parallel.py\u001b[0m in \u001b[0;36mretrieve\u001b[0;34m(self)\u001b[0m\n\u001b[1;32m    933\u001b[0m             \u001b[0;32mtry\u001b[0m\u001b[0;34m:\u001b[0m\u001b[0;34m\u001b[0m\u001b[0;34m\u001b[0m\u001b[0m\n\u001b[1;32m    934\u001b[0m                 \u001b[0;32mif\u001b[0m \u001b[0mgetattr\u001b[0m\u001b[0;34m(\u001b[0m\u001b[0mself\u001b[0m\u001b[0;34m.\u001b[0m\u001b[0m_backend\u001b[0m\u001b[0;34m,\u001b[0m \u001b[0;34m'supports_timeout'\u001b[0m\u001b[0;34m,\u001b[0m \u001b[0;32mFalse\u001b[0m\u001b[0;34m)\u001b[0m\u001b[0;34m:\u001b[0m\u001b[0;34m\u001b[0m\u001b[0;34m\u001b[0m\u001b[0m\n\u001b[0;32m--> 935\u001b[0;31m                     \u001b[0mself\u001b[0m\u001b[0;34m.\u001b[0m\u001b[0m_output\u001b[0m\u001b[0;34m.\u001b[0m\u001b[0mextend\u001b[0m\u001b[0;34m(\u001b[0m\u001b[0mjob\u001b[0m\u001b[0;34m.\u001b[0m\u001b[0mget\u001b[0m\u001b[0;34m(\u001b[0m\u001b[0mtimeout\u001b[0m\u001b[0;34m=\u001b[0m\u001b[0mself\u001b[0m\u001b[0;34m.\u001b[0m\u001b[0mtimeout\u001b[0m\u001b[0;34m)\u001b[0m\u001b[0;34m)\u001b[0m\u001b[0;34m\u001b[0m\u001b[0;34m\u001b[0m\u001b[0m\n\u001b[0m\u001b[1;32m    936\u001b[0m                 \u001b[0;32melse\u001b[0m\u001b[0;34m:\u001b[0m\u001b[0;34m\u001b[0m\u001b[0;34m\u001b[0m\u001b[0m\n\u001b[1;32m    937\u001b[0m                     \u001b[0mself\u001b[0m\u001b[0;34m.\u001b[0m\u001b[0m_output\u001b[0m\u001b[0;34m.\u001b[0m\u001b[0mextend\u001b[0m\u001b[0;34m(\u001b[0m\u001b[0mjob\u001b[0m\u001b[0;34m.\u001b[0m\u001b[0mget\u001b[0m\u001b[0;34m(\u001b[0m\u001b[0;34m)\u001b[0m\u001b[0;34m)\u001b[0m\u001b[0;34m\u001b[0m\u001b[0;34m\u001b[0m\u001b[0m\n",
            "\u001b[0;32m/usr/local/lib/python3.7/dist-packages/joblib/_parallel_backends.py\u001b[0m in \u001b[0;36mwrap_future_result\u001b[0;34m(future, timeout)\u001b[0m\n\u001b[1;32m    540\u001b[0m         AsyncResults.get from multiprocessing.\"\"\"\n\u001b[1;32m    541\u001b[0m         \u001b[0;32mtry\u001b[0m\u001b[0;34m:\u001b[0m\u001b[0;34m\u001b[0m\u001b[0;34m\u001b[0m\u001b[0m\n\u001b[0;32m--> 542\u001b[0;31m             \u001b[0;32mreturn\u001b[0m \u001b[0mfuture\u001b[0m\u001b[0;34m.\u001b[0m\u001b[0mresult\u001b[0m\u001b[0;34m(\u001b[0m\u001b[0mtimeout\u001b[0m\u001b[0;34m=\u001b[0m\u001b[0mtimeout\u001b[0m\u001b[0;34m)\u001b[0m\u001b[0;34m\u001b[0m\u001b[0;34m\u001b[0m\u001b[0m\n\u001b[0m\u001b[1;32m    543\u001b[0m         \u001b[0;32mexcept\u001b[0m \u001b[0mCfTimeoutError\u001b[0m \u001b[0;32mas\u001b[0m \u001b[0me\u001b[0m\u001b[0;34m:\u001b[0m\u001b[0;34m\u001b[0m\u001b[0;34m\u001b[0m\u001b[0m\n\u001b[1;32m    544\u001b[0m             \u001b[0;32mraise\u001b[0m \u001b[0mTimeoutError\u001b[0m \u001b[0;32mfrom\u001b[0m \u001b[0me\u001b[0m\u001b[0;34m\u001b[0m\u001b[0;34m\u001b[0m\u001b[0m\n",
            "\u001b[0;32m/usr/lib/python3.7/concurrent/futures/_base.py\u001b[0m in \u001b[0;36mresult\u001b[0;34m(self, timeout)\u001b[0m\n\u001b[1;32m    428\u001b[0m                 \u001b[0;32mreturn\u001b[0m \u001b[0mself\u001b[0m\u001b[0;34m.\u001b[0m\u001b[0m__get_result\u001b[0m\u001b[0;34m(\u001b[0m\u001b[0;34m)\u001b[0m\u001b[0;34m\u001b[0m\u001b[0;34m\u001b[0m\u001b[0m\n\u001b[1;32m    429\u001b[0m \u001b[0;34m\u001b[0m\u001b[0m\n\u001b[0;32m--> 430\u001b[0;31m             \u001b[0mself\u001b[0m\u001b[0;34m.\u001b[0m\u001b[0m_condition\u001b[0m\u001b[0;34m.\u001b[0m\u001b[0mwait\u001b[0m\u001b[0;34m(\u001b[0m\u001b[0mtimeout\u001b[0m\u001b[0;34m)\u001b[0m\u001b[0;34m\u001b[0m\u001b[0;34m\u001b[0m\u001b[0m\n\u001b[0m\u001b[1;32m    431\u001b[0m \u001b[0;34m\u001b[0m\u001b[0m\n\u001b[1;32m    432\u001b[0m             \u001b[0;32mif\u001b[0m \u001b[0mself\u001b[0m\u001b[0;34m.\u001b[0m\u001b[0m_state\u001b[0m \u001b[0;32min\u001b[0m \u001b[0;34m[\u001b[0m\u001b[0mCANCELLED\u001b[0m\u001b[0;34m,\u001b[0m \u001b[0mCANCELLED_AND_NOTIFIED\u001b[0m\u001b[0;34m]\u001b[0m\u001b[0;34m:\u001b[0m\u001b[0;34m\u001b[0m\u001b[0;34m\u001b[0m\u001b[0m\n",
            "\u001b[0;32m/usr/lib/python3.7/threading.py\u001b[0m in \u001b[0;36mwait\u001b[0;34m(self, timeout)\u001b[0m\n\u001b[1;32m    294\u001b[0m         \u001b[0;32mtry\u001b[0m\u001b[0;34m:\u001b[0m    \u001b[0;31m# restore state no matter what (e.g., KeyboardInterrupt)\u001b[0m\u001b[0;34m\u001b[0m\u001b[0;34m\u001b[0m\u001b[0m\n\u001b[1;32m    295\u001b[0m             \u001b[0;32mif\u001b[0m \u001b[0mtimeout\u001b[0m \u001b[0;32mis\u001b[0m \u001b[0;32mNone\u001b[0m\u001b[0;34m:\u001b[0m\u001b[0;34m\u001b[0m\u001b[0;34m\u001b[0m\u001b[0m\n\u001b[0;32m--> 296\u001b[0;31m                 \u001b[0mwaiter\u001b[0m\u001b[0;34m.\u001b[0m\u001b[0macquire\u001b[0m\u001b[0;34m(\u001b[0m\u001b[0;34m)\u001b[0m\u001b[0;34m\u001b[0m\u001b[0;34m\u001b[0m\u001b[0m\n\u001b[0m\u001b[1;32m    297\u001b[0m                 \u001b[0mgotit\u001b[0m \u001b[0;34m=\u001b[0m \u001b[0;32mTrue\u001b[0m\u001b[0;34m\u001b[0m\u001b[0;34m\u001b[0m\u001b[0m\n\u001b[1;32m    298\u001b[0m             \u001b[0;32melse\u001b[0m\u001b[0;34m:\u001b[0m\u001b[0;34m\u001b[0m\u001b[0;34m\u001b[0m\u001b[0m\n",
            "\u001b[0;31mKeyboardInterrupt\u001b[0m: "
          ]
        }
      ],
      "source": [
        "grid_result = grid.fit(trainX_new, trainY_new)"
      ]
    },
    {
      "cell_type": "code",
      "execution_count": null,
      "metadata": {
        "id": "zDOfv075kpuo"
      },
      "outputs": [],
      "source": [
        "print(\"\\n The best estimators across all searched params:\\n\",grid.best_estimator_)"
      ]
    },
    {
      "cell_type": "code",
      "execution_count": 52,
      "metadata": {
        "colab": {
          "base_uri": "https://localhost:8080/",
          "height": 385
        },
        "id": "S36h-4_Jkpuo",
        "outputId": "802bb045-abf9-45c1-a7cd-5991b4bf6d4e"
      },
      "outputs": [
        {
          "output_type": "error",
          "ename": "NotFittedError",
          "evalue": "ignored",
          "traceback": [
            "\u001b[0;31m---------------------------------------------------------------------------\u001b[0m",
            "\u001b[0;31mNotFittedError\u001b[0m                            Traceback (most recent call last)",
            "\u001b[0;32m<ipython-input-52-34778c8adfa1>\u001b[0m in \u001b[0;36m<module>\u001b[0;34m()\u001b[0m\n\u001b[1;32m      3\u001b[0m \u001b[0mtest2Y_pred\u001b[0m \u001b[0;34m=\u001b[0m \u001b[0;34m[\u001b[0m\u001b[0;34m]\u001b[0m\u001b[0;34m\u001b[0m\u001b[0;34m\u001b[0m\u001b[0m\n\u001b[1;32m      4\u001b[0m \u001b[0;34m\u001b[0m\u001b[0m\n\u001b[0;32m----> 5\u001b[0;31m \u001b[0mtest1Y_pred\u001b[0m\u001b[0;34m=\u001b[0m \u001b[0mRF_model\u001b[0m\u001b[0;34m.\u001b[0m\u001b[0mpredict\u001b[0m\u001b[0;34m(\u001b[0m\u001b[0mtest1X_new\u001b[0m\u001b[0;34m)\u001b[0m\u001b[0;34m\u001b[0m\u001b[0;34m\u001b[0m\u001b[0m\n\u001b[0m\u001b[1;32m      6\u001b[0m \u001b[0mtest2Y_pred\u001b[0m\u001b[0;34m=\u001b[0m \u001b[0mRF_model\u001b[0m\u001b[0;34m.\u001b[0m\u001b[0mpredict\u001b[0m\u001b[0;34m(\u001b[0m\u001b[0mtest2X_new\u001b[0m\u001b[0;34m)\u001b[0m\u001b[0;34m\u001b[0m\u001b[0;34m\u001b[0m\u001b[0m\n",
            "\u001b[0;32m/usr/local/lib/python3.7/dist-packages/sklearn/ensemble/_forest.py\u001b[0m in \u001b[0;36mpredict\u001b[0;34m(self, X)\u001b[0m\n\u001b[1;32m    967\u001b[0m             \u001b[0mThe\u001b[0m \u001b[0mpredicted\u001b[0m \u001b[0mvalues\u001b[0m\u001b[0;34m.\u001b[0m\u001b[0;34m\u001b[0m\u001b[0;34m\u001b[0m\u001b[0m\n\u001b[1;32m    968\u001b[0m         \"\"\"\n\u001b[0;32m--> 969\u001b[0;31m         \u001b[0mcheck_is_fitted\u001b[0m\u001b[0;34m(\u001b[0m\u001b[0mself\u001b[0m\u001b[0;34m)\u001b[0m\u001b[0;34m\u001b[0m\u001b[0;34m\u001b[0m\u001b[0m\n\u001b[0m\u001b[1;32m    970\u001b[0m         \u001b[0;31m# Check data\u001b[0m\u001b[0;34m\u001b[0m\u001b[0;34m\u001b[0m\u001b[0;34m\u001b[0m\u001b[0m\n\u001b[1;32m    971\u001b[0m         \u001b[0mX\u001b[0m \u001b[0;34m=\u001b[0m \u001b[0mself\u001b[0m\u001b[0;34m.\u001b[0m\u001b[0m_validate_X_predict\u001b[0m\u001b[0;34m(\u001b[0m\u001b[0mX\u001b[0m\u001b[0;34m)\u001b[0m\u001b[0;34m\u001b[0m\u001b[0;34m\u001b[0m\u001b[0m\n",
            "\u001b[0;32m/usr/local/lib/python3.7/dist-packages/sklearn/utils/validation.py\u001b[0m in \u001b[0;36mcheck_is_fitted\u001b[0;34m(estimator, attributes, msg, all_or_any)\u001b[0m\n\u001b[1;32m   1220\u001b[0m \u001b[0;34m\u001b[0m\u001b[0m\n\u001b[1;32m   1221\u001b[0m     \u001b[0;32mif\u001b[0m \u001b[0;32mnot\u001b[0m \u001b[0mfitted\u001b[0m\u001b[0;34m:\u001b[0m\u001b[0;34m\u001b[0m\u001b[0;34m\u001b[0m\u001b[0m\n\u001b[0;32m-> 1222\u001b[0;31m         \u001b[0;32mraise\u001b[0m \u001b[0mNotFittedError\u001b[0m\u001b[0;34m(\u001b[0m\u001b[0mmsg\u001b[0m \u001b[0;34m%\u001b[0m \u001b[0;34m{\u001b[0m\u001b[0;34m\"name\"\u001b[0m\u001b[0;34m:\u001b[0m \u001b[0mtype\u001b[0m\u001b[0;34m(\u001b[0m\u001b[0mestimator\u001b[0m\u001b[0;34m)\u001b[0m\u001b[0;34m.\u001b[0m\u001b[0m__name__\u001b[0m\u001b[0;34m}\u001b[0m\u001b[0;34m)\u001b[0m\u001b[0;34m\u001b[0m\u001b[0;34m\u001b[0m\u001b[0m\n\u001b[0m\u001b[1;32m   1223\u001b[0m \u001b[0;34m\u001b[0m\u001b[0m\n\u001b[1;32m   1224\u001b[0m \u001b[0;34m\u001b[0m\u001b[0m\n",
            "\u001b[0;31mNotFittedError\u001b[0m: This RandomForestRegressor instance is not fitted yet. Call 'fit' with appropriate arguments before using this estimator."
          ]
        }
      ],
      "source": [
        "# Predicting with two testing sets\n",
        "test1Y_pred = []\n",
        "test2Y_pred = []\n",
        "\n",
        "test1Y_pred= RF_model.predict(test1X_new)\n",
        "test2Y_pred= RF_model.predict(test2X_new)"
      ]
    },
    {
      "cell_type": "code",
      "execution_count": null,
      "metadata": {
        "id": "8lgPApvOkpup"
      },
      "outputs": [],
      "source": [
        "r2_RF1 = []\n",
        "r2_RF2 = []\n",
        "\n",
        "# Predict R2 for test1 dataset\n",
        "r2_RF1 = r2_score(test1Y_new, test1Y_pred, multioutput='raw_values')\n",
        "print('test1 R2:', r2_RF1)\n",
        "print('test1 average R2:', np.mean(r2_RF1))\n",
        "\n",
        "# Predict R2 for test2 dataset\n",
        "r2_RF2 = r2_score(test2Y_new, test2Y_pred, multioutput='raw_values')\n",
        "print('test2 R2:', r2_RF2)\n",
        "print('test2 average R2:', np.mean(r2_RF2))"
      ]
    },
    {
      "cell_type": "code",
      "execution_count": null,
      "metadata": {
        "id": "Ef7Fgcrokpup"
      },
      "outputs": [],
      "source": [
        "mse_RF1 = []\n",
        "mse_RF2 = []\n",
        "\n",
        "# Predict R2 for test1 dataset\n",
        "\n",
        "mse_RF1 = mean_squared_error(test1Y_new, test1Y_pred, multioutput='raw_values')\n",
        "print('test1 MSE:', mse_RF1)\n",
        "print('test1 average MSE:', np.mean(mse_RF1))\n",
        "\n",
        "# Predict R2 for test2 dataset\n",
        "mse_RF2 = mean_squared_error(test2Y_new, test2Y_pred, multioutput='raw_values')\n",
        "print('test2 MSE:', mse_RF2)\n",
        "print('test2 average MSE:', np.mean(mse_RF2))"
      ]
    },
    {
      "cell_type": "code",
      "execution_count": null,
      "metadata": {
        "id": "PID8aphFkpuq"
      },
      "outputs": [],
      "source": [
        "mae_RF1 = []\n",
        "mae_RF2 = []\n",
        "\n",
        "# Predict mae for test1 dataset\n",
        "mae_RF1 = mean_absolute_error(test1Y_new, test1Y_pred, multioutput='raw_values')\n",
        "print('test1 MAE:', mae_RF1)\n",
        "print('test1 average MAE:', np.mean(mae_RF1))\n",
        "\n",
        "# Predict mae for test2 dataset\n",
        "mae_RF2 = mean_absolute_error(test2Y_new, test2Y_pred, multioutput='raw_values')\n",
        "print('test2 MAE:', mae_RF2)\n",
        "print('test2 average MAE:', np.mean(mae_RF2))"
      ]
    },
    {
      "cell_type": "code",
      "execution_count": null,
      "metadata": {
        "id": "OYz6ffEQkpur"
      },
      "outputs": [],
      "source": [
        "# Predicting with two testing sets\n",
        "test1Y_pred = []\n",
        "test2Y_pred = []\n",
        "\n",
        "test1Y_pred= grid.predict(test1X_new)\n",
        "test2Y_pred= grid.predict(test2X_new)"
      ]
    },
    {
      "cell_type": "code",
      "execution_count": null,
      "metadata": {
        "id": "BkSgq0pLkpur"
      },
      "outputs": [],
      "source": [
        "r2_RF1 = []\n",
        "r2_RF2 = []\n",
        "\n",
        "# Predict R2 for test1 dataset\n",
        "r2_RF1 = r2_score(test1Y_new, test1Y_pred, multioutput='raw_values')\n",
        "print('test1 R2:', r2_RF1)\n",
        "print('test1 average R2:', np.mean(r2_RF1))\n",
        "\n",
        "# Predict R2 for test2 dataset\n",
        "r2_RF2 = r2_score(test2Y_new, test2Y_pred, multioutput='raw_values')\n",
        "print('test2 R2:', r2_RF2)\n",
        "print('test2 average R2:', np.mean(r2_RF2))"
      ]
    },
    {
      "cell_type": "code",
      "execution_count": null,
      "metadata": {
        "id": "_26hfI6Hkpur"
      },
      "outputs": [],
      "source": [
        "mse_RF1 = []\n",
        "mse_RF2 = []\n",
        "\n",
        "# Predict R2 for test1 dataset\n",
        "\n",
        "mse_RF1 = mean_squared_error(test1Y_new, test1Y_pred, multioutput='raw_values')\n",
        "print('test1 MSE:', mse_RF1)\n",
        "print('test1 average MSE:', np.mean(mse_RF1))\n",
        "\n",
        "# Predict R2 for test2 dataset\n",
        "mse_RF2 = mean_squared_error(test2Y_new, test2Y_pred, multioutput='raw_values')\n",
        "print('test2 MSE:', mse_RF2)\n",
        "print('test2 average MSE:', np.mean(mse_RF2))"
      ]
    },
    {
      "cell_type": "code",
      "execution_count": null,
      "metadata": {
        "id": "ZLS8lY3Ykpus"
      },
      "outputs": [],
      "source": [
        "mae_RF1 = []\n",
        "mae_RF2 = []\n",
        "\n",
        "# Predict mae for test1 dataset\n",
        "mae_RF1 = mean_absolute_error(test1Y_new, test1Y_pred, multioutput='raw_values')\n",
        "print('test1 MAE:', mae_RF1)\n",
        "print('test1 average MAE:', np.mean(mae_RF1))\n",
        "\n",
        "# Predict mae for test2 dataset\n",
        "mae_RF2 = mean_absolute_error(test2Y_new, test2Y_pred, multioutput='raw_values')\n",
        "print('test2 MAE:', mae_RF2)\n",
        "print('test2 average MAE:', np.mean(mae_RF2))"
      ]
    },
    {
      "cell_type": "markdown",
      "metadata": {
        "id": "lVcbnQG4kput"
      },
      "source": [
        "# Decision Tree"
      ]
    },
    {
      "cell_type": "code",
      "execution_count": 43,
      "metadata": {
        "id": "HMviPpR3kpuv"
      },
      "outputs": [],
      "source": [
        "dec_tree = DecisionTreeRegressor()\n",
        "scaler = StandardScaler()"
      ]
    },
    {
      "cell_type": "code",
      "execution_count": 44,
      "metadata": {
        "colab": {
          "base_uri": "https://localhost:8080/"
        },
        "id": "5w7DWjOKkpuw",
        "outputId": "b75d96c9-898e-4ecf-9fd8-cb5c483f8961"
      },
      "outputs": [
        {
          "output_type": "execute_result",
          "data": {
            "text/plain": [
              "Pipeline(steps=[('Standardscaler', StandardScaler()),\n",
              "                ('DecisionTree', DecisionTreeRegressor())])"
            ]
          },
          "metadata": {},
          "execution_count": 44
        }
      ],
      "source": [
        "pipe = Pipeline( steps = [('Standardscaler', scaler), ('DecisionTree', dec_tree)])\n",
        "\n",
        "pipe.fit(trainX_new, trainY_new)"
      ]
    },
    {
      "cell_type": "code",
      "execution_count": 45,
      "metadata": {
        "id": "HHhENrmfkpuy"
      },
      "outputs": [],
      "source": [
        "# Predicting with two testing sets\n",
        "test1Y_pred = []\n",
        "test2Y_pred = []\n",
        "\n",
        "test1Y_pred= pipe.predict(test1X_new)\n",
        "test2Y_pred= pipe.predict(test2X_new)"
      ]
    },
    {
      "cell_type": "code",
      "execution_count": 46,
      "metadata": {
        "colab": {
          "base_uri": "https://localhost:8080/"
        },
        "id": "GutQ8cL0kpuz",
        "outputId": "4548fb92-2220-459f-87e2-ccdc215fc9bb"
      },
      "outputs": [
        {
          "output_type": "stream",
          "name": "stdout",
          "text": [
            "test1 R2: [0.9890324  0.99345941 0.99429536 0.98887943]\n",
            "test1 average R2: 0.9914166492222719\n",
            "test2 R2: [0.96523359 0.98496325 0.98480824 0.9796654 ]\n",
            "test2 average R2: 0.9786676211485045\n"
          ]
        }
      ],
      "source": [
        "r2_DT1 = []\n",
        "r2_DT2 = []\n",
        "\n",
        "# Predict R2 for test1 dataset\n",
        "r2_DT1 = r2_score(test1Y_new, test1Y_pred, multioutput='raw_values')\n",
        "print('test1 R2:', r2_DT1)\n",
        "print('test1 average R2:', np.mean(r2_DT1))\n",
        "\n",
        "# Predict R2 for test2 dataset\n",
        "r2_DT2 = r2_score(test2Y_new, test2Y_pred, multioutput='raw_values')\n",
        "print('test2 R2:', r2_DT2)\n",
        "print('test2 average R2:', np.mean(r2_DT2))"
      ]
    },
    {
      "cell_type": "code",
      "execution_count": 47,
      "metadata": {
        "colab": {
          "base_uri": "https://localhost:8080/"
        },
        "id": "A4IChL_Lkpu0",
        "outputId": "e9bf3c26-2b9f-4890-9c27-671744b99e74"
      },
      "outputs": [
        {
          "output_type": "stream",
          "name": "stdout",
          "text": [
            "test1 MSE: [0.0109385  0.00653922 0.00570146 0.01111205]\n",
            "test1 average MSE: 0.008572806174374361\n",
            "test2 MSE: [0.03471814 0.01502779 0.01518318 0.02032473]\n",
            "test2 average MSE: 0.02131345961647914\n"
          ]
        }
      ],
      "source": [
        "mse_DT1 = []\n",
        "mse_DT2 = []\n",
        "\n",
        "# Predict R2 for test1 dataset\n",
        "\n",
        "mse_DT1 = mean_squared_error(test1Y_new, test1Y_pred, multioutput='raw_values')\n",
        "print('test1 MSE:', mse_DT1)\n",
        "print('test1 average MSE:', np.mean(mse_DT1))\n",
        "\n",
        "# Predict R2 for test2 dataset\n",
        "mse_DT2 = mean_squared_error(test2Y_new, test2Y_pred, multioutput='raw_values')\n",
        "print('test2 MSE:', mse_DT2)\n",
        "print('test2 average MSE:', np.mean(mse_DT2))"
      ]
    },
    {
      "cell_type": "code",
      "execution_count": 48,
      "metadata": {
        "colab": {
          "base_uri": "https://localhost:8080/"
        },
        "id": "m2ajWMVAkpu1",
        "outputId": "5b00cf38-e131-4a7d-df7c-ac330530a834"
      },
      "outputs": [
        {
          "output_type": "stream",
          "name": "stdout",
          "text": [
            "test1 MAE: [0.07210284 0.0581748  0.0512364  0.07210469]\n",
            "test1 average MAE: 0.06340468220049426\n",
            "test2 MAE: [0.07609676 0.07806618 0.04651302 0.0627381 ]\n",
            "test2 average MAE: 0.0658535125796973\n"
          ]
        }
      ],
      "source": [
        "mae_DT1 = []\n",
        "mae_DT2 = []\n",
        "\n",
        "# Predict mae for test1 dataset\n",
        "mae_DT1 = mean_absolute_error(test1Y_new, test1Y_pred, multioutput='raw_values')\n",
        "print('test1 MAE:', mae_DT1)\n",
        "print('test1 average MAE:', np.mean(mae_DT1))\n",
        "\n",
        "# Predict mae for test2 dataset\n",
        "mae_DT2 = mean_absolute_error(test2Y_new, test2Y_pred, multioutput='raw_values')\n",
        "print('test2 MAE:', mae_DT2)\n",
        "print('test2 average MAE:', np.mean(mae_DT2))"
      ]
    },
    {
      "cell_type": "markdown",
      "metadata": {
        "id": "G7iKF8sgkpu2"
      },
      "source": [
        "# Linear Regression"
      ]
    },
    {
      "cell_type": "code",
      "execution_count": 53,
      "metadata": {
        "id": "kmccLbhSkpu2"
      },
      "outputs": [],
      "source": [
        "# pip install statsmodels "
      ]
    },
    {
      "cell_type": "code",
      "execution_count": 61,
      "metadata": {
        "colab": {
          "base_uri": "https://localhost:8080/"
        },
        "id": "pgkffr_Rkpu2",
        "outputId": "0b54cc9c-be6a-463f-82d0-efd25c95e261"
      },
      "outputs": [
        {
          "output_type": "stream",
          "name": "stderr",
          "text": [
            "/usr/local/lib/python3.7/dist-packages/statsmodels/tools/_testing.py:19: FutureWarning: pandas.util.testing is deprecated. Use the functions in the public API at pandas.testing instead.\n",
            "  import pandas.util.testing as tm\n"
          ]
        }
      ],
      "source": [
        "from sklearn.linear_model import LinearRegression\n",
        "import statsmodels.api as sm\n",
        "\n",
        "model = LinearRegression(n_jobs=-1)\n",
        "\n",
        "# Adding a constant will added to ensures that the model will be unbiased, in other words, the mean of the residuals will be zero.\n",
        "X_train_const = sm.add_constant(trainX_new)\n",
        "\n",
        "lin_reg = model.fit(X_train_const, trainY_new)\n"
      ]
    },
    {
      "cell_type": "code",
      "execution_count": 62,
      "metadata": {
        "id": "2WnRvRmTkpu2"
      },
      "outputs": [],
      "source": [
        "# Adding a constant will added to ensures that the model will be unbiased, in other words, the mean of the residuals will be zero.\n",
        "X_test1_const = sm.add_constant(test1X_new)\n",
        "X_test2_const = sm.add_constant(test2X_new)\n"
      ]
    },
    {
      "cell_type": "code",
      "execution_count": 63,
      "metadata": {
        "id": "dg5p4wkokpu3"
      },
      "outputs": [],
      "source": [
        "# Predicting with two testing sets\n",
        "test1Y_pred = []\n",
        "test2Y_pred = []\n",
        "\n",
        "test1Y_pred= lin_reg.predict(X_test1_const)\n",
        "test2Y_pred= lin_reg.predict(X_test2_const)"
      ]
    },
    {
      "cell_type": "code",
      "execution_count": 57,
      "metadata": {
        "id": "42Qb1lDdkpu3"
      },
      "outputs": [],
      "source": [
        "# print(\"\\n Number of features seen during fit:\\n\",lin_reg.n_features_in_)"
      ]
    },
    {
      "cell_type": "code",
      "execution_count": 64,
      "metadata": {
        "colab": {
          "base_uri": "https://localhost:8080/"
        },
        "id": "Luou5nx3kpu4",
        "outputId": "20f4c7f1-f7c6-4c8c-bc8f-b2df35f1bd46"
      },
      "outputs": [
        {
          "output_type": "stream",
          "name": "stdout",
          "text": [
            "test1 R2: [0.99989697 0.99999597 0.99999724 0.99999419]\n",
            "test1 average R2: 0.9999710908839347\n",
            "test2 R2: [0.99994576 0.99999677 0.9999977  0.99999558]\n",
            "test2 average R2: 0.9999839536659078\n"
          ]
        }
      ],
      "source": [
        "r2_LR1 = []\n",
        "r2_LR2 = []\n",
        "\n",
        "# Predict R2 for test1 dataset\n",
        "r2_LR1 = r2_score(test1Y_new, test1Y_pred, multioutput='raw_values')\n",
        "print('test1 R2:', r2_LR1)\n",
        "print('test1 average R2:', np.mean(r2_LR1))\n",
        "\n",
        "# Predict R2 for test2 dataset\n",
        "r2_LR2 = r2_score(test2Y_new, test2Y_pred, multioutput='raw_values')\n",
        "print('test2 R2:', r2_LR2)\n",
        "print('test2 average R2:', np.mean(r2_LR2))"
      ]
    },
    {
      "cell_type": "code",
      "execution_count": 65,
      "metadata": {
        "colab": {
          "base_uri": "https://localhost:8080/"
        },
        "id": "cSXsSsVrkpu4",
        "outputId": "fe3048cc-190e-4b65-8293-97f40e6223de"
      },
      "outputs": [
        {
          "output_type": "stream",
          "name": "stdout",
          "text": [
            "test1 MSE: [1.02752990e-04 4.03152789e-06 2.76167977e-06 5.81006739e-06]\n",
            "test1 average MSE: 2.8839066384434563e-05\n",
            "test2 MSE: [5.41651490e-05 3.22612593e-06 2.29895399e-06 4.41442445e-06]\n",
            "test2 average MSE: 1.6026163337446747e-05\n"
          ]
        }
      ],
      "source": [
        "mse_LR1 = []\n",
        "mse_LR2 = []\n",
        "\n",
        "# Predict R2 for test1 dataset\n",
        "\n",
        "mse_LR1 = mean_squared_error(test1Y_new, test1Y_pred, multioutput='raw_values')\n",
        "print('test1 MSE:', mse_LR1)\n",
        "print('test1 average MSE:', np.mean(mse_LR1))\n",
        "\n",
        "# Predict R2 for test2 dataset\n",
        "mse_LR2 = mean_squared_error(test2Y_new, test2Y_pred, multioutput='raw_values')\n",
        "print('test2 MSE:', mse_LR2)\n",
        "print('test2 average MSE:', np.mean(mse_LR2))"
      ]
    },
    {
      "cell_type": "code",
      "execution_count": 66,
      "metadata": {
        "colab": {
          "base_uri": "https://localhost:8080/"
        },
        "id": "XCsKxObkkpu5",
        "outputId": "caeea7f2-27eb-46ec-e106-ed3813f06d63"
      },
      "outputs": [
        {
          "output_type": "stream",
          "name": "stdout",
          "text": [
            "test1 MAE: [0.00411205 0.00109258 0.00110296 0.00148193]\n",
            "test1 average MAE: 0.0019473793220372018\n",
            "test2 MAE: [0.00334173 0.00111819 0.00098108 0.00121883]\n",
            "test2 average MAE: 0.0016649581814202818\n"
          ]
        }
      ],
      "source": [
        "mae_LR1 = []\n",
        "mae_LR2 = []\n",
        "\n",
        "# Predict mae for test1 dataset\n",
        "mae_LR1 = mean_absolute_error(test1Y_new, test1Y_pred, multioutput='raw_values')\n",
        "print('test1 MAE:', mae_LR1)\n",
        "print('test1 average MAE:', np.mean(mae_LR1))\n",
        "\n",
        "# Predict mae for test2 dataset\n",
        "mae_LR2 = mean_absolute_error(test2Y_new, test2Y_pred, multioutput='raw_values')\n",
        "print('test2 MAE:', mae_LR2)\n",
        "print('test2 average MAE:', np.mean(mae_LR2))"
      ]
    }
  ],
  "metadata": {
    "accelerator": "GPU",
    "colab": {
      "collapsed_sections": [],
      "name": "DL_project_Group2_V1-ML Models.ipynb",
      "provenance": []
    },
    "kernelspec": {
      "display_name": "Python 3 (ipykernel)",
      "language": "python",
      "name": "python3"
    },
    "language_info": {
      "codemirror_mode": {
        "name": "ipython",
        "version": 3
      },
      "file_extension": ".py",
      "mimetype": "text/x-python",
      "name": "python",
      "nbconvert_exporter": "python",
      "pygments_lexer": "ipython3",
      "version": "3.9.6"
    }
  },
  "nbformat": 4,
  "nbformat_minor": 0
}