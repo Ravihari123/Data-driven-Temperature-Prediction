{
 "cells": [
  {
   "cell_type": "markdown",
   "metadata": {
    "id": "2IZjn8tiCq_j"
   },
   "source": [
    "# Multivariate Time-Series Regression Problem (use multiple records with multiple variables in past to predict 4 variables in a single record in future)"
   ]
  },
  {
   "cell_type": "code",
   "execution_count": 62,
   "metadata": {
    "id": "DIFXVrf62VKR"
   },
   "outputs": [],
   "source": [
    "import numpy as np\n",
    "import tensorflow as tf\n",
    "from keras.models import Sequential\n",
    "from keras.layers import LSTM, Conv1D, MaxPool1D, add, AveragePooling1D, Dense, Dropout, BatchNormalization, Flatten, Input\n",
    "import pandas as pd\n",
    "from matplotlib import pyplot as plt\n",
    "from sklearn.preprocessing import StandardScaler\n",
    "import seaborn as sns\n",
    "#from datetime import datetime\n",
    "from google.colab import drive\n",
    "from os import listdir\n",
    "import os\n",
    "from sklearn.metrics import r2_score, mean_squared_error, mean_absolute_error\n",
    "from keras import models, optimizers as opts\n",
    "tf.keras.optimizers.Optimizer\n",
    "tf.keras.callbacks.LearningRateScheduler\n",
    "from numpy import mean\n",
    "from keras.regularizers import l2\n"
   ]
  },
  {
   "cell_type": "code",
   "execution_count": 63,
   "metadata": {
    "colab": {
     "base_uri": "https://localhost:8080/"
    },
    "id": "YWIFGzbd2kjO",
    "outputId": "e6590474-2dc7-42c5-897c-a4f7941b49ad"
   },
   "outputs": [
    {
     "name": "stdout",
     "output_type": "stream",
     "text": [
      "Drive already mounted at /content/gdrive; to attempt to forcibly remount, call drive.mount(\"/content/gdrive\", force_remount=True).\n"
     ]
    }
   ],
   "source": [
    "drive.mount('/content/gdrive')"
   ]
  },
  {
   "cell_type": "code",
   "execution_count": 64,
   "metadata": {
    "id": "jOQ6McnE2vjp"
   },
   "outputs": [],
   "source": [
    "base_path =  \"/content/gdrive/MyDrive/Deep Learning/DL_project\"\n",
    "# Change the working directory to the base_path\n",
    "os.chdir(base_path)"
   ]
  },
  {
   "cell_type": "code",
   "execution_count": 65,
   "metadata": {
    "colab": {
     "base_uri": "https://localhost:8080/"
    },
    "id": "oooqOu9-2viR",
    "outputId": "910527e1-901d-4cf9-a4e0-3903faf20f51"
   },
   "outputs": [
    {
     "data": {
      "text/plain": [
       "(1330816, 13)"
      ]
     },
     "execution_count": 65,
     "metadata": {},
     "output_type": "execute_result"
    }
   ],
   "source": [
    "df = pd.read_csv('measures_v2.csv')\n",
    "df.shape"
   ]
  },
  {
   "cell_type": "code",
   "execution_count": 66,
   "metadata": {
    "colab": {
     "base_uri": "https://localhost:8080/",
     "height": 206
    },
    "id": "SwBdmZfP2vhW",
    "outputId": "28abdf02-307d-4ea1-c299-d0493aa119f3"
   },
   "outputs": [
    {
     "data": {
      "text/html": [
       "\n",
       "  <div id=\"df-b975c3bf-4093-4ddb-b25e-d09bd9bec1fa\">\n",
       "    <div class=\"colab-df-container\">\n",
       "      <div>\n",
       "<style scoped>\n",
       "    .dataframe tbody tr th:only-of-type {\n",
       "        vertical-align: middle;\n",
       "    }\n",
       "\n",
       "    .dataframe tbody tr th {\n",
       "        vertical-align: top;\n",
       "    }\n",
       "\n",
       "    .dataframe thead th {\n",
       "        text-align: right;\n",
       "    }\n",
       "</style>\n",
       "<table border=\"1\" class=\"dataframe\">\n",
       "  <thead>\n",
       "    <tr style=\"text-align: right;\">\n",
       "      <th></th>\n",
       "      <th>u_q</th>\n",
       "      <th>coolant</th>\n",
       "      <th>stator_winding</th>\n",
       "      <th>u_d</th>\n",
       "      <th>stator_tooth</th>\n",
       "      <th>motor_speed</th>\n",
       "      <th>i_d</th>\n",
       "      <th>i_q</th>\n",
       "      <th>pm</th>\n",
       "      <th>stator_yoke</th>\n",
       "      <th>ambient</th>\n",
       "      <th>torque</th>\n",
       "      <th>profile_id</th>\n",
       "    </tr>\n",
       "  </thead>\n",
       "  <tbody>\n",
       "    <tr>\n",
       "      <th>0</th>\n",
       "      <td>-0.450682</td>\n",
       "      <td>18.805172</td>\n",
       "      <td>19.086670</td>\n",
       "      <td>-0.350055</td>\n",
       "      <td>18.293219</td>\n",
       "      <td>0.002866</td>\n",
       "      <td>0.004419</td>\n",
       "      <td>0.000328</td>\n",
       "      <td>24.554214</td>\n",
       "      <td>18.316547</td>\n",
       "      <td>19.850691</td>\n",
       "      <td>0.187101</td>\n",
       "      <td>17</td>\n",
       "    </tr>\n",
       "    <tr>\n",
       "      <th>1</th>\n",
       "      <td>-0.325737</td>\n",
       "      <td>18.818571</td>\n",
       "      <td>19.092390</td>\n",
       "      <td>-0.305803</td>\n",
       "      <td>18.294807</td>\n",
       "      <td>0.000257</td>\n",
       "      <td>0.000606</td>\n",
       "      <td>-0.000785</td>\n",
       "      <td>24.538078</td>\n",
       "      <td>18.314955</td>\n",
       "      <td>19.850672</td>\n",
       "      <td>0.245417</td>\n",
       "      <td>17</td>\n",
       "    </tr>\n",
       "    <tr>\n",
       "      <th>2</th>\n",
       "      <td>-0.440864</td>\n",
       "      <td>18.828770</td>\n",
       "      <td>19.089380</td>\n",
       "      <td>-0.372503</td>\n",
       "      <td>18.294094</td>\n",
       "      <td>0.002355</td>\n",
       "      <td>0.001290</td>\n",
       "      <td>0.000386</td>\n",
       "      <td>24.544693</td>\n",
       "      <td>18.326307</td>\n",
       "      <td>19.850657</td>\n",
       "      <td>0.176615</td>\n",
       "      <td>17</td>\n",
       "    </tr>\n",
       "    <tr>\n",
       "      <th>3</th>\n",
       "      <td>-0.327026</td>\n",
       "      <td>18.835567</td>\n",
       "      <td>19.083031</td>\n",
       "      <td>-0.316199</td>\n",
       "      <td>18.292542</td>\n",
       "      <td>0.006105</td>\n",
       "      <td>0.000026</td>\n",
       "      <td>0.002046</td>\n",
       "      <td>24.554018</td>\n",
       "      <td>18.330833</td>\n",
       "      <td>19.850647</td>\n",
       "      <td>0.238303</td>\n",
       "      <td>17</td>\n",
       "    </tr>\n",
       "    <tr>\n",
       "      <th>4</th>\n",
       "      <td>-0.471150</td>\n",
       "      <td>18.857033</td>\n",
       "      <td>19.082525</td>\n",
       "      <td>-0.332272</td>\n",
       "      <td>18.291428</td>\n",
       "      <td>0.003133</td>\n",
       "      <td>-0.064317</td>\n",
       "      <td>0.037184</td>\n",
       "      <td>24.565397</td>\n",
       "      <td>18.326662</td>\n",
       "      <td>19.850639</td>\n",
       "      <td>0.208197</td>\n",
       "      <td>17</td>\n",
       "    </tr>\n",
       "  </tbody>\n",
       "</table>\n",
       "</div>\n",
       "      <button class=\"colab-df-convert\" onclick=\"convertToInteractive('df-b975c3bf-4093-4ddb-b25e-d09bd9bec1fa')\"\n",
       "              title=\"Convert this dataframe to an interactive table.\"\n",
       "              style=\"display:none;\">\n",
       "        \n",
       "  <svg xmlns=\"http://www.w3.org/2000/svg\" height=\"24px\"viewBox=\"0 0 24 24\"\n",
       "       width=\"24px\">\n",
       "    <path d=\"M0 0h24v24H0V0z\" fill=\"none\"/>\n",
       "    <path d=\"M18.56 5.44l.94 2.06.94-2.06 2.06-.94-2.06-.94-.94-2.06-.94 2.06-2.06.94zm-11 1L8.5 8.5l.94-2.06 2.06-.94-2.06-.94L8.5 2.5l-.94 2.06-2.06.94zm10 10l.94 2.06.94-2.06 2.06-.94-2.06-.94-.94-2.06-.94 2.06-2.06.94z\"/><path d=\"M17.41 7.96l-1.37-1.37c-.4-.4-.92-.59-1.43-.59-.52 0-1.04.2-1.43.59L10.3 9.45l-7.72 7.72c-.78.78-.78 2.05 0 2.83L4 21.41c.39.39.9.59 1.41.59.51 0 1.02-.2 1.41-.59l7.78-7.78 2.81-2.81c.8-.78.8-2.07 0-2.86zM5.41 20L4 18.59l7.72-7.72 1.47 1.35L5.41 20z\"/>\n",
       "  </svg>\n",
       "      </button>\n",
       "      \n",
       "  <style>\n",
       "    .colab-df-container {\n",
       "      display:flex;\n",
       "      flex-wrap:wrap;\n",
       "      gap: 12px;\n",
       "    }\n",
       "\n",
       "    .colab-df-convert {\n",
       "      background-color: #E8F0FE;\n",
       "      border: none;\n",
       "      border-radius: 50%;\n",
       "      cursor: pointer;\n",
       "      display: none;\n",
       "      fill: #1967D2;\n",
       "      height: 32px;\n",
       "      padding: 0 0 0 0;\n",
       "      width: 32px;\n",
       "    }\n",
       "\n",
       "    .colab-df-convert:hover {\n",
       "      background-color: #E2EBFA;\n",
       "      box-shadow: 0px 1px 2px rgba(60, 64, 67, 0.3), 0px 1px 3px 1px rgba(60, 64, 67, 0.15);\n",
       "      fill: #174EA6;\n",
       "    }\n",
       "\n",
       "    [theme=dark] .colab-df-convert {\n",
       "      background-color: #3B4455;\n",
       "      fill: #D2E3FC;\n",
       "    }\n",
       "\n",
       "    [theme=dark] .colab-df-convert:hover {\n",
       "      background-color: #434B5C;\n",
       "      box-shadow: 0px 1px 3px 1px rgba(0, 0, 0, 0.15);\n",
       "      filter: drop-shadow(0px 1px 2px rgba(0, 0, 0, 0.3));\n",
       "      fill: #FFFFFF;\n",
       "    }\n",
       "  </style>\n",
       "\n",
       "      <script>\n",
       "        const buttonEl =\n",
       "          document.querySelector('#df-b975c3bf-4093-4ddb-b25e-d09bd9bec1fa button.colab-df-convert');\n",
       "        buttonEl.style.display =\n",
       "          google.colab.kernel.accessAllowed ? 'block' : 'none';\n",
       "\n",
       "        async function convertToInteractive(key) {\n",
       "          const element = document.querySelector('#df-b975c3bf-4093-4ddb-b25e-d09bd9bec1fa');\n",
       "          const dataTable =\n",
       "            await google.colab.kernel.invokeFunction('convertToInteractive',\n",
       "                                                     [key], {});\n",
       "          if (!dataTable) return;\n",
       "\n",
       "          const docLinkHtml = 'Like what you see? Visit the ' +\n",
       "            '<a target=\"_blank\" href=https://colab.research.google.com/notebooks/data_table.ipynb>data table notebook</a>'\n",
       "            + ' to learn more about interactive tables.';\n",
       "          element.innerHTML = '';\n",
       "          dataTable['output_type'] = 'display_data';\n",
       "          await google.colab.output.renderOutput(dataTable, element);\n",
       "          const docLink = document.createElement('div');\n",
       "          docLink.innerHTML = docLinkHtml;\n",
       "          element.appendChild(docLink);\n",
       "        }\n",
       "      </script>\n",
       "    </div>\n",
       "  </div>\n",
       "  "
      ],
      "text/plain": [
       "        u_q    coolant  stator_winding       u_d  stator_tooth  motor_speed  \\\n",
       "0 -0.450682  18.805172       19.086670 -0.350055     18.293219     0.002866   \n",
       "1 -0.325737  18.818571       19.092390 -0.305803     18.294807     0.000257   \n",
       "2 -0.440864  18.828770       19.089380 -0.372503     18.294094     0.002355   \n",
       "3 -0.327026  18.835567       19.083031 -0.316199     18.292542     0.006105   \n",
       "4 -0.471150  18.857033       19.082525 -0.332272     18.291428     0.003133   \n",
       "\n",
       "        i_d       i_q         pm  stator_yoke    ambient    torque  profile_id  \n",
       "0  0.004419  0.000328  24.554214    18.316547  19.850691  0.187101          17  \n",
       "1  0.000606 -0.000785  24.538078    18.314955  19.850672  0.245417          17  \n",
       "2  0.001290  0.000386  24.544693    18.326307  19.850657  0.176615          17  \n",
       "3  0.000026  0.002046  24.554018    18.330833  19.850647  0.238303          17  \n",
       "4 -0.064317  0.037184  24.565397    18.326662  19.850639  0.208197          17  "
      ]
     },
     "execution_count": 66,
     "metadata": {},
     "output_type": "execute_result"
    }
   ],
   "source": [
    "df.head()"
   ]
  },
  {
   "cell_type": "code",
   "execution_count": 67,
   "metadata": {
    "colab": {
     "base_uri": "https://localhost:8080/",
     "height": 206
    },
    "id": "FIrXPphx2vfh",
    "outputId": "15930631-95f1-4cd9-883a-f48b89744d92"
   },
   "outputs": [
    {
     "data": {
      "text/html": [
       "\n",
       "  <div id=\"df-d74dd4d3-e877-49cc-bb36-f9de7f1a84b1\">\n",
       "    <div class=\"colab-df-container\">\n",
       "      <div>\n",
       "<style scoped>\n",
       "    .dataframe tbody tr th:only-of-type {\n",
       "        vertical-align: middle;\n",
       "    }\n",
       "\n",
       "    .dataframe tbody tr th {\n",
       "        vertical-align: top;\n",
       "    }\n",
       "\n",
       "    .dataframe thead th {\n",
       "        text-align: right;\n",
       "    }\n",
       "</style>\n",
       "<table border=\"1\" class=\"dataframe\">\n",
       "  <thead>\n",
       "    <tr style=\"text-align: right;\">\n",
       "      <th></th>\n",
       "      <th>u_q</th>\n",
       "      <th>coolant</th>\n",
       "      <th>u_d</th>\n",
       "      <th>motor_speed</th>\n",
       "      <th>i_d</th>\n",
       "      <th>i_q</th>\n",
       "      <th>ambient</th>\n",
       "      <th>torque</th>\n",
       "      <th>pm</th>\n",
       "      <th>stator_yoke</th>\n",
       "      <th>stator_tooth</th>\n",
       "      <th>stator_winding</th>\n",
       "      <th>profile_id</th>\n",
       "    </tr>\n",
       "  </thead>\n",
       "  <tbody>\n",
       "    <tr>\n",
       "      <th>0</th>\n",
       "      <td>-0.450682</td>\n",
       "      <td>18.805172</td>\n",
       "      <td>-0.350055</td>\n",
       "      <td>0.002866</td>\n",
       "      <td>0.004419</td>\n",
       "      <td>0.000328</td>\n",
       "      <td>19.850691</td>\n",
       "      <td>0.187101</td>\n",
       "      <td>24.554214</td>\n",
       "      <td>18.316547</td>\n",
       "      <td>18.293219</td>\n",
       "      <td>19.086670</td>\n",
       "      <td>17</td>\n",
       "    </tr>\n",
       "    <tr>\n",
       "      <th>1</th>\n",
       "      <td>-0.325737</td>\n",
       "      <td>18.818571</td>\n",
       "      <td>-0.305803</td>\n",
       "      <td>0.000257</td>\n",
       "      <td>0.000606</td>\n",
       "      <td>-0.000785</td>\n",
       "      <td>19.850672</td>\n",
       "      <td>0.245417</td>\n",
       "      <td>24.538078</td>\n",
       "      <td>18.314955</td>\n",
       "      <td>18.294807</td>\n",
       "      <td>19.092390</td>\n",
       "      <td>17</td>\n",
       "    </tr>\n",
       "    <tr>\n",
       "      <th>2</th>\n",
       "      <td>-0.440864</td>\n",
       "      <td>18.828770</td>\n",
       "      <td>-0.372503</td>\n",
       "      <td>0.002355</td>\n",
       "      <td>0.001290</td>\n",
       "      <td>0.000386</td>\n",
       "      <td>19.850657</td>\n",
       "      <td>0.176615</td>\n",
       "      <td>24.544693</td>\n",
       "      <td>18.326307</td>\n",
       "      <td>18.294094</td>\n",
       "      <td>19.089380</td>\n",
       "      <td>17</td>\n",
       "    </tr>\n",
       "    <tr>\n",
       "      <th>3</th>\n",
       "      <td>-0.327026</td>\n",
       "      <td>18.835567</td>\n",
       "      <td>-0.316199</td>\n",
       "      <td>0.006105</td>\n",
       "      <td>0.000026</td>\n",
       "      <td>0.002046</td>\n",
       "      <td>19.850647</td>\n",
       "      <td>0.238303</td>\n",
       "      <td>24.554018</td>\n",
       "      <td>18.330833</td>\n",
       "      <td>18.292542</td>\n",
       "      <td>19.083031</td>\n",
       "      <td>17</td>\n",
       "    </tr>\n",
       "    <tr>\n",
       "      <th>4</th>\n",
       "      <td>-0.471150</td>\n",
       "      <td>18.857033</td>\n",
       "      <td>-0.332272</td>\n",
       "      <td>0.003133</td>\n",
       "      <td>-0.064317</td>\n",
       "      <td>0.037184</td>\n",
       "      <td>19.850639</td>\n",
       "      <td>0.208197</td>\n",
       "      <td>24.565397</td>\n",
       "      <td>18.326662</td>\n",
       "      <td>18.291428</td>\n",
       "      <td>19.082525</td>\n",
       "      <td>17</td>\n",
       "    </tr>\n",
       "  </tbody>\n",
       "</table>\n",
       "</div>\n",
       "      <button class=\"colab-df-convert\" onclick=\"convertToInteractive('df-d74dd4d3-e877-49cc-bb36-f9de7f1a84b1')\"\n",
       "              title=\"Convert this dataframe to an interactive table.\"\n",
       "              style=\"display:none;\">\n",
       "        \n",
       "  <svg xmlns=\"http://www.w3.org/2000/svg\" height=\"24px\"viewBox=\"0 0 24 24\"\n",
       "       width=\"24px\">\n",
       "    <path d=\"M0 0h24v24H0V0z\" fill=\"none\"/>\n",
       "    <path d=\"M18.56 5.44l.94 2.06.94-2.06 2.06-.94-2.06-.94-.94-2.06-.94 2.06-2.06.94zm-11 1L8.5 8.5l.94-2.06 2.06-.94-2.06-.94L8.5 2.5l-.94 2.06-2.06.94zm10 10l.94 2.06.94-2.06 2.06-.94-2.06-.94-.94-2.06-.94 2.06-2.06.94z\"/><path d=\"M17.41 7.96l-1.37-1.37c-.4-.4-.92-.59-1.43-.59-.52 0-1.04.2-1.43.59L10.3 9.45l-7.72 7.72c-.78.78-.78 2.05 0 2.83L4 21.41c.39.39.9.59 1.41.59.51 0 1.02-.2 1.41-.59l7.78-7.78 2.81-2.81c.8-.78.8-2.07 0-2.86zM5.41 20L4 18.59l7.72-7.72 1.47 1.35L5.41 20z\"/>\n",
       "  </svg>\n",
       "      </button>\n",
       "      \n",
       "  <style>\n",
       "    .colab-df-container {\n",
       "      display:flex;\n",
       "      flex-wrap:wrap;\n",
       "      gap: 12px;\n",
       "    }\n",
       "\n",
       "    .colab-df-convert {\n",
       "      background-color: #E8F0FE;\n",
       "      border: none;\n",
       "      border-radius: 50%;\n",
       "      cursor: pointer;\n",
       "      display: none;\n",
       "      fill: #1967D2;\n",
       "      height: 32px;\n",
       "      padding: 0 0 0 0;\n",
       "      width: 32px;\n",
       "    }\n",
       "\n",
       "    .colab-df-convert:hover {\n",
       "      background-color: #E2EBFA;\n",
       "      box-shadow: 0px 1px 2px rgba(60, 64, 67, 0.3), 0px 1px 3px 1px rgba(60, 64, 67, 0.15);\n",
       "      fill: #174EA6;\n",
       "    }\n",
       "\n",
       "    [theme=dark] .colab-df-convert {\n",
       "      background-color: #3B4455;\n",
       "      fill: #D2E3FC;\n",
       "    }\n",
       "\n",
       "    [theme=dark] .colab-df-convert:hover {\n",
       "      background-color: #434B5C;\n",
       "      box-shadow: 0px 1px 3px 1px rgba(0, 0, 0, 0.15);\n",
       "      filter: drop-shadow(0px 1px 2px rgba(0, 0, 0, 0.3));\n",
       "      fill: #FFFFFF;\n",
       "    }\n",
       "  </style>\n",
       "\n",
       "      <script>\n",
       "        const buttonEl =\n",
       "          document.querySelector('#df-d74dd4d3-e877-49cc-bb36-f9de7f1a84b1 button.colab-df-convert');\n",
       "        buttonEl.style.display =\n",
       "          google.colab.kernel.accessAllowed ? 'block' : 'none';\n",
       "\n",
       "        async function convertToInteractive(key) {\n",
       "          const element = document.querySelector('#df-d74dd4d3-e877-49cc-bb36-f9de7f1a84b1');\n",
       "          const dataTable =\n",
       "            await google.colab.kernel.invokeFunction('convertToInteractive',\n",
       "                                                     [key], {});\n",
       "          if (!dataTable) return;\n",
       "\n",
       "          const docLinkHtml = 'Like what you see? Visit the ' +\n",
       "            '<a target=\"_blank\" href=https://colab.research.google.com/notebooks/data_table.ipynb>data table notebook</a>'\n",
       "            + ' to learn more about interactive tables.';\n",
       "          element.innerHTML = '';\n",
       "          dataTable['output_type'] = 'display_data';\n",
       "          await google.colab.output.renderOutput(dataTable, element);\n",
       "          const docLink = document.createElement('div');\n",
       "          docLink.innerHTML = docLinkHtml;\n",
       "          element.appendChild(docLink);\n",
       "        }\n",
       "      </script>\n",
       "    </div>\n",
       "  </div>\n",
       "  "
      ],
      "text/plain": [
       "        u_q    coolant       u_d  motor_speed       i_d       i_q    ambient  \\\n",
       "0 -0.450682  18.805172 -0.350055     0.002866  0.004419  0.000328  19.850691   \n",
       "1 -0.325737  18.818571 -0.305803     0.000257  0.000606 -0.000785  19.850672   \n",
       "2 -0.440864  18.828770 -0.372503     0.002355  0.001290  0.000386  19.850657   \n",
       "3 -0.327026  18.835567 -0.316199     0.006105  0.000026  0.002046  19.850647   \n",
       "4 -0.471150  18.857033 -0.332272     0.003133 -0.064317  0.037184  19.850639   \n",
       "\n",
       "     torque         pm  stator_yoke  stator_tooth  stator_winding  profile_id  \n",
       "0  0.187101  24.554214    18.316547     18.293219       19.086670          17  \n",
       "1  0.245417  24.538078    18.314955     18.294807       19.092390          17  \n",
       "2  0.176615  24.544693    18.326307     18.294094       19.089380          17  \n",
       "3  0.238303  24.554018    18.330833     18.292542       19.083031          17  \n",
       "4  0.208197  24.565397    18.326662     18.291428       19.082525          17  "
      ]
     },
     "execution_count": 67,
     "metadata": {},
     "output_type": "execute_result"
    }
   ],
   "source": [
    "# change the order of cols\n",
    "new_cols = ['u_q','coolant','u_d','motor_speed','i_d','i_q','ambient', 'torque','pm','stator_yoke','stator_tooth','stator_winding','profile_id']\n",
    "df=df.reindex(columns=new_cols)\n",
    "df.head()"
   ]
  },
  {
   "cell_type": "code",
   "execution_count": 68,
   "metadata": {
    "id": "Olifhxiq2veA"
   },
   "outputs": [],
   "source": [
    "# split the dataset\n",
    "# Making the profile id 65 and 72 as the two testing sets and rest as the training set\n",
    "df_test1set = df[(df['profile_id'] == 72)]\n",
    "df_test2set = df[(df['profile_id'] == 65)]\n",
    "\n",
    "# Only 20, 18 and 66 profiles will be included in the training set to reduce the dataset size. Higher computations needed.\n",
    "df_trainset = df[(df['profile_id'] != 65) & (df['profile_id'] != 72) & (df['profile_id'] != 20) & (df['profile_id'] != 6) & (df['profile_id'] != 18) & (df['profile_id'] != 13) & (df['profile_id'] != 27) & (df['profile_id'] != 53)]\n",
    "#df_trainset = df[(df['profile_id'] == 20) & (df['profile_id'] == 18) & (df['profile_id'] == 66)]"
   ]
  },
  {
   "cell_type": "code",
   "execution_count": 69,
   "metadata": {
    "colab": {
     "base_uri": "https://localhost:8080/"
    },
    "id": "tvDqPmQR2vcV",
    "outputId": "fb10b153-5c7b-4446-8ff9-6bb078d1834e"
   },
   "outputs": [
    {
     "name": "stderr",
     "output_type": "stream",
     "text": [
      "/usr/local/lib/python3.7/dist-packages/pandas/core/frame.py:4913: SettingWithCopyWarning: \n",
      "A value is trying to be set on a copy of a slice from a DataFrame\n",
      "\n",
      "See the caveats in the documentation: https://pandas.pydata.org/pandas-docs/stable/user_guide/indexing.html#returning-a-view-versus-a-copy\n",
      "  errors=errors,\n"
     ]
    }
   ],
   "source": [
    "df_trainset.drop(['profile_id','torque'],axis = 1,inplace=True)\n",
    "df_test1set.drop(['profile_id','torque'],axis = 1,inplace=True)\n",
    "df_test2set.drop(['profile_id','torque'],axis = 1,inplace=True)"
   ]
  },
  {
   "cell_type": "markdown",
   "metadata": {
    "id": "yxwUei_YgAzv"
   },
   "source": [
    "# Preparing the training data set"
   ]
  },
  {
   "cell_type": "code",
   "execution_count": 70,
   "metadata": {
    "colab": {
     "base_uri": "https://localhost:8080/"
    },
    "id": "Z7lup36l2vaN",
    "outputId": "807dbee5-e0e8-4386-858b-1bb962fecbb2"
   },
   "outputs": [
    {
     "data": {
      "text/plain": [
       "(1049621, 11)"
      ]
     },
     "execution_count": 70,
     "metadata": {},
     "output_type": "execute_result"
    }
   ],
   "source": [
    "df_trainset.head()\n",
    "df_trainset.shape"
   ]
  },
  {
   "cell_type": "code",
   "execution_count": 71,
   "metadata": {
    "colab": {
     "base_uri": "https://localhost:8080/"
    },
    "id": "W8N3Z-qN2ukp",
    "outputId": "3637d4b6-f624-4b4a-db03-691a3626bb80"
   },
   "outputs": [
    {
     "name": "stdout",
     "output_type": "stream",
     "text": [
      "['u_q', 'coolant', 'u_d', 'motor_speed', 'i_d', 'i_q', 'ambient', 'pm', 'stator_yoke', 'stator_tooth', 'stator_winding']\n"
     ]
    }
   ],
   "source": [
    "cols = list(df_trainset)[0:12]\n",
    "print(cols)"
   ]
  },
  {
   "cell_type": "code",
   "execution_count": 72,
   "metadata": {
    "id": "kWdZCbq95aPG"
   },
   "outputs": [],
   "source": [
    "#New dataframe with only training data - 12 columns\n",
    "df_for_training = df_trainset[cols].astype(float)"
   ]
  },
  {
   "cell_type": "code",
   "execution_count": 73,
   "metadata": {
    "id": "mOruT8cw5aC6"
   },
   "outputs": [],
   "source": [
    "#LSTM uses sigmoid and tanh that are sensitive to magnitude so values need to be normalized\n",
    "# normalize the dataset\n",
    "scaler = StandardScaler()\n",
    "scaler = scaler.fit(df_for_training)\n",
    "df_for_training_scaled = scaler.transform(df_for_training)"
   ]
  },
  {
   "cell_type": "code",
   "execution_count": 74,
   "metadata": {
    "colab": {
     "base_uri": "https://localhost:8080/"
    },
    "id": "qxc0z2bO5Z-4",
    "outputId": "0f855da4-822a-4141-ffe4-ed209342b028"
   },
   "outputs": [
    {
     "data": {
      "text/plain": [
       "(1049621, 11)"
      ]
     },
     "execution_count": 74,
     "metadata": {},
     "output_type": "execute_result"
    }
   ],
   "source": [
    "df_for_training_scaled.shape"
   ]
  },
  {
   "cell_type": "code",
   "execution_count": 75,
   "metadata": {
    "id": "hfr3hn0P5Z6d"
   },
   "outputs": [],
   "source": [
    "#As required for LSTM networks, we require to reshape an input data into n_samples x timesteps x n_features. \n",
    "#In this example, the n_features is 12. We will make timesteps = 10 (past records data used for training). \n",
    "\n",
    "#Empty lists to be populated using formatted training data\n",
    "trainX = []\n",
    "trainY = []\n",
    "\n",
    "n_future = 1   # Number of records we want to look into the future based on the past records.\n",
    "n_past = 10  # Number of past records we want to use to predict the future."
   ]
  },
  {
   "cell_type": "code",
   "execution_count": 76,
   "metadata": {
    "colab": {
     "base_uri": "https://localhost:8080/"
    },
    "id": "hk8Yjo3I6x9U",
    "outputId": "eee3c6d5-618f-4983-f4ed-2b24c70a909f"
   },
   "outputs": [
    {
     "name": "stdout",
     "output_type": "stream",
     "text": [
      "trainX shape == (1049611, 10, 11).\n",
      "trainY shape == (1049611, 1, 4).\n"
     ]
    }
   ],
   "source": [
    "#Reformat input data into a shape: (n_samples x timesteps x n_features)\n",
    "#Here df_for_training_scaled has a shape (983116, 12)\n",
    "#983116 refers to the number of data points and 12 refers to the columns (multi-variables).\n",
    "for i in range(n_past, len(df_for_training_scaled) - n_future +1):\n",
    "    trainX.append(df_for_training_scaled[i - n_past:i, 0:df_for_training.shape[1]])\n",
    "    trainY.append(df_for_training_scaled[i + n_future - 1:i + n_future, 7:12])   #here, 7:12 represnt the index of varibales we need to predict. Can update this to predict single varible \n",
    "\n",
    "trainX, trainY = np.array(trainX), np.array(trainY)\n",
    "\n",
    "print('trainX shape == {}.'.format(trainX.shape))\n",
    "print('trainY shape == {}.'.format(trainY.shape))"
   ]
  },
  {
   "cell_type": "markdown",
   "metadata": {
    "id": "2sEJqETA_qwe"
   },
   "source": [
    "#In here, trainX has a shape (983106, 10, 12). \n",
    "#983106 because we are looking back 10 records (983106 - 10 = 983096). \n",
    "#Remember that we cannot look back 10 records until we get to the 11th record. \n",
    "#Also, trainY has a shape (983906, 1). Our model predicts 4 value, but \n",
    "#it needs multiple variables (12) to make this prediction. \n",
    "#This is why we can only predict a single record after our training, the records after where our data ends.\n",
    "#To predict more records in future, we need all the 12 variables which we do not have. \n",
    "#We need to predict all variables if we want to do that. \n"
   ]
  },
  {
   "cell_type": "code",
   "execution_count": 77,
   "metadata": {
    "colab": {
     "base_uri": "https://localhost:8080/"
    },
    "id": "cIOzl07o6x5m",
    "outputId": "376cbe8b-61f2-4f05-ca3d-82616c8781cd"
   },
   "outputs": [
    {
     "name": "stdout",
     "output_type": "stream",
     "text": [
      "[[-1.29081619 -0.85014915  0.3937053  -1.24144134  1.04634105 -0.37664358\n",
      "  -2.35210038 -1.87611428 -1.54740822 -1.74390837 -1.69049541]\n",
      " [-1.28800392 -0.84955083  0.39440726 -1.24144279  1.04628244 -0.37665564\n",
      "  -2.35211005 -1.87699026 -1.54748711 -1.74383888 -1.6902955 ]\n",
      " [-1.29059522 -0.84909543  0.39334921 -1.24144163  1.04629294 -0.37664294\n",
      "  -2.35211778 -1.87663117 -1.54692471 -1.74387008 -1.69040069]\n",
      " [-1.28803293 -0.84879188  0.39424235 -1.24143955  1.04627352 -0.37662497\n",
      "  -2.35212261 -1.87612495 -1.54670049 -1.74393799 -1.6906226 ]\n",
      " [-1.2912769  -0.84783338  0.39398738 -1.2414412   1.04528455 -0.37624432\n",
      "  -2.35212648 -1.87550721 -1.54690714 -1.74398671 -1.69064026]\n",
      " [-1.29280346 -0.84584559  0.39940331 -1.2414376   1.03684136 -0.37299913\n",
      "  -2.35212938 -1.87506186 -1.54704585 -1.74402166 -1.69082957]\n",
      " [-1.29537334 -0.84405217  0.4030477  -1.24144219  1.03081601 -0.37064333\n",
      "  -2.35213131 -1.87490023 -1.54714128 -1.74393874 -1.69091783]\n",
      " [-1.29774217 -0.84319706  0.40552565 -1.24144214  1.02647027 -0.36899499\n",
      "  -2.35213228 -1.87498866 -1.54750195 -1.74387242 -1.69064119]\n",
      " [-1.29703849 -0.84263068  0.40792925 -1.24144261  1.02336321 -0.36779285\n",
      "  -2.35213325 -1.87541588 -1.54788492 -1.74396327 -1.69053514]\n",
      " [-1.30035121 -0.8419936   0.40844197 -1.24144362  1.02115092 -0.36691891\n",
      "  -2.35213421 -1.87616709 -1.54814212 -1.74417016 -1.69086743]]\n",
      "[[-1.87719921 -1.54795966 -1.74420212 -1.69079651]]\n"
     ]
    }
   ],
   "source": [
    "print(trainX[0])\n",
    "print(trainY[0])"
   ]
  },
  {
   "cell_type": "markdown",
   "metadata": {
    "id": "2Rvr6aswgQhP"
   },
   "source": [
    "# Preparing the testing data set"
   ]
  },
  {
   "cell_type": "code",
   "execution_count": 78,
   "metadata": {
    "colab": {
     "base_uri": "https://localhost:8080/"
    },
    "id": "_7SHMV74gcp2",
    "outputId": "ffce0573-3728-4d03-cec1-7081d3e69aff"
   },
   "outputs": [
    {
     "name": "stdout",
     "output_type": "stream",
     "text": [
      "              u_q    coolant        u_d  motor_speed        i_d         i_q  \\\n",
      "984807  -1.887356  30.721162   1.946434     0.022686  -2.001102    1.098022   \n",
      "984808   0.604919  30.721209   0.109622    27.444022  -8.944310   26.184500   \n",
      "984809   4.665253  30.721242  -6.753488   116.920677 -35.659968   80.725465   \n",
      "984810   9.206368  30.721266 -16.699363   251.384409 -59.658771  125.454513   \n",
      "984811  14.197583  30.720804 -28.559625   418.588814 -77.320911  158.080952   \n",
      "\n",
      "          ambient         pm  stator_yoke  stator_tooth  stator_winding  \n",
      "984807  23.886441  37.112483    30.660012     31.291477       32.113178  \n",
      "984808  23.885538  37.111457    30.708855     31.296847       32.115623  \n",
      "984809  23.883657  37.116662    30.743853     31.283346       32.122736  \n",
      "984810  23.880380  36.924837    30.777050     31.283340       32.130268  \n",
      "984811  23.874869  36.922961    30.820728     31.212032       32.117775  \n",
      "(15301, 11)\n",
      "              u_q    coolant       u_d  motor_speed        i_d        i_q  \\\n",
      "1042494 -0.060301  24.572270 -0.044640  3028.577653 -16.682717 -22.554878   \n",
      "1042495 -0.098472  24.549411 -0.087538  3277.195135 -32.674103 -36.837572   \n",
      "1042496 -0.134579  24.529792 -0.137843  3526.252702 -51.436325 -50.341317   \n",
      "1042497 -0.163837  24.506268 -0.188305  3775.622429 -70.247635 -61.302441   \n",
      "1042498 -0.185884  24.494794 -0.235406  4025.182345 -87.820645 -69.577852   \n",
      "\n",
      "           ambient         pm  stator_yoke  stator_tooth  stator_winding  \n",
      "1042494  25.156664  26.037928    23.902619     24.759084       25.328268  \n",
      "1042495  25.158406  26.171841    23.906777     24.771273       25.332084  \n",
      "1042496  25.159215  25.995341    23.909756     24.780007       25.289755  \n",
      "1042497  25.157646  25.900132    23.910191     24.786265       25.284230  \n",
      "1042498  25.156261  25.862153    23.911742     24.790749       25.343128  \n",
      "(40094, 11)\n"
     ]
    }
   ],
   "source": [
    "print(df_test1set.head())\n",
    "print(df_test1set.shape)\n",
    "print(df_test2set.head())\n",
    "print(df_test2set.shape)"
   ]
  },
  {
   "cell_type": "code",
   "execution_count": 79,
   "metadata": {
    "colab": {
     "base_uri": "https://localhost:8080/"
    },
    "id": "YJUHt6KFgciL",
    "outputId": "39dc740a-2d68-4962-bba4-0bf284d8943d"
   },
   "outputs": [
    {
     "name": "stdout",
     "output_type": "stream",
     "text": [
      "['u_q', 'coolant', 'u_d', 'motor_speed', 'i_d', 'i_q', 'ambient', 'pm', 'stator_yoke', 'stator_tooth', 'stator_winding']\n"
     ]
    }
   ],
   "source": [
    "cols = list(df_test1set)[0:12]\n",
    "print(cols)"
   ]
  },
  {
   "cell_type": "code",
   "execution_count": 80,
   "metadata": {
    "id": "t46sJbOJgcYB"
   },
   "outputs": [],
   "source": [
    "#New dataframe with only training data - 11 columns\n",
    "df_for_testing1 = df_test1set[cols].astype(float)\n",
    "df_for_testing2 = df_test2set[cols].astype(float)"
   ]
  },
  {
   "cell_type": "code",
   "execution_count": 81,
   "metadata": {
    "id": "AMuP7c1dgcOG"
   },
   "outputs": [],
   "source": [
    "#LSTM uses sigmoid and tanh that are sensitive to magnitude so values need to be normalized\n",
    "# normalize the testing 1 dataset\n",
    "scaler = StandardScaler()\n",
    "scaler = scaler.fit(df_for_testing1)\n",
    "df_for_testing1_scaled = scaler.transform(df_for_testing1)\n",
    "\n",
    "# normalize the testing 2 dataset\n",
    "scaler = StandardScaler()\n",
    "scaler = scaler.fit(df_for_testing2)\n",
    "df_for_testing2_scaled = scaler.transform(df_for_testing2)"
   ]
  },
  {
   "cell_type": "code",
   "execution_count": 82,
   "metadata": {
    "colab": {
     "base_uri": "https://localhost:8080/"
    },
    "id": "UybrbYBthZfH",
    "outputId": "01e271c5-e398-4915-cbc3-c1b6b2beb4fc"
   },
   "outputs": [
    {
     "name": "stdout",
     "output_type": "stream",
     "text": [
      "(15301, 11)\n",
      "(40094, 11)\n"
     ]
    }
   ],
   "source": [
    "print(df_for_testing1_scaled.shape)\n",
    "print(df_for_testing2_scaled.shape)"
   ]
  },
  {
   "cell_type": "code",
   "execution_count": 83,
   "metadata": {
    "id": "6C9Fc5c7hZS7"
   },
   "outputs": [],
   "source": [
    "#As required for LSTM networks, we require to reshape an input data into n_samples x timesteps x n_features. \n",
    "#In this example, the n_features is 12. We will make timesteps = 10 (past records data used for training). \n",
    "\n",
    "#Empty lists to be populated using formatted training data\n",
    "test1X = []\n",
    "test1Y = []\n",
    "test2X = []\n",
    "test2Y = []\n"
   ]
  },
  {
   "cell_type": "code",
   "execution_count": 84,
   "metadata": {
    "id": "DmK_Hk6I15qI"
   },
   "outputs": [],
   "source": [
    "n_future = 1   # Number of records we want to look into the future based on the past records.\n",
    "n_past = 10  # Number of past days we want to use to predict the future.\n",
    "n_feature_predict = 4"
   ]
  },
  {
   "cell_type": "code",
   "execution_count": 85,
   "metadata": {
    "colab": {
     "base_uri": "https://localhost:8080/"
    },
    "id": "o0yCoOfMheHr",
    "outputId": "080692a6-28e8-4f17-b161-1a7a08a554b0"
   },
   "outputs": [
    {
     "name": "stdout",
     "output_type": "stream",
     "text": [
      "test1X shape == (15291, 10, 11).\n",
      "test1Y shape == (15291, 1, 4).\n",
      "test2X shape == (40084, 10, 11).\n",
      "test2Y shape == (40084, 1, 4).\n"
     ]
    }
   ],
   "source": [
    "#Reformat input data into a shape: (n_samples x timesteps x n_features)\n",
    "#Here df_for_training_scaled has a shape (983116, 12)\n",
    "#983116 refers to the number of data points and 12 refers to the columns (multi-variables).\n",
    "\n",
    "#for testing set1\n",
    "for i in range(n_past, len(df_for_testing1_scaled) - n_future +1):\n",
    "    test1X.append(df_for_testing1_scaled[i - n_past:i, 0:df_for_testing1.shape[1]])\n",
    "    test1Y.append(df_for_testing1_scaled[i + n_future - 1:i + n_future, 7:12])   #here, 8:12 represnt the index of varibales we need to predict. Can update this to predict single varible \n",
    "\n",
    "test1X, test1Y = np.array(test1X), np.array(test1Y)\n",
    "\n",
    "print('test1X shape == {}.'.format(test1X.shape))\n",
    "print('test1Y shape == {}.'.format(test1Y.shape))\n",
    "\n",
    "\n",
    "\n",
    "\n",
    "#for testing set2\n",
    "for i in range(n_past, len(df_for_testing2_scaled) - n_future +1):\n",
    "    test2X.append(df_for_testing2_scaled[i - n_past:i, 0:df_for_testing2.shape[1]])\n",
    "    test2Y.append(df_for_testing2_scaled[i + n_future - 1:i + n_future, 7:12])   #here, 8:12 represnt the index of varibales we need to predict. Can update this to predict single varible \n",
    "\n",
    "test2X, test2Y = np.array(test2X), np.array(test2Y)\n",
    "\n",
    "print('test2X shape == {}.'.format(test2X.shape))\n",
    "print('test2Y shape == {}.'.format(test2Y.shape))"
   ]
  },
  {
   "cell_type": "code",
   "execution_count": 86,
   "metadata": {
    "colab": {
     "base_uri": "https://localhost:8080/"
    },
    "id": "ocqBVnz5hd8E",
    "outputId": "b88b3d03-67a7-45cd-8f17-fa9e864778b3"
   },
   "outputs": [
    {
     "name": "stdout",
     "output_type": "stream",
     "text": [
      "[[-8.78772845e-01 -7.56371740e-01  3.45559522e-02 -8.12250541e-01\n",
      "   7.50442825e-01 -4.51270049e-02 -1.80336035e+00 -2.24822679e+00\n",
      "  -1.15274113e+00 -1.35652784e+00 -1.47226284e+00]\n",
      " [-8.25551818e-01 -7.56369847e-01 -9.13754760e-05 -7.97354756e-01\n",
      "   6.23326560e-01  2.73478543e-01 -1.80566932e+00 -2.24833480e+00\n",
      "  -1.15037549e+00 -1.35626666e+00 -1.47215309e+00]\n",
      " [-7.38845823e-01 -7.56368490e-01 -1.29548453e-01 -7.48749358e-01\n",
      "   1.34216246e-01  9.66164622e-01 -1.81047760e+00 -2.24778655e+00\n",
      "  -1.14868043e+00 -1.35692325e+00 -1.47183376e+00]\n",
      " [-6.41873056e-01 -7.56367518e-01 -3.17154917e-01 -6.75706134e-01\n",
      "  -3.05153865e-01  1.53423651e+00 -1.81885482e+00 -2.26799373e+00\n",
      "  -1.14707256e+00 -1.35692357e+00 -1.47149565e+00]\n",
      " [-5.35288682e-01 -7.56386252e-01 -5.40871998e-01 -5.84877562e-01\n",
      "  -6.28512354e-01  1.94860176e+00 -1.83294313e+00 -2.26819135e+00\n",
      "  -1.14495711e+00 -1.36039158e+00 -1.47205650e+00]\n",
      " [-4.22180826e-01 -7.56391199e-01 -7.91230291e-01 -4.81303549e-01\n",
      "  -8.65055007e-01  2.25171862e+00 -1.83397880e+00 -2.23809152e+00\n",
      "  -1.14543801e+00 -1.36628321e+00 -1.47318809e+00]\n",
      " [-3.04218161e-01 -7.56383790e-01 -1.05754178e+00 -3.69738537e-01\n",
      "  -1.03705380e+00  2.47381327e+00 -1.82760840e+00 -2.23392424e+00\n",
      "  -1.14797530e+00 -1.36877558e+00 -1.47279806e+00]\n",
      " [-2.09006459e-01 -7.56378481e-01 -1.27294492e+00 -2.78836845e-01\n",
      "  -1.16293576e+00  2.63632066e+00 -1.82304381e+00 -2.20983986e+00\n",
      "  -1.14936741e+00 -1.36463695e+00 -1.47313821e+00]\n",
      " [-1.40365675e-01 -7.56374677e-01 -1.43102213e+00 -2.12444923e-01\n",
      "  -1.25575541e+00  2.75479621e+00 -1.84500372e+00 -2.23801538e+00\n",
      "  -1.15249878e+00 -1.36150095e+00 -1.47499341e+00]\n",
      " [-8.93499337e-02 -7.56371951e-01 -1.55279275e+00 -1.61885715e-01\n",
      "  -1.32732153e+00  2.84370792e+00 -1.83554088e+00 -2.27936997e+00\n",
      "  -1.15520527e+00 -1.35929015e+00 -1.47698497e+00]]\n",
      "[[-2.24404216 -1.15618169 -1.3583358  -1.4768043 ]]\n",
      "[[-1.02306099 -1.39451465 -0.20477431  0.45653373  0.7469841  -0.02825305\n",
      "  -1.9460081  -2.55417098 -1.84113679 -1.80773921 -1.71540056]\n",
      " [-1.02388237 -1.39594691 -0.20541789  0.58141676  0.49823643 -0.19766417\n",
      "  -1.94331872 -2.54537179 -1.8408965  -1.80716793 -1.71525963]\n",
      " [-1.02465934 -1.39717619 -0.20617259  0.70652084  0.20638812 -0.35783596\n",
      "  -1.94206955 -2.55696929 -1.84072432 -1.80675859 -1.71682292]\n",
      " [-1.02528893 -1.39865015 -0.20692963  0.83178172 -0.08622375 -0.48784899\n",
      "  -1.94449278 -2.56322529 -1.84069916 -1.80646529 -1.71702695]\n",
      " [-1.02576336 -1.39936909 -0.20763626  0.95713814 -0.35957375 -0.586006\n",
      "  -1.94663108 -2.56572087 -1.84060953 -1.80625513 -1.71485177]\n",
      " [-1.02609918 -1.39978384 -0.20827375  1.08254817 -0.60557467 -0.65605571\n",
      "  -1.94322914 -2.57829746 -1.84041844 -1.80610454 -1.71742115]\n",
      " [-1.02632699 -1.39986334 -0.20883282  1.20801416 -0.82222872 -0.70319437\n",
      "  -1.9592038  -2.56948492 -1.84041298 -1.80599664 -1.7183161 ]\n",
      " [-1.02646782 -1.39976003 -0.20931922  1.33352364 -1.01064525 -0.732321\n",
      "  -1.96861659 -2.56861288 -1.84023055 -1.80591933 -1.71671761]\n",
      " [-1.02653817 -1.398864   -0.20972149  1.44785948 -1.16656159 -0.74722824\n",
      "  -1.96337268 -2.56195166 -1.83954433 -1.80550555 -1.71369138]\n",
      " [-1.02659302 -1.39730007 -0.20999923  1.52507753 -1.27418886 -0.75859553\n",
      "  -1.94608195 -2.55724242 -1.83843726 -1.80503235 -1.71207643]]\n",
      "[[-2.55345207 -1.83789873 -1.80470906 -1.70976904]]\n"
     ]
    }
   ],
   "source": [
    "print(test1X[0])\n",
    "print(test1Y[0])\n",
    "print(test2X[0])\n",
    "print(test2Y[0])"
   ]
  },
  {
   "cell_type": "markdown",
   "metadata": {
    "id": "CTDXVxK2gXMN"
   },
   "source": [
    "# Model Development"
   ]
  },
  {
   "cell_type": "code",
   "execution_count": 87,
   "metadata": {
    "id": "UjvfFxqsQBzT"
   },
   "outputs": [],
   "source": [
    "# Setting some hyper-parameters for models\n",
    "epochs = 20\n",
    "batch_size=1000\n",
    "# batch_size=500\n",
    "\n",
    "# Training inputs and outputs\n",
    "seq_len = trainX.shape[1]  #this is total number of records\n",
    "n_input_features = trainX.shape[2]  #this is 12\n",
    "n_targets = trainY.shape[1]*trainY.shape[2]   #this is 1*4"
   ]
  },
  {
   "cell_type": "markdown",
   "metadata": {
    "id": "faDVAEOSMqVS"
   },
   "source": [
    "# LSTM model"
   ]
  },
  {
   "cell_type": "code",
   "execution_count": 27,
   "metadata": {
    "id": "24fgX4S86x17"
   },
   "outputs": [],
   "source": [
    "# define the Autoencoder model\n",
    "def LSTM_model_builder(seq_len, n_input_features, n_targets):\n",
    "  model = Sequential()\n",
    "\n",
    "  model.add(LSTM(1024, activation='relu', input_shape=(seq_len, n_input_features), return_sequences=True))\n",
    "  model.add(LSTM(512, activation='relu', return_sequences=True))\n",
    "  model.add(Dropout(0.3))\n",
    "  model.add(LSTM(128, kernel_regularizer=l2(0.01), recurrent_regularizer=l2(0.01), bias_regularizer=l2(0.01), activation='relu', return_sequences=True))\n",
    "  model.add(LSTM(64, activation='relu', return_sequences=True))\n",
    "  model.add(BatchNormalization())\n",
    "  # model.add(AveragePooling1D(pool_size=2, strides=1, padding='same'))\n",
    "  model.add(LSTM(32, activation='relu', return_sequences=False))\n",
    "  model.add(Dropout(0.1))\n",
    "  model.add(Dense(n_targets, activation='linear'))\n",
    "\n",
    "  return model"
   ]
  },
  {
   "cell_type": "code",
   "execution_count": 28,
   "metadata": {
    "colab": {
     "base_uri": "https://localhost:8080/"
    },
    "id": "PBn4yrAUeqvy",
    "outputId": "e6ababec-10f0-4484-9702-d502b8dad4f1"
   },
   "outputs": [
    {
     "name": "stdout",
     "output_type": "stream",
     "text": [
      "WARNING:tensorflow:Layer lstm will not use cuDNN kernels since it doesn't meet the criteria. It will use a generic GPU kernel as fallback when running on GPU.\n",
      "WARNING:tensorflow:Layer lstm_1 will not use cuDNN kernels since it doesn't meet the criteria. It will use a generic GPU kernel as fallback when running on GPU.\n",
      "WARNING:tensorflow:Layer lstm_2 will not use cuDNN kernels since it doesn't meet the criteria. It will use a generic GPU kernel as fallback when running on GPU.\n",
      "WARNING:tensorflow:Layer lstm_3 will not use cuDNN kernels since it doesn't meet the criteria. It will use a generic GPU kernel as fallback when running on GPU.\n",
      "WARNING:tensorflow:Layer lstm_4 will not use cuDNN kernels since it doesn't meet the criteria. It will use a generic GPU kernel as fallback when running on GPU.\n",
      "Model: \"sequential\"\n",
      "_________________________________________________________________\n",
      " Layer (type)                Output Shape              Param #   \n",
      "=================================================================\n",
      " lstm (LSTM)                 (None, 10, 1024)          4243456   \n",
      "                                                                 \n",
      " lstm_1 (LSTM)               (None, 10, 512)           3147776   \n",
      "                                                                 \n",
      " dropout (Dropout)           (None, 10, 512)           0         \n",
      "                                                                 \n",
      " lstm_2 (LSTM)               (None, 10, 128)           328192    \n",
      "                                                                 \n",
      " lstm_3 (LSTM)               (None, 10, 64)            49408     \n",
      "                                                                 \n",
      " batch_normalization (BatchN  (None, 10, 64)           256       \n",
      " ormalization)                                                   \n",
      "                                                                 \n",
      " lstm_4 (LSTM)               (None, 32)                12416     \n",
      "                                                                 \n",
      " dropout_1 (Dropout)         (None, 32)                0         \n",
      "                                                                 \n",
      " dense (Dense)               (None, 4)                 132       \n",
      "                                                                 \n",
      "=================================================================\n",
      "Total params: 7,781,636\n",
      "Trainable params: 7,781,508\n",
      "Non-trainable params: 128\n",
      "_________________________________________________________________\n"
     ]
    }
   ],
   "source": [
    "model = LSTM_model_builder(seq_len, n_input_features, n_targets)\n",
    "model.summary()"
   ]
  },
  {
   "cell_type": "code",
   "execution_count": 29,
   "metadata": {
    "id": "MsjoTsjeF3_o"
   },
   "outputs": [],
   "source": [
    "# Learning Rate Decay\n",
    "lr_schedule = tf.keras.optimizers.schedules.ExponentialDecay(\n",
    "    initial_learning_rate=1e-3,\n",
    "    decay_steps=5000,\n",
    "    decay_rate=0.7)\n",
    "\n",
    "opt = tf.keras.optimizers.Adam(learning_rate=lr_schedule)\n",
    "\n",
    "model.compile(optimizer=opt, loss='mse', metrics=['mse','mae'])"
   ]
  },
  {
   "cell_type": "code",
   "execution_count": 30,
   "metadata": {
    "id": "EQlx1yGPLdG_"
   },
   "outputs": [],
   "source": [
    "# A function for decaying the earning rate\n",
    "# initial_learning_rate = 0.001\n",
    "# decay = initial_learning_rate/epochs\n",
    "\n",
    "# def lr_time_based_decay(epoch, lr):\n",
    "#     return lr * 1 / (1 + decay * epoch)\n",
    "\n",
    "\n",
    "model_es_callback = tf.keras.callbacks.EarlyStopping(\n",
    "    monitor='val_mse',\n",
    "    min_delta = 0.001,\n",
    "    patience = 20,\n",
    "    verbose = 1,\n",
    "    mode='min',\n",
    "    restore_best_weights=True)\n"
   ]
  },
  {
   "cell_type": "code",
   "execution_count": 31,
   "metadata": {
    "colab": {
     "base_uri": "https://localhost:8080/"
    },
    "id": "IHWNoKEZeqvy",
    "outputId": "7c982207-c7ad-4486-aaf7-1d88777a919e"
   },
   "outputs": [
    {
     "data": {
      "text/plain": [
       "(1049611, 10, 11)"
      ]
     },
     "execution_count": 31,
     "metadata": {},
     "output_type": "execute_result"
    }
   ],
   "source": [
    "trainX.shape"
   ]
  },
  {
   "cell_type": "code",
   "execution_count": 32,
   "metadata": {
    "colab": {
     "base_uri": "https://localhost:8080/"
    },
    "id": "-cYvuU8EF38W",
    "outputId": "f32499f4-133d-4a89-c1e0-966b4b5f9501"
   },
   "outputs": [
    {
     "name": "stdout",
     "output_type": "stream",
     "text": [
      "Epoch 1/20\n",
      "840/840 [==============================] - 349s 404ms/step - loss: 1.7995 - mse: 1.0513 - mae: 0.8732 - val_loss: 1.0050 - val_mse: 0.8462 - val_mae: 0.7206\n",
      "Epoch 2/20\n",
      "840/840 [==============================] - 331s 394ms/step - loss: 1.1035 - mse: 1.0511 - mae: 0.8731 - val_loss: 0.8396 - val_mse: 0.8338 - val_mae: 0.7156\n",
      "Epoch 3/20\n",
      "840/840 [==============================] - 330s 393ms/step - loss: 1.0525 - mse: 1.0511 - mae: 0.8731 - val_loss: 0.8430 - val_mse: 0.8432 - val_mae: 0.7191\n",
      "Epoch 4/20\n",
      "840/840 [==============================] - 329s 392ms/step - loss: 1.0511 - mse: 1.0511 - mae: 0.8730 - val_loss: 0.8473 - val_mse: 0.8475 - val_mae: 0.7210\n",
      "Epoch 5/20\n",
      "840/840 [==============================] - 329s 392ms/step - loss: 1.0511 - mse: 1.0511 - mae: 0.8730 - val_loss: 0.8448 - val_mse: 0.8450 - val_mae: 0.7198\n",
      "Epoch 6/20\n",
      "840/840 [==============================] - 328s 391ms/step - loss: 1.0511 - mse: 1.0511 - mae: 0.8730 - val_loss: 0.8387 - val_mse: 0.8390 - val_mae: 0.7173\n",
      "Epoch 7/20\n",
      "840/840 [==============================] - 329s 391ms/step - loss: 1.0511 - mse: 1.0511 - mae: 0.8730 - val_loss: 0.8407 - val_mse: 0.8410 - val_mae: 0.7182\n",
      "Epoch 8/20\n",
      "840/840 [==============================] - 330s 393ms/step - loss: 1.0511 - mse: 1.0510 - mae: 0.8730 - val_loss: 0.8364 - val_mse: 0.8367 - val_mae: 0.7164\n",
      "Epoch 9/20\n",
      "840/840 [==============================] - 330s 393ms/step - loss: 1.0511 - mse: 1.0511 - mae: 0.8730 - val_loss: 0.8366 - val_mse: 0.8368 - val_mae: 0.7165\n",
      "Epoch 10/20\n",
      "840/840 [==============================] - 328s 391ms/step - loss: 1.0511 - mse: 1.0511 - mae: 0.8730 - val_loss: 0.8408 - val_mse: 0.8410 - val_mae: 0.7182\n",
      "Epoch 11/20\n",
      "840/840 [==============================] - 332s 395ms/step - loss: 1.0511 - mse: 1.0511 - mae: 0.8730 - val_loss: 0.8407 - val_mse: 0.8409 - val_mae: 0.7182\n",
      "Epoch 12/20\n",
      "840/840 [==============================] - 327s 390ms/step - loss: 1.0511 - mse: 1.0511 - mae: 0.8730 - val_loss: 0.8393 - val_mse: 0.8395 - val_mae: 0.7176\n",
      "Epoch 13/20\n",
      "840/840 [==============================] - 324s 386ms/step - loss: 1.0511 - mse: 1.0511 - mae: 0.8730 - val_loss: 0.8371 - val_mse: 0.8374 - val_mae: 0.7167\n",
      "Epoch 14/20\n",
      "840/840 [==============================] - 342s 407ms/step - loss: 1.0511 - mse: 1.0511 - mae: 0.8730 - val_loss: 0.8376 - val_mse: 0.8379 - val_mae: 0.7169\n",
      "Epoch 15/20\n",
      "840/840 [==============================] - 321s 382ms/step - loss: 1.0511 - mse: 1.0511 - mae: 0.8730 - val_loss: 0.8423 - val_mse: 0.8425 - val_mae: 0.7190\n",
      "Epoch 16/20\n",
      "840/840 [==============================] - 320s 380ms/step - loss: 1.0511 - mse: 1.0511 - mae: 0.8730 - val_loss: 0.8374 - val_mse: 0.8377 - val_mae: 0.7169\n",
      "Epoch 17/20\n",
      "840/840 [==============================] - 320s 381ms/step - loss: 1.0511 - mse: 1.0510 - mae: 0.8730 - val_loss: 0.8396 - val_mse: 0.8399 - val_mae: 0.7179\n",
      "Epoch 18/20\n",
      "840/840 [==============================] - 319s 380ms/step - loss: 1.0511 - mse: 1.0511 - mae: 0.8730 - val_loss: 0.8391 - val_mse: 0.8394 - val_mae: 0.7176\n",
      "Epoch 19/20\n",
      "840/840 [==============================] - 321s 382ms/step - loss: 1.0511 - mse: 1.0511 - mae: 0.8730 - val_loss: 0.8375 - val_mse: 0.8378 - val_mae: 0.7169\n",
      "Epoch 20/20\n",
      "840/840 [==============================] - 318s 379ms/step - loss: 1.0511 - mse: 1.0510 - mae: 0.8730 - val_loss: 0.8403 - val_mse: 0.8406 - val_mae: 0.7181\n"
     ]
    }
   ],
   "source": [
    "# fit the model\n",
    "# %%time\n",
    "# history = model.fit(trainX, trainY, epochs=epochs, batch_size=batch_size, validation_split=0.2, verbose=1, callbacks=[model_es_callback, LearningRateScheduler(lr_time_based_decay, verbose=1)])\n",
    "\n",
    "history = model.fit(trainX, trainY, epochs=epochs, batch_size=batch_size, validation_split=0.2, verbose=1, callbacks=[model_es_callback])"
   ]
  },
  {
   "cell_type": "markdown",
   "metadata": {
    "id": "6WQzuUEReuL_"
   },
   "source": [
    "Ploting Performance of training"
   ]
  },
  {
   "cell_type": "code",
   "execution_count": 33,
   "metadata": {
    "colab": {
     "base_uri": "https://localhost:8080/",
     "height": 295
    },
    "id": "NvMHJjB7fpkR",
    "outputId": "b2206f2e-5a44-4a3f-f62e-68c17e77750e"
   },
   "outputs": [
    {
     "data": {
      "image/png": "[encoded data removed]",
      "text/plain": [
       "<Figure size 432x288 with 1 Axes>"
      ]
     },
     "metadata": {
      "needs_background": "light"
     },
     "output_type": "display_data"
    }
   ],
   "source": [
    "plt.plot(history.history['mse'])\n",
    "plt.plot(history.history['val_mse'])\n",
    "plt.title('LSTM mse')\n",
    "plt.ylabel('mse')\n",
    "plt.xlabel('epoch')\n",
    "plt.legend(['train', 'validation'], loc='upper left')\n",
    "plt.show()"
   ]
  },
  {
   "cell_type": "code",
   "execution_count": 34,
   "metadata": {
    "colab": {
     "base_uri": "https://localhost:8080/",
     "height": 295
    },
    "id": "yAXj0a_EfqRs",
    "outputId": "a191bfad-757d-4bd7-8eae-69327aed0338"
   },
   "outputs": [
    {
     "data": {
      "image/png": "[encoded data removed]",
      "text/plain": [
       "<Figure size 432x288 with 1 Axes>"
      ]
     },
     "metadata": {
      "needs_background": "light"
     },
     "output_type": "display_data"
    }
   ],
   "source": [
    "# cnn_model.evaluate(X_test, y_test, verbose = 0) \n",
    "\n",
    "plt.plot(history.history['mae'], label='mae')\n",
    "plt.plot(history.history['val_mae'], label='val_mae')\n",
    "plt.title('LSTM mae')\n",
    "plt.xlabel('Epoch')\n",
    "plt.ylabel('mae')\n",
    "plt.legend(loc='upper right')\n",
    "plt.show()"
   ]
  },
  {
   "cell_type": "code",
   "execution_count": 35,
   "metadata": {
    "colab": {
     "base_uri": "https://localhost:8080/"
    },
    "id": "c_RRTJ2Seqvy",
    "outputId": "2ce7b2fb-a57e-4ca9-bc32-03c39eb418cb"
   },
   "outputs": [
    {
     "data": {
      "text/plain": [
       "(15291, 10, 11)"
      ]
     },
     "execution_count": 35,
     "metadata": {},
     "output_type": "execute_result"
    }
   ],
   "source": [
    "test1X.shape"
   ]
  },
  {
   "cell_type": "code",
   "execution_count": 36,
   "metadata": {
    "colab": {
     "base_uri": "https://localhost:8080/"
    },
    "id": "UFenrysdvoQ3",
    "outputId": "a9372061-8dee-4f54-bbf3-c5de6ff01852",
    "scrolled": true
   },
   "outputs": [
    {
     "name": "stdout",
     "output_type": "stream",
     "text": [
      "['loss', 'mse', 'mae']\n",
      "478/478 - 11s - loss: 1.0081 - mse: 1.0080 - mae: 0.8717 - 11s/epoch - 23ms/step\n",
      "1253/1253 - 34s - loss: 1.0083 - mse: 1.0081 - mae: 0.8637 - 34s/epoch - 27ms/step\n",
      "MSE testing set1: 1.008\n",
      "MAE testing set1: 0.872\n",
      "MSE testing set2 : 1.008\n",
      "MAE testing set2: 0.864\n"
     ]
    }
   ],
   "source": [
    "# print(history.history.keys())\n",
    "print(model.metrics_names)\n",
    "\n",
    "# Evaluate the model average testing performance \n",
    "result1 = model.evaluate(test1X,  test1Y, verbose=2)\n",
    "result2 = model.evaluate(test2X,  test2Y, verbose=2)\n",
    "\n",
    "print('MSE testing set1: %.3f' % (result1[1]))\n",
    "print('MAE testing set1: %.3f' % (result1[2]))\n",
    "print('MSE testing set2 : %.3f' % (result2[1]))\n",
    "print('MAE testing set2: %.3f' % (result2[2]))"
   ]
  },
  {
   "cell_type": "markdown",
   "metadata": {
    "id": "ciB2SyY7ekQf"
   },
   "source": [
    "Predictictions"
   ]
  },
  {
   "cell_type": "code",
   "execution_count": 37,
   "metadata": {
    "id": "v0lwz33BtEwW"
   },
   "outputs": [],
   "source": [
    "# Here we do not need to perform inverse scaling as we do not want to see the predicted values in their real scale\n",
    "# Refer to the original teaching material at https://www.youtube.com/watch?v=tepxdcepTbY"
   ]
  },
  {
   "cell_type": "code",
   "execution_count": 38,
   "metadata": {
    "id": "UOF0ryNhAA2J",
    "scrolled": true
   },
   "outputs": [],
   "source": [
    "# Predict the output \n",
    "test1Y_pred = []\n",
    "test2Y_pred = []\n",
    "\n",
    "# This can be run only once. Cecause it reshapes the original array\n",
    "test1Y_shaped = test1Y.reshape((test1Y.shape[0],test1Y.shape[1]*test1Y.shape[2]))\n",
    "test2Y_shaped = test2Y.reshape((test2Y.shape[0],test2Y.shape[1]*test2Y.shape[2]))\n",
    "\n",
    "test1Y_pred= model.predict(test1X)\n",
    "test2Y_pred= model.predict(test2X)\n"
   ]
  },
  {
   "cell_type": "markdown",
   "metadata": {
    "id": "dfMeBTOyeqvz"
   },
   "source": [
    "Predicting R2 for testing sets"
   ]
  },
  {
   "cell_type": "code",
   "execution_count": 39,
   "metadata": {
    "colab": {
     "base_uri": "https://localhost:8080/"
    },
    "id": "jcMyWMAuftjj",
    "outputId": "070e8c13-46f4-473f-ce95-e1c4abc3cc23"
   },
   "outputs": [
    {
     "name": "stdout",
     "output_type": "stream",
     "text": [
      "test1 R2: [-0.00572907 -0.0170758  -0.00953445 -0.00411082]\n",
      "test1 average R2: -0.009112531915719979\n",
      "test2 R2: [-0.0055967  -0.01700595 -0.0094489  -0.0040413 ]\n",
      "test2 average R2: -0.009023212908630784\n"
     ]
    }
   ],
   "source": [
    "r2_lstm1 = []\n",
    "r2_lstm2 = []\n",
    "\n",
    "# Predict R2 for test1 dataset\n",
    "r2_lstm1 = r2_score(test1Y_shaped, test1Y_pred, multioutput='raw_values')\n",
    "print('test1 R2:', r2_lstm1)\n",
    "print('test1 average R2:', np.mean(r2_lstm1))\n",
    "\n",
    "# Predict R2 for test2 dataset\n",
    "r2_lstm2 = r2_score(test2Y_shaped, test2Y_pred, multioutput='raw_values')\n",
    "print('test2 R2:', r2_lstm2)\n",
    "print('test2 average R2:', np.mean(r2_lstm2))"
   ]
  },
  {
   "cell_type": "markdown",
   "metadata": {
    "id": "Olw8dyXReqvz"
   },
   "source": [
    "Predicting MSE in testing sets"
   ]
  },
  {
   "cell_type": "code",
   "execution_count": 40,
   "metadata": {
    "colab": {
     "base_uri": "https://localhost:8080/"
    },
    "id": "8VU0JvZ5eqvz",
    "outputId": "df517b54-45b2-42f6-cde1-f0cba589c2ba"
   },
   "outputs": [
    {
     "name": "stdout",
     "output_type": "stream",
     "text": [
      "test1 MSE: [1.00306062 1.01686157 1.00897137 1.00334158]\n",
      "test1 average MSE: 1.0080587879517064\n",
      "test2 MSE: [1.00420032 1.01640018 1.00887887 1.00355421]\n",
      "test2 average MSE: 1.0082583961958544\n"
     ]
    }
   ],
   "source": [
    "mse_lstm1 = []\n",
    "mse_lstm2 = []\n",
    "\n",
    "# Predict R2 for test1 dataset\n",
    "\n",
    "mse_lstm1 = mean_squared_error(test1Y_shaped, test1Y_pred, multioutput='raw_values')\n",
    "print('test1 MSE:', mse_lstm1)\n",
    "print('test1 average MSE:', np.mean(mse_lstm1))\n",
    "\n",
    "# Predict R2 for test2 dataset\n",
    "mse_lstm2 = mean_squared_error(test2Y_shaped, test2Y_pred, multioutput='raw_values')\n",
    "print('test2 MSE:', mse_lstm2)\n",
    "print('test2 average MSE:', np.mean(mse_lstm2))"
   ]
  },
  {
   "cell_type": "markdown",
   "metadata": {
    "id": "ylrkPcx6eqvz"
   },
   "source": [
    "Predicting MAE in testing sets"
   ]
  },
  {
   "cell_type": "code",
   "execution_count": 41,
   "metadata": {
    "colab": {
     "base_uri": "https://localhost:8080/"
    },
    "id": "I3MKPNEqeqvz",
    "outputId": "b52c4dd8-3a8c-4a05-c39a-80f2fdfeb865"
   },
   "outputs": [
    {
     "name": "stdout",
     "output_type": "stream",
     "text": [
      "test1 MAE: [0.85074434 0.87627268 0.87638247 0.88359734]\n",
      "test1 average MAE: 0.8717492046646538\n",
      "test2 MAE: [0.84422247 0.85847633 0.87123866 0.88113588]\n",
      "test2 average MAE: 0.8637683326541309\n"
     ]
    }
   ],
   "source": [
    "mae_lstm1 = []\n",
    "mae_lstm2 = []\n",
    "\n",
    "# Predict mae for test1 dataset\n",
    "mae_lstm1 = mean_absolute_error(test1Y_shaped, test1Y_pred, multioutput='raw_values')\n",
    "print('test1 MAE:', mae_lstm1)\n",
    "print('test1 average MAE:', np.mean(mae_lstm1))\n",
    "\n",
    "# Predict mae for test2 dataset\n",
    "mae_lstm2 = mean_absolute_error(test2Y_shaped, test2Y_pred, multioutput='raw_values')\n",
    "print('test2 MAE:', mae_lstm2)\n",
    "print('test2 average MAE:', np.mean(mae_lstm2))"
   ]
  },
  {
   "cell_type": "markdown",
   "metadata": {
    "id": "ph-tA8vRMkp2"
   },
   "source": [
    "# CNN model"
   ]
  },
  {
   "cell_type": "code",
   "execution_count": 88,
   "metadata": {
    "id": "RSjy4biSPEhg"
   },
   "outputs": [],
   "source": [
    "def cnn_model_builder(seq_len, n_input_features, n_targets, kernel_size):\n",
    "    # input shape: window_size x len(x_cols)\n",
    "    x = Input((seq_len, n_input_features), name='input_62')\n",
    "    y = Conv1D(filters=1024, kernel_size=kernel_size, padding='same', activation='relu')(x)\n",
    "\n",
    "    y = Conv1D(filters=512, kernel_size=kernel_size, padding='same',\n",
    "                      dilation_rate=2, activation='relu', kernel_regularizer=l2(0.01), bias_regularizer=l2(0.01))(y)\n",
    "    y = Conv1D(filters=256, kernel_size=kernel_size, padding='same',\n",
    "                      dilation_rate=2, activation='relu')(y)\n",
    "    y = Conv1D(filters=128, kernel_size=2, padding='same',\n",
    "                      dilation_rate=2, activation='relu', kernel_regularizer=l2(0.01), bias_regularizer=l2(0.01))(y)\n",
    "    \n",
    "#     y = AveragePooling1D(pool_size=2, strides=1, padding='same')(y)\n",
    "\n",
    "    y = Conv1D(filters=256, kernel_size=kernel_size, padding='same',\n",
    "                      dilation_rate=2, activation='relu')(y)\n",
    "    \n",
    "    shortcut = Conv1D(filters=256, kernel_size=1,\n",
    "                             dilation_rate=2, padding='same')(x)\n",
    "    y = add([shortcut, y])\n",
    "\n",
    "    # y = MaxPool1D(pool_size=32)(y)\n",
    "    y = Flatten()(y)\n",
    "    y = Dense(128, name='dense_128', activation='relu')(y)\n",
    "    y = Dropout(rate=0.05)(y)\n",
    "    y = Dense(n_targets, name=f'dense_{n_targets}', activation='linear')(y)\n",
    "    model = models.Model(inputs=x, outputs=y)\n",
    "\n",
    "    return model\n",
    "  \n",
    " "
   ]
  },
  {
   "cell_type": "code",
   "execution_count": 43,
   "metadata": {
    "colab": {
     "base_uri": "https://localhost:8080/"
    },
    "id": "wg6JDOHQPPhA",
    "outputId": "00e4b9ee-ad60-4932-cda2-ff6bb07c1f75"
   },
   "outputs": [
    {
     "name": "stdout",
     "output_type": "stream",
     "text": [
      "Model: \"model\"\n",
      "__________________________________________________________________________________________________\n",
      " Layer (type)                   Output Shape         Param #     Connected to                     \n",
      "==================================================================================================\n",
      " input_62 (InputLayer)          [(None, 10, 11)]     0           []                               \n",
      "                                                                                                  \n",
      " conv1d (Conv1D)                (None, 10, 1024)     34816       ['input_62[0][0]']               \n",
      "                                                                                                  \n",
      " conv1d_1 (Conv1D)              (None, 10, 512)      1573376     ['conv1d[0][0]']                 \n",
      "                                                                                                  \n",
      " conv1d_2 (Conv1D)              (None, 10, 256)      393472      ['conv1d_1[0][0]']               \n",
      "                                                                                                  \n",
      " conv1d_3 (Conv1D)              (None, 10, 128)      65664       ['conv1d_2[0][0]']               \n",
      "                                                                                                  \n",
      " conv1d_5 (Conv1D)              (None, 10, 256)      3072        ['input_62[0][0]']               \n",
      "                                                                                                  \n",
      " conv1d_4 (Conv1D)              (None, 10, 256)      98560       ['conv1d_3[0][0]']               \n",
      "                                                                                                  \n",
      " add (Add)                      (None, 10, 256)      0           ['conv1d_5[0][0]',               \n",
      "                                                                  'conv1d_4[0][0]']               \n",
      "                                                                                                  \n",
      " flatten (Flatten)              (None, 2560)         0           ['add[0][0]']                    \n",
      "                                                                                                  \n",
      " dense_128 (Dense)              (None, 128)          327808      ['flatten[0][0]']                \n",
      "                                                                                                  \n",
      " dropout_2 (Dropout)            (None, 128)          0           ['dense_128[0][0]']              \n",
      "                                                                                                  \n",
      " dense_4 (Dense)                (None, 4)            516         ['dropout_2[0][0]']              \n",
      "                                                                                                  \n",
      "==================================================================================================\n",
      "Total params: 2,497,284\n",
      "Trainable params: 2,497,284\n",
      "Non-trainable params: 0\n",
      "__________________________________________________________________________________________________\n"
     ]
    }
   ],
   "source": [
    "cnn_model = cnn_model_builder(seq_len, n_input_features, n_targets, kernel_size=3)\n",
    "cnn_model.summary()"
   ]
  },
  {
   "cell_type": "code",
   "execution_count": 44,
   "metadata": {
    "id": "CoHuD_6Reqvz"
   },
   "outputs": [],
   "source": [
    "# Learning Rate Decay\n",
    "lr_schedule = tf.keras.optimizers.schedules.ExponentialDecay(\n",
    "    initial_learning_rate=1e-3,\n",
    "    decay_steps=10000,\n",
    "    decay_rate=0.7)\n",
    "\n",
    "opt = tf.keras.optimizers.Adam(learning_rate=lr_schedule)"
   ]
  },
  {
   "cell_type": "code",
   "execution_count": 45,
   "metadata": {
    "id": "W8CM2eXzZdKB"
   },
   "outputs": [],
   "source": [
    "cnn_model.compile(optimizer=opt, loss='mse', metrics=['mse','mae'])"
   ]
  },
  {
   "cell_type": "code",
   "execution_count": null,
   "metadata": {
    "id": "RV1xV1dSObhe"
   },
   "outputs": [],
   "source": []
  },
  {
   "cell_type": "code",
   "execution_count": 46,
   "metadata": {
    "colab": {
     "base_uri": "https://localhost:8080/"
    },
    "id": "BosXVrEwJOV_",
    "outputId": "6089e3a8-4a69-485a-e82c-65b7ea2134c9"
   },
   "outputs": [
    {
     "name": "stdout",
     "output_type": "stream",
     "text": [
      "Epoch 1/20\n",
      "840/840 [==============================] - 148s 163ms/step - loss: 1.1972 - mse: 1.0543 - mae: 0.8742 - val_loss: 0.8520 - val_mse: 0.8522 - val_mae: 0.7227\n",
      "Epoch 2/20\n",
      "840/840 [==============================] - 133s 158ms/step - loss: 1.0511 - mse: 1.0511 - mae: 0.8731 - val_loss: 0.8399 - val_mse: 0.8402 - val_mae: 0.7180\n",
      "Epoch 3/20\n",
      "840/840 [==============================] - 132s 158ms/step - loss: 1.0511 - mse: 1.0511 - mae: 0.8730 - val_loss: 0.8356 - val_mse: 0.8358 - val_mae: 0.7162\n",
      "Epoch 4/20\n",
      "840/840 [==============================] - 130s 155ms/step - loss: 1.0511 - mse: 1.0511 - mae: 0.8731 - val_loss: 0.8424 - val_mse: 0.8426 - val_mae: 0.7189\n",
      "Epoch 5/20\n",
      "840/840 [==============================] - 129s 153ms/step - loss: 1.0511 - mse: 1.0511 - mae: 0.8730 - val_loss: 0.8375 - val_mse: 0.8378 - val_mae: 0.7171\n",
      "Epoch 6/20\n",
      "840/840 [==============================] - 128s 153ms/step - loss: 1.0511 - mse: 1.0511 - mae: 0.8730 - val_loss: 0.8365 - val_mse: 0.8368 - val_mae: 0.7165\n",
      "Epoch 7/20\n",
      "840/840 [==============================] - 128s 153ms/step - loss: 1.0511 - mse: 1.0511 - mae: 0.8730 - val_loss: 0.8336 - val_mse: 0.8339 - val_mae: 0.7152\n",
      "Epoch 8/20\n",
      "840/840 [==============================] - 129s 154ms/step - loss: 1.0511 - mse: 1.0511 - mae: 0.8731 - val_loss: 0.8429 - val_mse: 0.8431 - val_mae: 0.7190\n",
      "Epoch 9/20\n",
      "840/840 [==============================] - 128s 153ms/step - loss: 1.0511 - mse: 1.0511 - mae: 0.8730 - val_loss: 0.8367 - val_mse: 0.8369 - val_mae: 0.7165\n",
      "Epoch 10/20\n",
      "840/840 [==============================] - 129s 153ms/step - loss: 1.0511 - mse: 1.0511 - mae: 0.8730 - val_loss: 0.8401 - val_mse: 0.8403 - val_mae: 0.7180\n",
      "Epoch 11/20\n",
      "840/840 [==============================] - 129s 153ms/step - loss: 1.0511 - mse: 1.0511 - mae: 0.8730 - val_loss: 0.8414 - val_mse: 0.8417 - val_mae: 0.7184\n",
      "Epoch 12/20\n",
      "840/840 [==============================] - 129s 153ms/step - loss: 1.0511 - mse: 1.0511 - mae: 0.8730 - val_loss: 0.8355 - val_mse: 0.8357 - val_mae: 0.7160\n",
      "Epoch 13/20\n",
      "840/840 [==============================] - 128s 153ms/step - loss: 1.0511 - mse: 1.0511 - mae: 0.8730 - val_loss: 0.8360 - val_mse: 0.8362 - val_mae: 0.7163\n",
      "Epoch 14/20\n",
      "840/840 [==============================] - 128s 153ms/step - loss: 1.0511 - mse: 1.0511 - mae: 0.8730 - val_loss: 0.8376 - val_mse: 0.8379 - val_mae: 0.7169\n",
      "Epoch 15/20\n",
      "840/840 [==============================] - 128s 153ms/step - loss: 1.0511 - mse: 1.0511 - mae: 0.8730 - val_loss: 0.8414 - val_mse: 0.8416 - val_mae: 0.7185\n",
      "Epoch 16/20\n",
      "840/840 [==============================] - 128s 153ms/step - loss: 1.0511 - mse: 1.0511 - mae: 0.8730 - val_loss: 0.8378 - val_mse: 0.8380 - val_mae: 0.7171\n",
      "Epoch 17/20\n",
      "840/840 [==============================] - 128s 153ms/step - loss: 1.0511 - mse: 1.0511 - mae: 0.8730 - val_loss: 0.8419 - val_mse: 0.8421 - val_mae: 0.7188\n",
      "Epoch 18/20\n",
      "840/840 [==============================] - 128s 153ms/step - loss: 1.0511 - mse: 1.0511 - mae: 0.8730 - val_loss: 0.8390 - val_mse: 0.8393 - val_mae: 0.7176\n",
      "Epoch 19/20\n",
      "840/840 [==============================] - 129s 153ms/step - loss: 1.0511 - mse: 1.0511 - mae: 0.8730 - val_loss: 0.8389 - val_mse: 0.8392 - val_mae: 0.7173\n",
      "Epoch 20/20\n",
      "840/840 [==============================] - 129s 153ms/step - loss: 1.0511 - mse: 1.0511 - mae: 0.8730 - val_loss: 0.8375 - val_mse: 0.8377 - val_mae: 0.7169\n"
     ]
    }
   ],
   "source": [
    "# fit the model\n",
    "# %%time\n",
    "history = cnn_model.fit(trainX, trainY, epochs=epochs, batch_size=batch_size, validation_split=0.2, verbose=1, callbacks=[model_es_callback])"
   ]
  },
  {
   "cell_type": "markdown",
   "metadata": {
    "id": "Lc8HC03jH-Q-"
   },
   "source": [
    "Ploting Performance of training"
   ]
  },
  {
   "cell_type": "code",
   "execution_count": 89,
   "metadata": {
    "id": "z_KC65E3Odqu"
   },
   "outputs": [],
   "source": [
    "cnn_model.save(\"cnn.h5\")"
   ]
  },
  {
   "cell_type": "code",
   "execution_count": 1,
   "metadata": {
    "colab": {
     "base_uri": "https://localhost:8080/",
     "height": 295
    },
    "id": "rn6-yn5uH-Q-",
    "outputId": "74cf3c18-ff4f-487a-cf09-843c5f929377"
   },
   "outputs": [],
   "source": [
    "# plt.plot(history.history['mse'], label='mse')\n",
    "# plt.plot(history.history['val_mse'],label='val_mse')\n",
    "# plt.title('CNN mse') \n",
    "# plt.ylabel('mse')\n",
    "# plt.xlabel('epoch')\n",
    "# plt.legend(['train', 'validation'], loc='upper left')\n",
    "# plt.show()"
   ]
  },
  {
   "cell_type": "code",
   "execution_count": 2,
   "metadata": {
    "colab": {
     "base_uri": "https://localhost:8080/",
     "height": 295
    },
    "id": "KNCrAtUNH-Q-",
    "outputId": "9a638045-c1dd-4a99-96e7-d969cd6ffef2"
   },
   "outputs": [],
   "source": [
    "\n",
    "# plt.plot(history.history['mae'], label='mae')\n",
    "# plt.plot(history.history['val_mae'], label='val_mae')\n",
    "# plt.title('CNN mae')\n",
    "# plt.xlabel('Epoch')\n",
    "# plt.ylabel('Mean_absolute_error')\n",
    "# plt.legend(loc='upper right')\n",
    "# plt.show()"
   ]
  },
  {
   "cell_type": "code",
   "execution_count": 49,
   "metadata": {
    "colab": {
     "base_uri": "https://localhost:8080/"
    },
    "id": "ZaznE-6geqvz",
    "outputId": "56be1891-bfd4-4e9c-a9b7-d7d54e3e8c01"
   },
   "outputs": [
    {
     "data": {
      "text/plain": [
       "(15291, 10, 11)"
      ]
     },
     "execution_count": 49,
     "metadata": {},
     "output_type": "execute_result"
    }
   ],
   "source": [
    "test1X.shape"
   ]
  },
  {
   "cell_type": "code",
   "execution_count": 50,
   "metadata": {
    "colab": {
     "base_uri": "https://localhost:8080/"
    },
    "id": "r4nQsB4feqvz",
    "outputId": "8d5a5f39-7370-4288-d7ea-faf9d881f05d",
    "scrolled": true
   },
   "outputs": [
    {
     "name": "stdout",
     "output_type": "stream",
     "text": [
      "['loss', 'mse', 'mae']\n",
      "478/478 - 8s - loss: 1.0081 - mse: 1.0080 - mae: 0.8717 - 8s/epoch - 16ms/step\n",
      "1253/1253 - 20s - loss: 1.0083 - mse: 1.0081 - mae: 0.8637 - 20s/epoch - 16ms/step\n",
      "MSE testing set1: 1.008\n",
      "MAE testing set1: 0.872\n",
      "MSE testing set2 : 1.008\n",
      "MAE testing set2: 0.864\n"
     ]
    }
   ],
   "source": [
    "# print(history.history.keys())\n",
    "print(cnn_model.metrics_names)\n",
    "\n",
    "# Evaluate the model average testing performance \n",
    "result1 = cnn_model.evaluate(test1X,  test1Y, verbose=2)\n",
    "result2 = cnn_model.evaluate(test2X,  test2Y, verbose=2)\n",
    "\n",
    "print('MSE testing set1: %.3f' % (result1[1]))\n",
    "print('MAE testing set1: %.3f' % (result1[2]))\n",
    "print('MSE testing set2 : %.3f' % (result2[1]))\n",
    "print('MAE testing set2: %.3f' % (result2[2]))"
   ]
  },
  {
   "cell_type": "markdown",
   "metadata": {
    "id": "5OfynM7Yeqv0"
   },
   "source": [
    "Predictictions"
   ]
  },
  {
   "cell_type": "markdown",
   "metadata": {
    "id": "skp3AFz9eqv0"
   },
   "source": [
    "Here we do not need to perform inverse scaling as we do not want to see the predicted values in their real scale\n",
    "Refer to the original teaching material at https://www.youtube.com/watch?v=tepxdcepTbY"
   ]
  },
  {
   "cell_type": "code",
   "execution_count": null,
   "metadata": {
    "id": "nLdvVarAeqv0"
   },
   "outputs": [],
   "source": [
    "# test1Y.shape"
   ]
  },
  {
   "cell_type": "code",
   "execution_count": 91,
   "metadata": {
    "id": "sM87ZgfZPOvn"
   },
   "outputs": [],
   "source": [
    "# Predict the output \n",
    "test1Y_predcnn = []\n",
    "test2Y_predcnn = []\n",
    "\n",
    "# This can be run only once. Cecause it reshapes the original array\n",
    "test1Y_shaped = test1Y.reshape((test1Y.shape[0],test1Y.shape[1]*test1Y.shape[2]))\n",
    "test2Y_shaped = test2Y.reshape((test2Y.shape[0],test2Y.shape[1]*test2Y.shape[2]))\n",
    "\n",
    "test1Y_predcnn= model.predict(test1X)\n",
    "test2Y_predcnn= model.predict(test2X)"
   ]
  },
  {
   "cell_type": "code",
   "execution_count": null,
   "metadata": {
    "id": "ZNEFXj5Feqv0",
    "scrolled": true
   },
   "outputs": [],
   "source": [
    "# Predict the output \n",
    "#test1Y_predcnn = []\n",
    "#test2Y_predcnn = []\n",
    "\n",
    "# This can be run only once. Cecause it reshapes the original array\n",
    "#test1Y_shaped = test1Y.reshape((test1Y.shape[0],test1Y.shape[1]*test1Y.shape[2]))\n",
    "#test2Y_shaped = test2Y.reshape((test2Y.shape[0],test2Y.shape[1]*test2Y.shape[2]))\n",
    "\n",
    "#test1Y_predcnn= model.predict(test1X)\n",
    "#test2Y_predcnn= model.predict(test2X)\n"
   ]
  },
  {
   "cell_type": "markdown",
   "metadata": {
    "id": "jQAtjh_oeqv1"
   },
   "source": [
    "Predicting R2 for testing sets"
   ]
  },
  {
   "cell_type": "code",
   "execution_count": 92,
   "metadata": {
    "colab": {
     "base_uri": "https://localhost:8080/"
    },
    "id": "qrgISYg-PSZS",
    "outputId": "914af5de-a1ce-44b7-9419-259530ecfcf7"
   },
   "outputs": [
    {
     "name": "stdout",
     "output_type": "stream",
     "text": [
      "test1 R2: [-0.00572907 -0.0170758  -0.00953445 -0.00411082]\n",
      "test2 R2: [-0.0055967  -0.01700595 -0.0094489  -0.0040413 ]\n"
     ]
    }
   ],
   "source": [
    "r2_cnn1 = []\n",
    "r2_cnn2 = []\n",
    "\n",
    "# Predict R2 for test1 dataset\n",
    "r2_cnn1 = r2_score(test1Y_shaped, test1Y_predcnn, multioutput='raw_values')\n",
    "print('test1 R2:', r2_cnn1)\n",
    "\n",
    "# Predict R2 for test2 dataset\n",
    "r2_cnn2 = r2_score(test2Y_shaped, test2Y_predcnn, multioutput='raw_values')\n",
    "print('test2 R2:', r2_cnn2)"
   ]
  },
  {
   "cell_type": "code",
   "execution_count": null,
   "metadata": {
    "id": "qlwVjKd3eqv1"
   },
   "outputs": [],
   "source": [
    "r2_cnn1 = []\n",
    "r2_cnn2 = []\n",
    "\n",
    "# Predict R2 for test1 dataset\n",
    "r2_cnn1 = r2_score(test1Y_shaped, test1Y_predcnn, multioutput='raw_values')\n",
    "print('test1 R2:', r2_cnn1)\n",
    "\n",
    "# Predict R2 for test2 dataset\n",
    "r2_cnn2 = r2_score(test2Y_shaped, test2Y_predcnn, multioutput='raw_values')\n",
    "print('test2 R2:', r2_cnn2)"
   ]
  },
  {
   "cell_type": "code",
   "execution_count": null,
   "metadata": {
    "id": "2LJNL3oWeqv1"
   },
   "outputs": [],
   "source": [
    "# test1X.shape"
   ]
  },
  {
   "cell_type": "code",
   "execution_count": 93,
   "metadata": {
    "colab": {
     "base_uri": "https://localhost:8080/"
    },
    "id": "VQ9PxqKxeqv1",
    "outputId": "03387c7c-5b6b-4268-b630-379406824779",
    "scrolled": true
   },
   "outputs": [
    {
     "name": "stdout",
     "output_type": "stream",
     "text": [
      "['loss', 'mse', 'mae']\n",
      "478/478 - 8s - loss: 1.0081 - mse: 1.0080 - mae: 0.8717 - 8s/epoch - 16ms/step\n",
      "1253/1253 - 24s - loss: 1.0083 - mse: 1.0081 - mae: 0.8637 - 24s/epoch - 19ms/step\n",
      "MSE testing set1: 1.008\n",
      "MAE testing set1: 0.872\n",
      "MSE testing set2 : 1.008\n",
      "MAE testing set2: 0.864\n"
     ]
    }
   ],
   "source": [
    "# print(history.history.keys())\n",
    "print(model.metrics_names)\n",
    "\n",
    "# Evaluate the model average testing performance \n",
    "result1 = model.evaluate(test1X,  test1Y, verbose=2)\n",
    "result2 = model.evaluate(test2X,  test2Y, verbose=2)\n",
    "\n",
    "print('MSE testing set1: %.3f' % (result1[1]))\n",
    "print('MAE testing set1: %.3f' % (result1[2]))\n",
    "print('MSE testing set2 : %.3f' % (result2[1]))\n",
    "print('MAE testing set2: %.3f' % (result2[2]))"
   ]
  },
  {
   "cell_type": "markdown",
   "metadata": {
    "id": "6g3bdNO8eqv1"
   },
   "source": [
    "Predictictions"
   ]
  },
  {
   "cell_type": "code",
   "execution_count": 94,
   "metadata": {
    "id": "zPR_ogbuPpc9"
   },
   "outputs": [],
   "source": [
    "# Predict the output \n",
    "test1Y_pred = []\n",
    "test2Y_pred = []\n",
    "\n",
    "# This can be run only once. Cecause it reshapes the original array\n",
    "test1Y_shaped = test1Y.reshape((test1Y.shape[0],test1Y.shape[1]*test1Y.shape[2]))\n",
    "test2Y_shaped = test2Y.reshape((test2Y.shape[0],test2Y.shape[1]*test2Y.shape[2]))\n",
    "\n",
    "test1Y_pred= model.predict(test1X)\n",
    "test2Y_pred= model.predict(test2X)"
   ]
  },
  {
   "cell_type": "code",
   "execution_count": null,
   "metadata": {
    "id": "TItEGMWceqv1",
    "scrolled": true
   },
   "outputs": [],
   "source": [
    "# # Predict the output \n",
    "# test1Y_pred = []\n",
    "# test2Y_pred = []\n",
    "\n",
    "# # This can be run only once. Cecause it reshapes the original array\n",
    "# test1Y_shaped = test1Y.reshape((test1Y.shape[0],test1Y.shape[1]*test1Y.shape[2]))\n",
    "# test2Y_shaped = test2Y.reshape((test2Y.shape[0],test2Y.shape[1]*test2Y.shape[2]))\n",
    "\n",
    "# test1Y_pred= model.predict(test1X)\n",
    "# test2Y_pred= model.predict(test2X)\n"
   ]
  },
  {
   "cell_type": "markdown",
   "metadata": {
    "id": "2Qj8fu9ueqv1"
   },
   "source": [
    "Predicting R2 for testing sets"
   ]
  },
  {
   "cell_type": "code",
   "execution_count": 95,
   "metadata": {
    "colab": {
     "base_uri": "https://localhost:8080/"
    },
    "id": "jBCxe-SqPq64",
    "outputId": "7a1c335d-7c10-4ef2-a287-3fde955ae4ea"
   },
   "outputs": [
    {
     "name": "stdout",
     "output_type": "stream",
     "text": [
      "test1 R2: [-0.00572907 -0.0170758  -0.00953445 -0.00411082]\n",
      "test1 average R2: -0.009112531915719979\n",
      "test2 R2: [-0.0055967  -0.01700595 -0.0094489  -0.0040413 ]\n",
      "test2 average R2: -0.009023212908630784\n"
     ]
    }
   ],
   "source": [
    "r2_lstm1 = []\n",
    "r2_lstm2 = []\n",
    "\n",
    "# Predict R2 for test1 dataset\n",
    "r2_lstm1 = r2_score(test1Y_shaped, test1Y_pred, multioutput='raw_values')\n",
    "print('test1 R2:', r2_lstm1)\n",
    "print('test1 average R2:', np.mean(r2_lstm1))\n",
    "\n",
    "# Predict R2 for test2 dataset\n",
    "r2_lstm2 = r2_score(test2Y_shaped, test2Y_pred, multioutput='raw_values')\n",
    "print('test2 R2:', r2_lstm2)\n",
    "print('test2 average R2:', np.mean(r2_lstm2))"
   ]
  },
  {
   "cell_type": "code",
   "execution_count": null,
   "metadata": {
    "id": "HUWQ1_xNeqv1"
   },
   "outputs": [],
   "source": [
    "# r2_lstm1 = []\n",
    "# r2_lstm2 = []\n",
    "\n",
    "# # Predict R2 for test1 dataset\n",
    "# r2_lstm1 = r2_score(test1Y_shaped, test1Y_pred, multioutput='raw_values')\n",
    "# print('test1 R2:', r2_lstm1)\n",
    "# print('test1 average R2:', np.mean(r2_lstm1))\n",
    "\n",
    "# # Predict R2 for test2 dataset\n",
    "# r2_lstm2 = r2_score(test2Y_shaped, test2Y_pred, multioutput='raw_values')\n",
    "# print('test2 R2:', r2_lstm2)\n",
    "# print('test2 average R2:', np.mean(r2_lstm2))"
   ]
  },
  {
   "cell_type": "markdown",
   "metadata": {
    "id": "NzLEEbUMeqv1"
   },
   "source": [
    "Predicting MSE in testing sets"
   ]
  },
  {
   "cell_type": "code",
   "execution_count": 96,
   "metadata": {
    "colab": {
     "base_uri": "https://localhost:8080/"
    },
    "id": "1p63IOjtPsaD",
    "outputId": "b184d6b8-0741-4589-cdf9-eb6aadf0f1a3"
   },
   "outputs": [
    {
     "name": "stdout",
     "output_type": "stream",
     "text": [
      "test1 MSE: [1.00306062 1.01686157 1.00897137 1.00334158]\n",
      "test1 average MSE: 1.0080587879517064\n",
      "test2 MSE: [1.00420032 1.01640018 1.00887887 1.00355421]\n",
      "test2 average MSE: 1.0082583961958544\n"
     ]
    }
   ],
   "source": [
    "mse_cnn1 = []\n",
    "mse_cnn2 = []\n",
    "\n",
    "# Predict mse for test1 dataset\n",
    "mse_cnn1 = mean_squared_error(test1Y_shaped, test1Y_predcnn, multioutput='raw_values')\n",
    "print('test1 MSE:', mse_cnn1)\n",
    "print('test1 average MSE:', np.mean(mse_cnn1))\n",
    "\n",
    "# Predict mse for test2 dataset\n",
    "mse_cnn2 = mean_squared_error(test2Y_shaped, test2Y_predcnn, multioutput='raw_values')\n",
    "print('test2 MSE:', mse_cnn2)\n",
    "print('test2 average MSE:', np.mean(mse_cnn2))"
   ]
  },
  {
   "cell_type": "code",
   "execution_count": null,
   "metadata": {
    "id": "yVNjedS4eqv1"
   },
   "outputs": [],
   "source": [
    "# mse_cnn1 = []\n",
    "# mse_cnn2 = []\n",
    "\n",
    "# # Predict mse for test1 dataset\n",
    "# mse_cnn1 = mean_squared_error(test1Y_shaped, test1Y_predcnn, multioutput='raw_values')\n",
    "# print('test1 MSE:', mse_cnn1)\n",
    "# print('test1 average MSE:', np.mean(mse_cnn1))\n",
    "\n",
    "# # Predict mse for test2 dataset\n",
    "# mse_cnn2 = mean_squared_error(test2Y_shaped, test2Y_predcnn, multioutput='raw_values')\n",
    "# print('test2 MSE:', mse_cnn2)\n",
    "# print('test2 average MSE:', np.mean(mse_cnn2))"
   ]
  },
  {
   "cell_type": "markdown",
   "metadata": {
    "id": "psCCRSmveqv1"
   },
   "source": [
    "Predicting MAE in testing sets"
   ]
  },
  {
   "cell_type": "code",
   "execution_count": 97,
   "metadata": {
    "colab": {
     "base_uri": "https://localhost:8080/"
    },
    "id": "rj3Lm-boeqv1",
    "outputId": "87688403-9f70-48f8-d51f-38f4095da0a3"
   },
   "outputs": [
    {
     "name": "stdout",
     "output_type": "stream",
     "text": [
      "test1 MAE: [0.85074434 0.87627268 0.87638247 0.88359734]\n",
      "test1 average MAE: 0.8717492046646538\n",
      "test2 MAE: [0.84422247 0.85847633 0.87123866 0.88113588]\n",
      "test2 average MAE: 0.8637683326541309\n"
     ]
    }
   ],
   "source": [
    "mae_cnn1 = []\n",
    "mae_cnn2 = []\n",
    "\n",
    "# Predict mae for test1 dataset\n",
    "\n",
    "mae_cnn1 = mean_absolute_error(test1Y_shaped, test1Y_predcnn, multioutput='raw_values')\n",
    "print('test1 MAE:', mae_cnn1)\n",
    "print('test1 average MAE:', np.mean(mae_cnn1))\n",
    "\n",
    "# Predict mae for test2 dataset\n",
    "mae_cnn2 = mean_absolute_error(test2Y_shaped, test2Y_predcnn, multioutput='raw_values')\n",
    "print('test2 MAE:', mae_cnn2)\n",
    "print('test2 average MAE:', np.mean(mae_cnn2))"
   ]
  }
 ],
 "metadata": {
  "accelerator": "GPU",
  "colab": {
   "collapsed_sections": [],
   "name": "DL_project_Group2_V1_DLModels (1).ipynb",
   "provenance": []
  },
  "kernelspec": {
   "display_name": "Python 3 (ipykernel)",
   "language": "python",
   "name": "python3"
  },
  "language_info": {
   "codemirror_mode": {
    "name": "ipython",
    "version": 3
   },
   "file_extension": ".py",
   "mimetype": "text/x-python",
   "name": "python",
   "nbconvert_exporter": "python",
   "pygments_lexer": "ipython3",
   "version": "3.9.6"
  }
 },
 "nbformat": 4,
 "nbformat_minor": 1
}
