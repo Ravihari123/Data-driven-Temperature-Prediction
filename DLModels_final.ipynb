{
 "cells": [
  {
   "cell_type": "markdown",
   "metadata": {
    "id": "2IZjn8tiCq_j"
   },
   "source": [
    "# Multivariate Time-Series Regression Problem (use multiple records with multiple variables in past to predict 4 variables in a single record in future)"
   ]
  },
  {
   "cell_type": "code",
   "execution_count": 13,
   "metadata": {
    "id": "DIFXVrf62VKR"
   },
   "outputs": [],
   "source": [
    "import numpy as np\n",
    "import tensorflow as tf\n",
    "from keras.models import Sequential\n",
    "from keras.layers import LSTM, Conv1D, MaxPool1D, add, AveragePooling1D, Dense, Dropout, BatchNormalization, Flatten, Input\n",
    "import pandas as pd\n",
    "from matplotlib import pyplot as plt\n",
    "from sklearn.preprocessing import StandardScaler\n",
    "import seaborn as sns\n",
    "#from datetime import datetime\n",
    "from google.colab import drive\n",
    "from os import listdir\n",
    "import os\n",
    "from sklearn.metrics import r2_score, mean_squared_error, mean_absolute_error\n",
    "from keras import models, optimizers as opts\n",
    "tf.keras.optimizers.Optimizer\n",
    "tf.keras.callbacks.LearningRateScheduler\n",
    "from numpy import mean\n",
    "from keras.regularizers import l2\n"
   ]
  },
  {
   "cell_type": "code",
   "execution_count": 14,
   "metadata": {
    "colab": {
     "base_uri": "https://localhost:8080/"
    },
    "id": "YWIFGzbd2kjO",
    "outputId": "3a927eef-e2ab-4ad0-daec-3f4a6dd61ff3"
   },
   "outputs": [
    {
     "name": "stdout",
     "output_type": "stream",
     "text": [
      "Drive already mounted at /content/gdrive; to attempt to forcibly remount, call drive.mount(\"/content/gdrive\", force_remount=True).\n"
     ]
    }
   ],
   "source": [
    "drive.mount('/content/gdrive')"
   ]
  },
  {
   "cell_type": "code",
   "execution_count": 15,
   "metadata": {
    "id": "jOQ6McnE2vjp"
   },
   "outputs": [],
   "source": [
    "base_path =  \"/content/gdrive/MyDrive/Deep Learning/DL_project\"\n",
    "# Change the working directory to the base_path\n",
    "os.chdir(base_path)"
   ]
  },
  {
   "cell_type": "code",
   "execution_count": 16,
   "metadata": {
    "colab": {
     "base_uri": "https://localhost:8080/"
    },
    "id": "oooqOu9-2viR",
    "outputId": "73acadc1-51e2-4ddc-814e-6c404c48963b"
   },
   "outputs": [
    {
     "data": {
      "text/plain": [
       "(1330816, 13)"
      ]
     },
     "execution_count": 16,
     "metadata": {},
     "output_type": "execute_result"
    }
   ],
   "source": [
    "df = pd.read_csv('measures_v2.csv')\n",
    "df.shape"
   ]
  },
  {
   "cell_type": "code",
   "execution_count": 17,
   "metadata": {
    "colab": {
     "base_uri": "https://localhost:8080/",
     "height": 206
    },
    "id": "SwBdmZfP2vhW",
    "outputId": "108a97eb-7cba-4c1d-836e-29328837ae4f"
   },
   "outputs": [
    {
     "data": {
      "text/html": [
       "\n",
       "  <div id=\"df-745e8da7-5c37-448d-a069-45716bf82b52\">\n",
       "    <div class=\"colab-df-container\">\n",
       "      <div>\n",
       "<style scoped>\n",
       "    .dataframe tbody tr th:only-of-type {\n",
       "        vertical-align: middle;\n",
       "    }\n",
       "\n",
       "    .dataframe tbody tr th {\n",
       "        vertical-align: top;\n",
       "    }\n",
       "\n",
       "    .dataframe thead th {\n",
       "        text-align: right;\n",
       "    }\n",
       "</style>\n",
       "<table border=\"1\" class=\"dataframe\">\n",
       "  <thead>\n",
       "    <tr style=\"text-align: right;\">\n",
       "      <th></th>\n",
       "      <th>u_q</th>\n",
       "      <th>coolant</th>\n",
       "      <th>stator_winding</th>\n",
       "      <th>u_d</th>\n",
       "      <th>stator_tooth</th>\n",
       "      <th>motor_speed</th>\n",
       "      <th>i_d</th>\n",
       "      <th>i_q</th>\n",
       "      <th>pm</th>\n",
       "      <th>stator_yoke</th>\n",
       "      <th>ambient</th>\n",
       "      <th>torque</th>\n",
       "      <th>profile_id</th>\n",
       "    </tr>\n",
       "  </thead>\n",
       "  <tbody>\n",
       "    <tr>\n",
       "      <th>0</th>\n",
       "      <td>-0.450682</td>\n",
       "      <td>18.805172</td>\n",
       "      <td>19.086670</td>\n",
       "      <td>-0.350055</td>\n",
       "      <td>18.293219</td>\n",
       "      <td>0.002866</td>\n",
       "      <td>0.004419</td>\n",
       "      <td>0.000328</td>\n",
       "      <td>24.554214</td>\n",
       "      <td>18.316547</td>\n",
       "      <td>19.850691</td>\n",
       "      <td>0.187101</td>\n",
       "      <td>17</td>\n",
       "    </tr>\n",
       "    <tr>\n",
       "      <th>1</th>\n",
       "      <td>-0.325737</td>\n",
       "      <td>18.818571</td>\n",
       "      <td>19.092390</td>\n",
       "      <td>-0.305803</td>\n",
       "      <td>18.294807</td>\n",
       "      <td>0.000257</td>\n",
       "      <td>0.000606</td>\n",
       "      <td>-0.000785</td>\n",
       "      <td>24.538078</td>\n",
       "      <td>18.314955</td>\n",
       "      <td>19.850672</td>\n",
       "      <td>0.245417</td>\n",
       "      <td>17</td>\n",
       "    </tr>\n",
       "    <tr>\n",
       "      <th>2</th>\n",
       "      <td>-0.440864</td>\n",
       "      <td>18.828770</td>\n",
       "      <td>19.089380</td>\n",
       "      <td>-0.372503</td>\n",
       "      <td>18.294094</td>\n",
       "      <td>0.002355</td>\n",
       "      <td>0.001290</td>\n",
       "      <td>0.000386</td>\n",
       "      <td>24.544693</td>\n",
       "      <td>18.326307</td>\n",
       "      <td>19.850657</td>\n",
       "      <td>0.176615</td>\n",
       "      <td>17</td>\n",
       "    </tr>\n",
       "    <tr>\n",
       "      <th>3</th>\n",
       "      <td>-0.327026</td>\n",
       "      <td>18.835567</td>\n",
       "      <td>19.083031</td>\n",
       "      <td>-0.316199</td>\n",
       "      <td>18.292542</td>\n",
       "      <td>0.006105</td>\n",
       "      <td>0.000026</td>\n",
       "      <td>0.002046</td>\n",
       "      <td>24.554018</td>\n",
       "      <td>18.330833</td>\n",
       "      <td>19.850647</td>\n",
       "      <td>0.238303</td>\n",
       "      <td>17</td>\n",
       "    </tr>\n",
       "    <tr>\n",
       "      <th>4</th>\n",
       "      <td>-0.471150</td>\n",
       "      <td>18.857033</td>\n",
       "      <td>19.082525</td>\n",
       "      <td>-0.332272</td>\n",
       "      <td>18.291428</td>\n",
       "      <td>0.003133</td>\n",
       "      <td>-0.064317</td>\n",
       "      <td>0.037184</td>\n",
       "      <td>24.565397</td>\n",
       "      <td>18.326662</td>\n",
       "      <td>19.850639</td>\n",
       "      <td>0.208197</td>\n",
       "      <td>17</td>\n",
       "    </tr>\n",
       "  </tbody>\n",
       "</table>\n",
       "</div>\n",
       "      <button class=\"colab-df-convert\" onclick=\"convertToInteractive('df-745e8da7-5c37-448d-a069-45716bf82b52')\"\n",
       "              title=\"Convert this dataframe to an interactive table.\"\n",
       "              style=\"display:none;\">\n",
       "        \n",
       "  <svg xmlns=\"http://www.w3.org/2000/svg\" height=\"24px\"viewBox=\"0 0 24 24\"\n",
       "       width=\"24px\">\n",
       "    <path d=\"M0 0h24v24H0V0z\" fill=\"none\"/>\n",
       "    <path d=\"M18.56 5.44l.94 2.06.94-2.06 2.06-.94-2.06-.94-.94-2.06-.94 2.06-2.06.94zm-11 1L8.5 8.5l.94-2.06 2.06-.94-2.06-.94L8.5 2.5l-.94 2.06-2.06.94zm10 10l.94 2.06.94-2.06 2.06-.94-2.06-.94-.94-2.06-.94 2.06-2.06.94z\"/><path d=\"M17.41 7.96l-1.37-1.37c-.4-.4-.92-.59-1.43-.59-.52 0-1.04.2-1.43.59L10.3 9.45l-7.72 7.72c-.78.78-.78 2.05 0 2.83L4 21.41c.39.39.9.59 1.41.59.51 0 1.02-.2 1.41-.59l7.78-7.78 2.81-2.81c.8-.78.8-2.07 0-2.86zM5.41 20L4 18.59l7.72-7.72 1.47 1.35L5.41 20z\"/>\n",
       "  </svg>\n",
       "      </button>\n",
       "      \n",
       "  <style>\n",
       "    .colab-df-container {\n",
       "      display:flex;\n",
       "      flex-wrap:wrap;\n",
       "      gap: 12px;\n",
       "    }\n",
       "\n",
       "    .colab-df-convert {\n",
       "      background-color: #E8F0FE;\n",
       "      border: none;\n",
       "      border-radius: 50%;\n",
       "      cursor: pointer;\n",
       "      display: none;\n",
       "      fill: #1967D2;\n",
       "      height: 32px;\n",
       "      padding: 0 0 0 0;\n",
       "      width: 32px;\n",
       "    }\n",
       "\n",
       "    .colab-df-convert:hover {\n",
       "      background-color: #E2EBFA;\n",
       "      box-shadow: 0px 1px 2px rgba(60, 64, 67, 0.3), 0px 1px 3px 1px rgba(60, 64, 67, 0.15);\n",
       "      fill: #174EA6;\n",
       "    }\n",
       "\n",
       "    [theme=dark] .colab-df-convert {\n",
       "      background-color: #3B4455;\n",
       "      fill: #D2E3FC;\n",
       "    }\n",
       "\n",
       "    [theme=dark] .colab-df-convert:hover {\n",
       "      background-color: #434B5C;\n",
       "      box-shadow: 0px 1px 3px 1px rgba(0, 0, 0, 0.15);\n",
       "      filter: drop-shadow(0px 1px 2px rgba(0, 0, 0, 0.3));\n",
       "      fill: #FFFFFF;\n",
       "    }\n",
       "  </style>\n",
       "\n",
       "      <script>\n",
       "        const buttonEl =\n",
       "          document.querySelector('#df-745e8da7-5c37-448d-a069-45716bf82b52 button.colab-df-convert');\n",
       "        buttonEl.style.display =\n",
       "          google.colab.kernel.accessAllowed ? 'block' : 'none';\n",
       "\n",
       "        async function convertToInteractive(key) {\n",
       "          const element = document.querySelector('#df-745e8da7-5c37-448d-a069-45716bf82b52');\n",
       "          const dataTable =\n",
       "            await google.colab.kernel.invokeFunction('convertToInteractive',\n",
       "                                                     [key], {});\n",
       "          if (!dataTable) return;\n",
       "\n",
       "          const docLinkHtml = 'Like what you see? Visit the ' +\n",
       "            '<a target=\"_blank\" href=https://colab.research.google.com/notebooks/data_table.ipynb>data table notebook</a>'\n",
       "            + ' to learn more about interactive tables.';\n",
       "          element.innerHTML = '';\n",
       "          dataTable['output_type'] = 'display_data';\n",
       "          await google.colab.output.renderOutput(dataTable, element);\n",
       "          const docLink = document.createElement('div');\n",
       "          docLink.innerHTML = docLinkHtml;\n",
       "          element.appendChild(docLink);\n",
       "        }\n",
       "      </script>\n",
       "    </div>\n",
       "  </div>\n",
       "  "
      ],
      "text/plain": [
       "        u_q    coolant  stator_winding       u_d  stator_tooth  motor_speed  \\\n",
       "0 -0.450682  18.805172       19.086670 -0.350055     18.293219     0.002866   \n",
       "1 -0.325737  18.818571       19.092390 -0.305803     18.294807     0.000257   \n",
       "2 -0.440864  18.828770       19.089380 -0.372503     18.294094     0.002355   \n",
       "3 -0.327026  18.835567       19.083031 -0.316199     18.292542     0.006105   \n",
       "4 -0.471150  18.857033       19.082525 -0.332272     18.291428     0.003133   \n",
       "\n",
       "        i_d       i_q         pm  stator_yoke    ambient    torque  profile_id  \n",
       "0  0.004419  0.000328  24.554214    18.316547  19.850691  0.187101          17  \n",
       "1  0.000606 -0.000785  24.538078    18.314955  19.850672  0.245417          17  \n",
       "2  0.001290  0.000386  24.544693    18.326307  19.850657  0.176615          17  \n",
       "3  0.000026  0.002046  24.554018    18.330833  19.850647  0.238303          17  \n",
       "4 -0.064317  0.037184  24.565397    18.326662  19.850639  0.208197          17  "
      ]
     },
     "execution_count": 17,
     "metadata": {},
     "output_type": "execute_result"
    }
   ],
   "source": [
    "df.head()"
   ]
  },
  {
   "cell_type": "code",
   "execution_count": 18,
   "metadata": {
    "colab": {
     "base_uri": "https://localhost:8080/",
     "height": 206
    },
    "id": "FIrXPphx2vfh",
    "outputId": "fe9ac3e5-871d-446e-9206-372d85cfa25c"
   },
   "outputs": [
    {
     "data": {
      "text/html": [
       "\n",
       "  <div id=\"df-76a4b2be-55f1-4dca-aa19-fa78fbb7ce42\">\n",
       "    <div class=\"colab-df-container\">\n",
       "      <div>\n",
       "<style scoped>\n",
       "    .dataframe tbody tr th:only-of-type {\n",
       "        vertical-align: middle;\n",
       "    }\n",
       "\n",
       "    .dataframe tbody tr th {\n",
       "        vertical-align: top;\n",
       "    }\n",
       "\n",
       "    .dataframe thead th {\n",
       "        text-align: right;\n",
       "    }\n",
       "</style>\n",
       "<table border=\"1\" class=\"dataframe\">\n",
       "  <thead>\n",
       "    <tr style=\"text-align: right;\">\n",
       "      <th></th>\n",
       "      <th>u_q</th>\n",
       "      <th>coolant</th>\n",
       "      <th>u_d</th>\n",
       "      <th>motor_speed</th>\n",
       "      <th>i_d</th>\n",
       "      <th>i_q</th>\n",
       "      <th>ambient</th>\n",
       "      <th>torque</th>\n",
       "      <th>pm</th>\n",
       "      <th>stator_yoke</th>\n",
       "      <th>stator_tooth</th>\n",
       "      <th>stator_winding</th>\n",
       "      <th>profile_id</th>\n",
       "    </tr>\n",
       "  </thead>\n",
       "  <tbody>\n",
       "    <tr>\n",
       "      <th>0</th>\n",
       "      <td>-0.450682</td>\n",
       "      <td>18.805172</td>\n",
       "      <td>-0.350055</td>\n",
       "      <td>0.002866</td>\n",
       "      <td>0.004419</td>\n",
       "      <td>0.000328</td>\n",
       "      <td>19.850691</td>\n",
       "      <td>0.187101</td>\n",
       "      <td>24.554214</td>\n",
       "      <td>18.316547</td>\n",
       "      <td>18.293219</td>\n",
       "      <td>19.086670</td>\n",
       "      <td>17</td>\n",
       "    </tr>\n",
       "    <tr>\n",
       "      <th>1</th>\n",
       "      <td>-0.325737</td>\n",
       "      <td>18.818571</td>\n",
       "      <td>-0.305803</td>\n",
       "      <td>0.000257</td>\n",
       "      <td>0.000606</td>\n",
       "      <td>-0.000785</td>\n",
       "      <td>19.850672</td>\n",
       "      <td>0.245417</td>\n",
       "      <td>24.538078</td>\n",
       "      <td>18.314955</td>\n",
       "      <td>18.294807</td>\n",
       "      <td>19.092390</td>\n",
       "      <td>17</td>\n",
       "    </tr>\n",
       "    <tr>\n",
       "      <th>2</th>\n",
       "      <td>-0.440864</td>\n",
       "      <td>18.828770</td>\n",
       "      <td>-0.372503</td>\n",
       "      <td>0.002355</td>\n",
       "      <td>0.001290</td>\n",
       "      <td>0.000386</td>\n",
       "      <td>19.850657</td>\n",
       "      <td>0.176615</td>\n",
       "      <td>24.544693</td>\n",
       "      <td>18.326307</td>\n",
       "      <td>18.294094</td>\n",
       "      <td>19.089380</td>\n",
       "      <td>17</td>\n",
       "    </tr>\n",
       "    <tr>\n",
       "      <th>3</th>\n",
       "      <td>-0.327026</td>\n",
       "      <td>18.835567</td>\n",
       "      <td>-0.316199</td>\n",
       "      <td>0.006105</td>\n",
       "      <td>0.000026</td>\n",
       "      <td>0.002046</td>\n",
       "      <td>19.850647</td>\n",
       "      <td>0.238303</td>\n",
       "      <td>24.554018</td>\n",
       "      <td>18.330833</td>\n",
       "      <td>18.292542</td>\n",
       "      <td>19.083031</td>\n",
       "      <td>17</td>\n",
       "    </tr>\n",
       "    <tr>\n",
       "      <th>4</th>\n",
       "      <td>-0.471150</td>\n",
       "      <td>18.857033</td>\n",
       "      <td>-0.332272</td>\n",
       "      <td>0.003133</td>\n",
       "      <td>-0.064317</td>\n",
       "      <td>0.037184</td>\n",
       "      <td>19.850639</td>\n",
       "      <td>0.208197</td>\n",
       "      <td>24.565397</td>\n",
       "      <td>18.326662</td>\n",
       "      <td>18.291428</td>\n",
       "      <td>19.082525</td>\n",
       "      <td>17</td>\n",
       "    </tr>\n",
       "  </tbody>\n",
       "</table>\n",
       "</div>\n",
       "      <button class=\"colab-df-convert\" onclick=\"convertToInteractive('df-76a4b2be-55f1-4dca-aa19-fa78fbb7ce42')\"\n",
       "              title=\"Convert this dataframe to an interactive table.\"\n",
       "              style=\"display:none;\">\n",
       "        \n",
       "  <svg xmlns=\"http://www.w3.org/2000/svg\" height=\"24px\"viewBox=\"0 0 24 24\"\n",
       "       width=\"24px\">\n",
       "    <path d=\"M0 0h24v24H0V0z\" fill=\"none\"/>\n",
       "    <path d=\"M18.56 5.44l.94 2.06.94-2.06 2.06-.94-2.06-.94-.94-2.06-.94 2.06-2.06.94zm-11 1L8.5 8.5l.94-2.06 2.06-.94-2.06-.94L8.5 2.5l-.94 2.06-2.06.94zm10 10l.94 2.06.94-2.06 2.06-.94-2.06-.94-.94-2.06-.94 2.06-2.06.94z\"/><path d=\"M17.41 7.96l-1.37-1.37c-.4-.4-.92-.59-1.43-.59-.52 0-1.04.2-1.43.59L10.3 9.45l-7.72 7.72c-.78.78-.78 2.05 0 2.83L4 21.41c.39.39.9.59 1.41.59.51 0 1.02-.2 1.41-.59l7.78-7.78 2.81-2.81c.8-.78.8-2.07 0-2.86zM5.41 20L4 18.59l7.72-7.72 1.47 1.35L5.41 20z\"/>\n",
       "  </svg>\n",
       "      </button>\n",
       "      \n",
       "  <style>\n",
       "    .colab-df-container {\n",
       "      display:flex;\n",
       "      flex-wrap:wrap;\n",
       "      gap: 12px;\n",
       "    }\n",
       "\n",
       "    .colab-df-convert {\n",
       "      background-color: #E8F0FE;\n",
       "      border: none;\n",
       "      border-radius: 50%;\n",
       "      cursor: pointer;\n",
       "      display: none;\n",
       "      fill: #1967D2;\n",
       "      height: 32px;\n",
       "      padding: 0 0 0 0;\n",
       "      width: 32px;\n",
       "    }\n",
       "\n",
       "    .colab-df-convert:hover {\n",
       "      background-color: #E2EBFA;\n",
       "      box-shadow: 0px 1px 2px rgba(60, 64, 67, 0.3), 0px 1px 3px 1px rgba(60, 64, 67, 0.15);\n",
       "      fill: #174EA6;\n",
       "    }\n",
       "\n",
       "    [theme=dark] .colab-df-convert {\n",
       "      background-color: #3B4455;\n",
       "      fill: #D2E3FC;\n",
       "    }\n",
       "\n",
       "    [theme=dark] .colab-df-convert:hover {\n",
       "      background-color: #434B5C;\n",
       "      box-shadow: 0px 1px 3px 1px rgba(0, 0, 0, 0.15);\n",
       "      filter: drop-shadow(0px 1px 2px rgba(0, 0, 0, 0.3));\n",
       "      fill: #FFFFFF;\n",
       "    }\n",
       "  </style>\n",
       "\n",
       "      <script>\n",
       "        const buttonEl =\n",
       "          document.querySelector('#df-76a4b2be-55f1-4dca-aa19-fa78fbb7ce42 button.colab-df-convert');\n",
       "        buttonEl.style.display =\n",
       "          google.colab.kernel.accessAllowed ? 'block' : 'none';\n",
       "\n",
       "        async function convertToInteractive(key) {\n",
       "          const element = document.querySelector('#df-76a4b2be-55f1-4dca-aa19-fa78fbb7ce42');\n",
       "          const dataTable =\n",
       "            await google.colab.kernel.invokeFunction('convertToInteractive',\n",
       "                                                     [key], {});\n",
       "          if (!dataTable) return;\n",
       "\n",
       "          const docLinkHtml = 'Like what you see? Visit the ' +\n",
       "            '<a target=\"_blank\" href=https://colab.research.google.com/notebooks/data_table.ipynb>data table notebook</a>'\n",
       "            + ' to learn more about interactive tables.';\n",
       "          element.innerHTML = '';\n",
       "          dataTable['output_type'] = 'display_data';\n",
       "          await google.colab.output.renderOutput(dataTable, element);\n",
       "          const docLink = document.createElement('div');\n",
       "          docLink.innerHTML = docLinkHtml;\n",
       "          element.appendChild(docLink);\n",
       "        }\n",
       "      </script>\n",
       "    </div>\n",
       "  </div>\n",
       "  "
      ],
      "text/plain": [
       "        u_q    coolant       u_d  motor_speed       i_d       i_q    ambient  \\\n",
       "0 -0.450682  18.805172 -0.350055     0.002866  0.004419  0.000328  19.850691   \n",
       "1 -0.325737  18.818571 -0.305803     0.000257  0.000606 -0.000785  19.850672   \n",
       "2 -0.440864  18.828770 -0.372503     0.002355  0.001290  0.000386  19.850657   \n",
       "3 -0.327026  18.835567 -0.316199     0.006105  0.000026  0.002046  19.850647   \n",
       "4 -0.471150  18.857033 -0.332272     0.003133 -0.064317  0.037184  19.850639   \n",
       "\n",
       "     torque         pm  stator_yoke  stator_tooth  stator_winding  profile_id  \n",
       "0  0.187101  24.554214    18.316547     18.293219       19.086670          17  \n",
       "1  0.245417  24.538078    18.314955     18.294807       19.092390          17  \n",
       "2  0.176615  24.544693    18.326307     18.294094       19.089380          17  \n",
       "3  0.238303  24.554018    18.330833     18.292542       19.083031          17  \n",
       "4  0.208197  24.565397    18.326662     18.291428       19.082525          17  "
      ]
     },
     "execution_count": 18,
     "metadata": {},
     "output_type": "execute_result"
    }
   ],
   "source": [
    "# change the order of cols\n",
    "new_cols = ['u_q','coolant','u_d','motor_speed','i_d','i_q','ambient', 'torque','pm','stator_yoke','stator_tooth','stator_winding','profile_id']\n",
    "df=df.reindex(columns=new_cols)\n",
    "df.head()"
   ]
  },
  {
   "cell_type": "code",
   "execution_count": 19,
   "metadata": {
    "id": "Olifhxiq2veA"
   },
   "outputs": [],
   "source": [
    "# split the dataset\n",
    "# Making the profile id 65 and 72 as the two testing sets and rest as the training set\n",
    "df_test1set = df[(df['profile_id'] == 72)]\n",
    "df_test2set = df[(df['profile_id'] == 65)]\n",
    "\n",
    "# Only 20, 18 and 66 profiles will be included in the training set to reduce the dataset size. Higher computations needed.\n",
    "df_trainset = df[(df['profile_id'] != 65) & (df['profile_id'] != 72) & (df['profile_id'] != 20) & (df['profile_id'] != 6) & (df['profile_id'] != 18) & (df['profile_id'] != 13) & (df['profile_id'] != 27) & (df['profile_id'] != 53)]\n",
    "df_trainset = df[(df['profile_id'] == 20) | (df['profile_id'] == 18) | (df['profile_id'] == 27) | (df['profile_id'] == 6)]"
   ]
  },
  {
   "cell_type": "code",
   "execution_count": 20,
   "metadata": {
    "colab": {
     "base_uri": "https://localhost:8080/"
    },
    "id": "tvDqPmQR2vcV",
    "outputId": "51a76740-0278-4fe5-b637-870ffd0f8a04"
   },
   "outputs": [
    {
     "name": "stderr",
     "output_type": "stream",
     "text": [
      "/usr/local/lib/python3.7/dist-packages/pandas/core/frame.py:4913: SettingWithCopyWarning: \n",
      "A value is trying to be set on a copy of a slice from a DataFrame\n",
      "\n",
      "See the caveats in the documentation: https://pandas.pydata.org/pandas-docs/stable/user_guide/indexing.html#returning-a-view-versus-a-copy\n",
      "  errors=errors,\n"
     ]
    }
   ],
   "source": [
    "df_trainset.drop(['profile_id','torque'],axis = 1,inplace=True)\n",
    "df_test1set.drop(['profile_id','torque'],axis = 1,inplace=True)\n",
    "df_test2set.drop(['profile_id','torque'],axis = 1,inplace=True)"
   ]
  },
  {
   "cell_type": "markdown",
   "metadata": {
    "id": "yxwUei_YgAzv"
   },
   "source": [
    "# Preparing the training data set"
   ]
  },
  {
   "cell_type": "code",
   "execution_count": 21,
   "metadata": {
    "colab": {
     "base_uri": "https://localhost:8080/"
    },
    "id": "Z7lup36l2vaN",
    "outputId": "6a063f9d-143f-410e-91e2-dcd2dafee204"
   },
   "outputs": [
    {
     "data": {
      "text/plain": [
       "(157452, 11)"
      ]
     },
     "execution_count": 21,
     "metadata": {},
     "output_type": "execute_result"
    }
   ],
   "source": [
    "df_trainset.head()\n",
    "df_trainset.shape"
   ]
  },
  {
   "cell_type": "code",
   "execution_count": 22,
   "metadata": {
    "colab": {
     "base_uri": "https://localhost:8080/"
    },
    "id": "W8N3Z-qN2ukp",
    "outputId": "21046168-b226-45a8-f56f-a89feac58a1e"
   },
   "outputs": [
    {
     "name": "stdout",
     "output_type": "stream",
     "text": [
      "['u_q', 'coolant', 'u_d', 'motor_speed', 'i_d', 'i_q', 'ambient', 'pm', 'stator_yoke', 'stator_tooth', 'stator_winding']\n"
     ]
    }
   ],
   "source": [
    "cols = list(df_trainset)[0:12]\n",
    "print(cols)"
   ]
  },
  {
   "cell_type": "code",
   "execution_count": 23,
   "metadata": {
    "id": "kWdZCbq95aPG"
   },
   "outputs": [],
   "source": [
    "#New dataframe with only training data - 12 columns\n",
    "df_for_training = df_trainset[cols].astype(float)"
   ]
  },
  {
   "cell_type": "code",
   "execution_count": 24,
   "metadata": {
    "id": "mOruT8cw5aC6"
   },
   "outputs": [],
   "source": [
    "#LSTM uses sigmoid and tanh that are sensitive to magnitude so values need to be normalized\n",
    "# normalize the dataset\n",
    "scaler = StandardScaler()\n",
    "scaler = scaler.fit(df_for_training)\n",
    "df_for_training_scaled = scaler.transform(df_for_training)"
   ]
  },
  {
   "cell_type": "code",
   "execution_count": 25,
   "metadata": {
    "colab": {
     "base_uri": "https://localhost:8080/"
    },
    "id": "qxc0z2bO5Z-4",
    "outputId": "7dcb0851-216a-4a70-c43d-2146909cc7a2"
   },
   "outputs": [
    {
     "data": {
      "text/plain": [
       "(157452, 11)"
      ]
     },
     "execution_count": 25,
     "metadata": {},
     "output_type": "execute_result"
    }
   ],
   "source": [
    "df_for_training_scaled.shape"
   ]
  },
  {
   "cell_type": "code",
   "execution_count": 26,
   "metadata": {
    "id": "hfr3hn0P5Z6d"
   },
   "outputs": [],
   "source": [
    "#As required for LSTM networks, we require to reshape an input data into n_samples x timesteps x n_features. \n",
    "#In this example, the n_features is 12. We will make timesteps = 10 (past records data used for training). \n",
    "\n",
    "#Empty lists to be populated using formatted training data\n",
    "trainX = []\n",
    "trainY = []\n",
    "\n",
    "n_future = 1   # Number of records we want to look into the future based on the past records.\n",
    "n_past = 20  # Number of past records we want to use to predict the future."
   ]
  },
  {
   "cell_type": "code",
   "execution_count": 27,
   "metadata": {
    "colab": {
     "base_uri": "https://localhost:8080/"
    },
    "id": "hk8Yjo3I6x9U",
    "outputId": "53886608-ae28-4532-fd96-702c3f537ab7"
   },
   "outputs": [
    {
     "name": "stdout",
     "output_type": "stream",
     "text": [
      "trainX shape == (157432, 20, 11).\n",
      "trainY shape == (157432, 1, 4).\n"
     ]
    }
   ],
   "source": [
    "#Reformat input data into a shape: (n_samples x timesteps x n_features)\n",
    "#Here df_for_training_scaled has a shape (983116, 12)\n",
    "#983116 refers to the number of data points and 12 refers to the columns (multi-variables).\n",
    "for i in range(n_past, len(df_for_training_scaled) - n_future +1):\n",
    "    trainX.append(df_for_training_scaled[i - n_past:i, 0:df_for_training.shape[1]])\n",
    "    trainY.append(df_for_training_scaled[i + n_future - 1:i + n_future, 7:12])   #here, 7:12 represnt the index of varibales we need to predict. Can update this to predict single varible \n",
    "\n",
    "trainX, trainY = np.array(trainX), np.array(trainY)\n",
    "\n",
    "print('trainX shape == {}.'.format(trainX.shape))\n",
    "print('trainY shape == {}.'.format(trainY.shape))"
   ]
  },
  {
   "cell_type": "markdown",
   "metadata": {
    "id": "2sEJqETA_qwe"
   },
   "source": [
    "#In here, trainX has a shape (983106, 10, 12). \n",
    "#983106 because we are looking back 10 records (983106 - 10 = 983096). \n",
    "#Remember that we cannot look back 10 records until we get to the 11th record. \n",
    "#Also, trainY has a shape (983906, 1). Our model predicts 4 value, but \n",
    "#it needs multiple variables (12) to make this prediction. \n",
    "#This is why we can only predict a single record after our training, the records after where our data ends.\n",
    "#To predict more records in future, we need all the 12 variables which we do not have. \n",
    "#We need to predict all variables if we want to do that. \n"
   ]
  },
  {
   "cell_type": "code",
   "execution_count": 28,
   "metadata": {
    "colab": {
     "base_uri": "https://localhost:8080/"
    },
    "id": "cIOzl07o6x5m",
    "outputId": "291a50b2-1a7b-4d6e-fb5d-619fb24cf19a"
   },
   "outputs": [
    {
     "name": "stdout",
     "output_type": "stream",
     "text": [
      "[[-1.09030334 -0.43847945  0.78481411 -1.06654356  1.21354916 -0.88709708\n",
      "  -1.47305558 -1.68933728 -1.36211445 -1.51770038 -1.53211676]\n",
      " [-1.0894656  -0.43667352  0.7855291  -1.06654228  1.21372566 -0.88704858\n",
      "  -1.46976978 -1.68924455 -1.36206193 -1.5175227  -1.53207077]\n",
      " [-1.08817766 -0.43573196  0.7859999  -1.06654287  1.21390282 -0.88709646\n",
      "  -1.46836815 -1.68934675 -1.36198718 -1.51806675 -1.5322797 ]\n",
      " [-1.08644052 -0.43625545  0.78686586 -1.06654085  1.21399856 -0.88707244\n",
      "  -1.46340111 -1.68925313 -1.3608603  -1.51845657 -1.53270872]\n",
      " [-1.08733081 -0.4380256   0.78638403 -1.06654106  1.21406165 -0.88707087\n",
      "  -1.46228264 -1.68951142 -1.36096934 -1.51851835 -1.53274433]\n",
      " [-1.08475606 -0.43990969  0.78726677 -1.06654346  1.21414301 -0.88708105\n",
      "  -1.46882828 -1.68954469 -1.36167407 -1.51777471 -1.53300773]\n",
      " [-1.08656415 -0.44161787  0.78656943 -1.06654461  1.21420701 -0.88708081\n",
      "  -1.46905127 -1.68957496 -1.3637551  -1.51729149 -1.53333452]\n",
      " [-1.08429308 -0.44344438  0.78772624 -1.06653998  1.21421491 -0.88708941\n",
      "  -1.47115489 -1.68964167 -1.36421691 -1.51757503 -1.53323903]\n",
      " [-1.09226112 -0.44481423  0.79410257 -1.06654111  1.20681909 -0.88361012\n",
      "  -1.47183565 -1.6898282  -1.36391143 -1.51745843 -1.53322996]\n",
      " [-1.09383934 -0.44538229  0.80148375 -1.0665402   1.20054803 -0.88071223\n",
      "  -1.46343297 -1.68968627 -1.36375294 -1.51757228 -1.53305971]\n",
      " [-1.09888575 -0.44574192  0.80526854 -1.06654003  1.1960628  -0.87861985\n",
      "  -1.4599348  -1.68975556 -1.36381196 -1.51754702 -1.53300009]\n",
      " [-1.09943226 -0.4462424   0.80892195 -1.06654092  1.1928448  -0.87714471\n",
      "  -1.45894021 -1.68942002 -1.36312615 -1.51689316 -1.53295163]\n",
      " [-1.10134737 -0.44619322  0.81109848 -1.06654048  1.19052345 -0.87608772\n",
      "  -1.45893313 -1.68938038 -1.36231784 -1.51671891 -1.53271406]\n",
      " [-1.10299117 -0.44580985  0.81237435 -1.0665407   1.18889185 -0.87531078\n",
      "  -1.45091389 -1.68938586 -1.3620952  -1.51690433 -1.53286044]\n",
      " [-1.10262131 -0.44500854  0.81417682 -1.06654161  1.18769175 -0.87478099\n",
      "  -1.45751853 -1.68954823 -1.36269248 -1.51727783 -1.53269058]\n",
      " [-1.10526199 -0.44372281  0.81416872 -1.06654103  1.1868449  -0.87438742\n",
      "  -1.4708505  -1.68931967 -1.36313344 -1.51707944 -1.53225642]\n",
      " [-1.10444601 -0.44272695  0.81500148 -1.06654196  1.18623061 -0.87410756\n",
      "  -1.47059919 -1.68953682 -1.36328418 -1.51679702 -1.53227135]\n",
      " [-1.10676957 -0.44129135  0.81480026 -1.06654129  1.18580989 -0.87388329\n",
      "  -1.46836579 -1.6892918  -1.36232593 -1.51643074 -1.53220913]\n",
      " [-1.10423046 -0.43864186  0.81636467 -1.06654156  1.18548169 -0.8737625\n",
      "  -1.46910908 -1.68894565 -1.36039815 -1.51630478 -1.53204618]\n",
      " [-1.10680188 -0.4366068   0.81546677 -1.06654158  1.18526098 -0.87364726\n",
      "  -1.47116315 -1.68877929 -1.35943386 -1.51690158 -1.53223933]]\n",
      "[[-1.68904528 -1.36028478 -1.51709447 -1.53223639]]\n"
     ]
    }
   ],
   "source": [
    "print(trainX[0])\n",
    "print(trainY[0])"
   ]
  },
  {
   "cell_type": "markdown",
   "metadata": {
    "id": "2Rvr6aswgQhP"
   },
   "source": [
    "# Preparing the testing data set"
   ]
  },
  {
   "cell_type": "code",
   "execution_count": 29,
   "metadata": {
    "colab": {
     "base_uri": "https://localhost:8080/"
    },
    "id": "_7SHMV74gcp2",
    "outputId": "855a3c91-499e-47f4-f6e2-0913e78ba09f"
   },
   "outputs": [
    {
     "name": "stdout",
     "output_type": "stream",
     "text": [
      "              u_q    coolant        u_d  motor_speed        i_d         i_q  \\\n",
      "984807  -1.887356  30.721162   1.946434     0.022686  -2.001102    1.098022   \n",
      "984808   0.604919  30.721209   0.109622    27.444022  -8.944310   26.184500   \n",
      "984809   4.665253  30.721242  -6.753488   116.920677 -35.659968   80.725465   \n",
      "984810   9.206368  30.721266 -16.699363   251.384409 -59.658771  125.454513   \n",
      "984811  14.197583  30.720804 -28.559625   418.588814 -77.320911  158.080952   \n",
      "\n",
      "          ambient         pm  stator_yoke  stator_tooth  stator_winding  \n",
      "984807  23.886441  37.112483    30.660012     31.291477       32.113178  \n",
      "984808  23.885538  37.111457    30.708855     31.296847       32.115623  \n",
      "984809  23.883657  37.116662    30.743853     31.283346       32.122736  \n",
      "984810  23.880380  36.924837    30.777050     31.283340       32.130268  \n",
      "984811  23.874869  36.922961    30.820728     31.212032       32.117775  \n",
      "(15301, 11)\n",
      "              u_q    coolant       u_d  motor_speed        i_d        i_q  \\\n",
      "1042494 -0.060301  24.572270 -0.044640  3028.577653 -16.682717 -22.554878   \n",
      "1042495 -0.098472  24.549411 -0.087538  3277.195135 -32.674103 -36.837572   \n",
      "1042496 -0.134579  24.529792 -0.137843  3526.252702 -51.436325 -50.341317   \n",
      "1042497 -0.163837  24.506268 -0.188305  3775.622429 -70.247635 -61.302441   \n",
      "1042498 -0.185884  24.494794 -0.235406  4025.182345 -87.820645 -69.577852   \n",
      "\n",
      "           ambient         pm  stator_yoke  stator_tooth  stator_winding  \n",
      "1042494  25.156664  26.037928    23.902619     24.759084       25.328268  \n",
      "1042495  25.158406  26.171841    23.906777     24.771273       25.332084  \n",
      "1042496  25.159215  25.995341    23.909756     24.780007       25.289755  \n",
      "1042497  25.157646  25.900132    23.910191     24.786265       25.284230  \n",
      "1042498  25.156261  25.862153    23.911742     24.790749       25.343128  \n",
      "(40094, 11)\n"
     ]
    }
   ],
   "source": [
    "print(df_test1set.head())\n",
    "print(df_test1set.shape)\n",
    "print(df_test2set.head())\n",
    "print(df_test2set.shape)"
   ]
  },
  {
   "cell_type": "code",
   "execution_count": 30,
   "metadata": {
    "colab": {
     "base_uri": "https://localhost:8080/"
    },
    "id": "YJUHt6KFgciL",
    "outputId": "79889793-1d3f-4fee-e32e-da5e6662b62e"
   },
   "outputs": [
    {
     "name": "stdout",
     "output_type": "stream",
     "text": [
      "['u_q', 'coolant', 'u_d', 'motor_speed', 'i_d', 'i_q', 'ambient', 'pm', 'stator_yoke', 'stator_tooth', 'stator_winding']\n"
     ]
    }
   ],
   "source": [
    "cols = list(df_test1set)[0:12]\n",
    "print(cols)"
   ]
  },
  {
   "cell_type": "code",
   "execution_count": 31,
   "metadata": {
    "id": "t46sJbOJgcYB"
   },
   "outputs": [],
   "source": [
    "#New dataframe with only training data - 11 columns\n",
    "df_for_testing1 = df_test1set[cols].astype(float)\n",
    "df_for_testing2 = df_test2set[cols].astype(float)"
   ]
  },
  {
   "cell_type": "code",
   "execution_count": 32,
   "metadata": {
    "id": "AMuP7c1dgcOG"
   },
   "outputs": [],
   "source": [
    "#LSTM uses sigmoid and tanh that are sensitive to magnitude so values need to be normalized\n",
    "# normalize the testing 1 dataset\n",
    "scaler = StandardScaler()\n",
    "scaler = scaler.fit(df_for_testing1)\n",
    "df_for_testing1_scaled = scaler.transform(df_for_testing1)\n",
    "\n",
    "# normalize the testing 2 dataset\n",
    "scaler = StandardScaler()\n",
    "scaler = scaler.fit(df_for_testing2)\n",
    "df_for_testing2_scaled = scaler.transform(df_for_testing2)"
   ]
  },
  {
   "cell_type": "code",
   "execution_count": 33,
   "metadata": {
    "colab": {
     "base_uri": "https://localhost:8080/"
    },
    "id": "UybrbYBthZfH",
    "outputId": "4461f3bb-e81f-479f-f231-afa53335fcf5"
   },
   "outputs": [
    {
     "name": "stdout",
     "output_type": "stream",
     "text": [
      "(15301, 11)\n",
      "(40094, 11)\n"
     ]
    }
   ],
   "source": [
    "print(df_for_testing1_scaled.shape)\n",
    "print(df_for_testing2_scaled.shape)"
   ]
  },
  {
   "cell_type": "code",
   "execution_count": 34,
   "metadata": {
    "id": "6C9Fc5c7hZS7"
   },
   "outputs": [],
   "source": [
    "#As required for LSTM networks, we require to reshape an input data into n_samples x timesteps x n_features. \n",
    "#In this example, the n_features is 12. We will make timesteps = 10 (past records data used for training). \n",
    "\n",
    "#Empty lists to be populated using formatted training data\n",
    "test1X = []\n",
    "test1Y = []\n",
    "test2X = []\n",
    "test2Y = []\n"
   ]
  },
  {
   "cell_type": "code",
   "execution_count": 35,
   "metadata": {
    "id": "DmK_Hk6I15qI"
   },
   "outputs": [],
   "source": [
    "n_future = 1   # Number of records we want to look into the future based on the past records.\n",
    "n_past = 20  # Number of past days we want to use to predict the future.\n",
    "n_feature_predict = 4"
   ]
  },
  {
   "cell_type": "code",
   "execution_count": 36,
   "metadata": {
    "colab": {
     "base_uri": "https://localhost:8080/"
    },
    "id": "o0yCoOfMheHr",
    "outputId": "2d20b123-0a5e-4a05-c79e-57b8a944bfc4"
   },
   "outputs": [
    {
     "name": "stdout",
     "output_type": "stream",
     "text": [
      "test1X shape == (15281, 20, 11).\n",
      "test1Y shape == (15281, 1, 4).\n",
      "test2X shape == (40074, 20, 11).\n",
      "test2Y shape == (40074, 1, 4).\n"
     ]
    }
   ],
   "source": [
    "#Reformat input data into a shape: (n_samples x timesteps x n_features)\n",
    "#Here df_for_training_scaled has a shape (983116, 12)\n",
    "#983116 refers to the number of data points and 12 refers to the columns (multi-variables).\n",
    "\n",
    "#for testing set1\n",
    "for i in range(n_past, len(df_for_testing1_scaled) - n_future +1):\n",
    "    test1X.append(df_for_testing1_scaled[i - n_past:i, 0:df_for_testing1.shape[1]])\n",
    "    test1Y.append(df_for_testing1_scaled[i + n_future - 1:i + n_future, 7:12])   #here, 8:12 represnt the index of varibales we need to predict. Can update this to predict single varible \n",
    "\n",
    "test1X, test1Y = np.array(test1X), np.array(test1Y)\n",
    "\n",
    "print('test1X shape == {}.'.format(test1X.shape))\n",
    "print('test1Y shape == {}.'.format(test1Y.shape))\n",
    "\n",
    "\n",
    "\n",
    "\n",
    "#for testing set2\n",
    "for i in range(n_past, len(df_for_testing2_scaled) - n_future +1):\n",
    "    test2X.append(df_for_testing2_scaled[i - n_past:i, 0:df_for_testing2.shape[1]])\n",
    "    test2Y.append(df_for_testing2_scaled[i + n_future - 1:i + n_future, 7:12])   #here, 8:12 represnt the index of varibales we need to predict. Can update this to predict single varible \n",
    "\n",
    "test2X, test2Y = np.array(test2X), np.array(test2Y)\n",
    "\n",
    "print('test2X shape == {}.'.format(test2X.shape))\n",
    "print('test2Y shape == {}.'.format(test2Y.shape))"
   ]
  },
  {
   "cell_type": "code",
   "execution_count": 37,
   "metadata": {
    "colab": {
     "base_uri": "https://localhost:8080/"
    },
    "id": "ocqBVnz5hd8E",
    "outputId": "2dfa9ed8-45fa-4bc4-f606-b30b0e8775f4"
   },
   "outputs": [
    {
     "name": "stdout",
     "output_type": "stream",
     "text": [
      "[[-8.78772845e-01 -7.56371740e-01  3.45559522e-02 -8.12250541e-01\n",
      "   7.50442825e-01 -4.51270049e-02 -1.80336035e+00 -2.24822679e+00\n",
      "  -1.15274113e+00 -1.35652784e+00 -1.47226284e+00]\n",
      " [-8.25551818e-01 -7.56369847e-01 -9.13754760e-05 -7.97354756e-01\n",
      "   6.23326560e-01  2.73478543e-01 -1.80566932e+00 -2.24833480e+00\n",
      "  -1.15037549e+00 -1.35626666e+00 -1.47215309e+00]\n",
      " [-7.38845823e-01 -7.56368490e-01 -1.29548453e-01 -7.48749358e-01\n",
      "   1.34216246e-01  9.66164622e-01 -1.81047760e+00 -2.24778655e+00\n",
      "  -1.14868043e+00 -1.35692325e+00 -1.47183376e+00]\n",
      " [-6.41873056e-01 -7.56367518e-01 -3.17154917e-01 -6.75706134e-01\n",
      "  -3.05153865e-01  1.53423651e+00 -1.81885482e+00 -2.26799373e+00\n",
      "  -1.14707256e+00 -1.35692357e+00 -1.47149565e+00]\n",
      " [-5.35288682e-01 -7.56386252e-01 -5.40871998e-01 -5.84877562e-01\n",
      "  -6.28512354e-01  1.94860176e+00 -1.83294313e+00 -2.26819135e+00\n",
      "  -1.14495711e+00 -1.36039158e+00 -1.47205650e+00]\n",
      " [-4.22180826e-01 -7.56391199e-01 -7.91230291e-01 -4.81303549e-01\n",
      "  -8.65055007e-01  2.25171862e+00 -1.83397880e+00 -2.23809152e+00\n",
      "  -1.14543801e+00 -1.36628321e+00 -1.47318809e+00]\n",
      " [-3.04218161e-01 -7.56383790e-01 -1.05754178e+00 -3.69738537e-01\n",
      "  -1.03705380e+00  2.47381327e+00 -1.82760840e+00 -2.23392424e+00\n",
      "  -1.14797530e+00 -1.36877558e+00 -1.47279806e+00]\n",
      " [-2.09006459e-01 -7.56378481e-01 -1.27294492e+00 -2.78836845e-01\n",
      "  -1.16293576e+00  2.63632066e+00 -1.82304381e+00 -2.20983986e+00\n",
      "  -1.14936741e+00 -1.36463695e+00 -1.47313821e+00]\n",
      " [-1.40365675e-01 -7.56374677e-01 -1.43102213e+00 -2.12444923e-01\n",
      "  -1.25575541e+00  2.75479621e+00 -1.84500372e+00 -2.23801538e+00\n",
      "  -1.15249878e+00 -1.36150095e+00 -1.47499341e+00]\n",
      " [-8.93499337e-02 -7.56371951e-01 -1.55279275e+00 -1.61885715e-01\n",
      "  -1.32732153e+00  2.84370792e+00 -1.83554088e+00 -2.27936997e+00\n",
      "  -1.15520527e+00 -1.35929015e+00 -1.47698497e+00]\n",
      " [-4.89371155e-02 -7.56369998e-01 -1.65588825e+00 -1.19940341e-01\n",
      "  -1.38526597e+00  2.91335015e+00 -1.80968775e+00 -2.24404216e+00\n",
      "  -1.15618169e+00 -1.35833580e+00 -1.47680430e+00]\n",
      " [-1.56214072e-02 -7.56368598e-01 -1.73891026e+00 -8.57634828e-02\n",
      "  -1.42694631e+00  2.96338827e+00 -1.81501805e+00 -2.25523146e+00\n",
      "  -1.15401720e+00 -1.35920317e+00 -1.47257745e+00]\n",
      " [ 1.12066103e-02 -7.56367595e-01 -1.79985382e+00 -5.97863610e-02\n",
      "  -1.45119992e+00  2.99420896e+00 -1.82024586e+00 -2.22148872e+00\n",
      "  -1.15217754e+00 -1.35783138e+00 -1.46590132e+00]\n",
      " [ 3.07852235e-02 -7.56366877e-01 -1.83567296e+00 -4.31413582e-02\n",
      "  -1.46073685e+00  3.00985520e+00 -1.81146068e+00 -2.21944089e+00\n",
      "  -1.15181606e+00 -1.35684845e+00 -1.46199447e+00]\n",
      " [ 3.85439851e-02 -7.56366362e-01 -1.84080582e+00 -3.87132446e-02\n",
      "  -1.46137647e+00  3.01230183e+00 -1.78584046e+00 -2.23265491e+00\n",
      "  -1.15430572e+00 -1.35614415e+00 -1.45970648e+00]\n",
      " [ 3.68715888e-02 -7.56365993e-01 -1.82803650e+00 -4.25697207e-02\n",
      "  -1.46082508e+00  3.01222415e+00 -1.79170729e+00 -2.13033372e+00\n",
      "  -1.15335159e+00 -1.35575691e+00 -1.45328055e+00]\n",
      " [ 2.91563961e-02 -7.56365729e-01 -1.80636816e+00 -5.14600986e-02\n",
      "  -1.46304582e+00  3.01675121e+00 -1.79723533e+00 -2.12416897e+00\n",
      "  -1.15005571e+00 -1.35594214e+00 -1.44117759e+00]\n",
      " [ 2.13604488e-02 -7.56365539e-01 -1.78513015e+00 -6.02383547e-02\n",
      "  -1.46370481e+00  3.01829915e+00 -1.78668593e+00 -2.17873022e+00\n",
      "  -1.14956915e+00 -1.35611086e+00 -1.42720262e+00]\n",
      " [ 2.04774325e-02 -7.56365404e-01 -1.77581356e+00 -6.29370143e-02\n",
      "  -1.45905963e+00  3.01240104e+00 -1.76069065e+00 -2.15456123e+00\n",
      "  -1.14444724e+00 -1.35575440e+00 -1.41462077e+00]\n",
      " [ 2.05255496e-02 -7.56365306e-01 -1.76628482e+00 -6.51910007e-02\n",
      "  -1.45202801e+00  3.00443180e+00 -1.77417331e+00 -2.18628437e+00\n",
      "  -1.13915309e+00 -1.35582070e+00 -1.40650055e+00]]\n",
      "[[-2.18886452 -1.13613564 -1.35525408 -1.4020273 ]]\n",
      "[[-1.02306099 -1.39451465 -0.20477431  0.45653373  0.7469841  -0.02825305\n",
      "  -1.9460081  -2.55417098 -1.84113679 -1.80773921 -1.71540056]\n",
      " [-1.02388237 -1.39594691 -0.20541789  0.58141676  0.49823643 -0.19766417\n",
      "  -1.94331872 -2.54537179 -1.8408965  -1.80716793 -1.71525963]\n",
      " [-1.02465934 -1.39717619 -0.20617259  0.70652084  0.20638812 -0.35783596\n",
      "  -1.94206955 -2.55696929 -1.84072432 -1.80675859 -1.71682292]\n",
      " [-1.02528893 -1.39865015 -0.20692963  0.83178172 -0.08622375 -0.48784899\n",
      "  -1.94449278 -2.56322529 -1.84069916 -1.80646529 -1.71702695]\n",
      " [-1.02576336 -1.39936909 -0.20763626  0.95713814 -0.35957375 -0.586006\n",
      "  -1.94663108 -2.56572087 -1.84060953 -1.80625513 -1.71485177]\n",
      " [-1.02609918 -1.39978384 -0.20827375  1.08254817 -0.60557467 -0.65605571\n",
      "  -1.94322914 -2.57829746 -1.84041844 -1.80610454 -1.71742115]\n",
      " [-1.02632699 -1.39986334 -0.20883282  1.20801416 -0.82222872 -0.70319437\n",
      "  -1.9592038  -2.56948492 -1.84041298 -1.80599664 -1.7183161 ]\n",
      " [-1.02646782 -1.39976003 -0.20931922  1.33352364 -1.01064525 -0.732321\n",
      "  -1.96861659 -2.56861288 -1.84023055 -1.80591933 -1.71671761]\n",
      " [-1.02653817 -1.398864   -0.20972149  1.44785948 -1.16656159 -0.74722824\n",
      "  -1.96337268 -2.56195166 -1.83954433 -1.80550555 -1.71369138]\n",
      " [-1.02659302 -1.39730007 -0.20999923  1.52507753 -1.27418886 -0.75859553\n",
      "  -1.94608195 -2.55724242 -1.83843726 -1.80503235 -1.71207643]\n",
      " [-1.02662704 -1.39593146 -0.2102132   1.58826156 -1.35710991 -0.76583915\n",
      "  -1.94838457 -2.55345207 -1.83789873 -1.80470906 -1.70976904]\n",
      " [-1.02664287 -1.39386243 -0.21037243  1.6367033  -1.41883656 -0.76918954\n",
      "  -1.95693906 -2.5562401  -1.83755892 -1.8041269  -1.70617644]\n",
      " [-1.0266638  -1.3923799  -0.21046094  1.65844121 -1.45312686 -0.77337796\n",
      "  -1.96306862 -2.55811239 -1.8364883  -1.80383089 -1.70342183]\n",
      " [-1.02668847 -1.39125351 -0.21050406  1.66496294 -1.46969438 -0.77854282\n",
      "  -1.97322237 -2.53299876 -1.83434877 -1.80238977 -1.69984393]\n",
      " [-1.02670503 -1.39023943 -0.21054321  1.67472097 -1.48493622 -0.78192956\n",
      "  -1.99328236 -2.52094334 -1.83117729 -1.79952414 -1.69716131]\n",
      " [-1.02671116 -1.38947429 -0.21058661  1.68965769 -1.50162305 -0.78351346\n",
      "  -1.98633529 -2.5123222  -1.8296194  -1.79784412 -1.69291869]\n",
      " [-1.02670623 -1.38869346 -0.210642    1.7137355  -1.52325951 -0.78242187\n",
      "  -1.98406099 -2.51122357 -1.83010625 -1.79670426 -1.68839899]\n",
      " [-1.02669067 -1.38813173 -0.21069669  1.7383796  -1.54446297 -0.77928421\n",
      "  -1.97275235 -2.52692758 -1.83034719 -1.79527357 -1.68499536]\n",
      " [-1.0266865  -1.38747527 -0.21071639  1.74550649 -1.55205498 -0.77822127\n",
      "  -1.96695089 -2.54135184 -1.82995406 -1.79445586 -1.68220802]\n",
      " [-1.02669316 -1.38774218 -0.21071776  1.74552883 -1.55255459 -0.77975954\n",
      "  -1.95974363 -2.54296209 -1.83042635 -1.79201707 -1.67937593]]\n",
      "[[-2.53865511 -1.83066351 -1.78756094 -1.67827068]]\n"
     ]
    }
   ],
   "source": [
    "print(test1X[0])\n",
    "print(test1Y[0])\n",
    "print(test2X[0])\n",
    "print(test2Y[0])"
   ]
  },
  {
   "cell_type": "markdown",
   "metadata": {
    "id": "CTDXVxK2gXMN"
   },
   "source": [
    "# Model Development"
   ]
  },
  {
   "cell_type": "code",
   "execution_count": 38,
   "metadata": {
    "id": "UjvfFxqsQBzT"
   },
   "outputs": [],
   "source": [
    "# Setting some hyper-parameters for models\n",
    "epochs = 50\n",
    "batch_size=1000\n",
    "# batch_size=500\n",
    "\n",
    "# Training inputs and outputs\n",
    "seq_len = trainX.shape[1]  #this is total number of records\n",
    "n_input_features = trainX.shape[2]  #this is 12\n",
    "n_targets = trainY.shape[1]*trainY.shape[2]   #this is 1*4"
   ]
  },
  {
   "cell_type": "markdown",
   "metadata": {
    "id": "faDVAEOSMqVS"
   },
   "source": [
    "# LSTM model"
   ]
  },
  {
   "cell_type": "code",
   "execution_count": null,
   "metadata": {
    "id": "24fgX4S86x17"
   },
   "outputs": [],
   "source": [
    "# define the Autoencoder model\n",
    "def LSTM_model_builder(seq_len, n_input_features, n_targets):\n",
    "  model = Sequential()\n",
    "\n",
    "  model.add(LSTM(1024, activation='relu', input_shape=(seq_len, n_input_features), return_sequences=True))\n",
    "  model.add(LSTM(512, activation='relu', return_sequences=True))\n",
    "  model.add(Dropout(0.3))\n",
    "  model.add(LSTM(128, kernel_regularizer=l2(0.01), recurrent_regularizer=l2(0.01), bias_regularizer=l2(0.01), activation='relu', return_sequences=True))\n",
    "  model.add(LSTM(64, activation='relu', return_sequences=True))\n",
    "  model.add(BatchNormalization())\n",
    "  # model.add(AveragePooling1D(pool_size=2, strides=1, padding='same'))\n",
    "  model.add(LSTM(32, activation='relu', return_sequences=False))\n",
    "  model.add(Dropout(0.1))\n",
    "  model.add(Dense(n_targets, activation='linear'))\n",
    "\n",
    "  return model"
   ]
  },
  {
   "cell_type": "code",
   "execution_count": null,
   "metadata": {
    "id": "Ah64SG3Bx2a8"
   },
   "outputs": [],
   "source": [
    "model = LSTM_model_builder(seq_len, n_input_features, n_targets)\n",
    "model.summary()"
   ]
  },
  {
   "cell_type": "code",
   "execution_count": null,
   "metadata": {
    "colab": {
     "base_uri": "https://localhost:8080/"
    },
    "id": "MsjoTsjeF3_o",
    "outputId": "ef7407df-da46-4d19-9a66-4cdd024caca6"
   },
   "outputs": [
    {
     "name": "stdout",
     "output_type": "stream",
     "text": [
      "Model: \"sequential_5\"\n",
      "_________________________________________________________________\n",
      "Layer (type)                 Output Shape              Param #   \n",
      "=================================================================\n",
      "lstm_22 (LSTM)               (None, 10, 1024)          4243456   \n",
      "_________________________________________________________________\n",
      "lstm_23 (LSTM)               (None, 10, 512)           3147776   \n",
      "_________________________________________________________________\n",
      "dropout_9 (Dropout)          (None, 10, 512)           0         \n",
      "_________________________________________________________________\n",
      "lstm_24 (LSTM)               (None, 10, 128)           328192    \n",
      "_________________________________________________________________\n",
      "lstm_25 (LSTM)               (None, 10, 64)            49408     \n",
      "_________________________________________________________________\n",
      "batch_normalization_4 (Batch (None, 10, 64)            256       \n",
      "_________________________________________________________________\n",
      "lstm_26 (LSTM)               (None, 32)                12416     \n",
      "_________________________________________________________________\n",
      "dropout_10 (Dropout)         (None, 32)                0         \n",
      "_________________________________________________________________\n",
      "dense_4 (Dense)              (None, 4)                 132       \n",
      "=================================================================\n",
      "Total params: 7,781,636\n",
      "Trainable params: 7,781,508\n",
      "Non-trainable params: 128\n",
      "_________________________________________________________________\n"
     ]
    }
   ],
   "source": [
    "# Learning Rate Decay\n",
    "lr_schedule = tf.keras.optimizers.schedules.ExponentialDecay(\n",
    "    initial_learning_rate=1e-3,\n",
    "    decay_steps=10000,\n",
    "    decay_rate=0.7)\n",
    "\n",
    "opt = tf.keras.optimizers.Adam(learning_rate=lr_schedule)\n",
    "\n",
    "model.compile(optimizer=opt, loss='mse', metrics=['mse','mae'])"
   ]
  },
  {
   "cell_type": "code",
   "execution_count": 44,
   "metadata": {
    "id": "EQlx1yGPLdG_"
   },
   "outputs": [],
   "source": [
    "# A function for decaying the earning rate\n",
    "# initial_learning_rate = 0.001\n",
    "# decay = initial_learning_rate/epochs\n",
    "\n",
    "# def lr_time_based_decay(epoch, lr):\n",
    "#     return lr * 1 / (1 + decay * epoch)\n",
    "\n",
    "\n",
    "model_es_callback = tf.keras.callbacks.EarlyStopping(\n",
    "    monitor='val_mse',\n",
    "    min_delta = 0.001,\n",
    "    patience = 20,\n",
    "    verbose = 1,\n",
    "    mode='min',\n",
    "    restore_best_weights=True)\n"
   ]
  },
  {
   "cell_type": "code",
   "execution_count": null,
   "metadata": {
    "id": "mM0Pz4V_x2a8",
    "outputId": "4cbff090-55d5-40bb-eea1-676d40046a80"
   },
   "outputs": [
    {
     "data": {
      "text/plain": [
       "(43961, 10, 11)"
      ]
     },
     "execution_count": 48,
     "metadata": {},
     "output_type": "execute_result"
    }
   ],
   "source": [
    "trainX.shape"
   ]
  },
  {
   "cell_type": "code",
   "execution_count": null,
   "metadata": {
    "colab": {
     "base_uri": "https://localhost:8080/"
    },
    "id": "-cYvuU8EF38W",
    "outputId": "8ff28571-22c0-4665-c924-12489dde68e2"
   },
   "outputs": [
    {
     "name": "stdout",
     "output_type": "stream",
     "text": [
      "Epoch 1/5\n",
      "71/71 [==============================] - 217s 3s/step - loss: 4.0123 - mse: 0.8070 - mae: 0.7580 - val_loss: 2.9689 - val_mse: 1.6856 - val_mae: 1.1421\n",
      "Epoch 2/5\n",
      "71/71 [==============================] - 224s 3s/step - loss: 1.8846 - mse: 0.8027 - mae: 0.7555 - val_loss: 2.7179 - val_mse: 1.7784 - val_mae: 1.1744\n",
      "Epoch 3/5\n",
      "71/71 [==============================] - 228s 3s/step - loss: 1.6869 - mse: 0.8021 - mae: 0.7545 - val_loss: 2.5970 - val_mse: 1.8026 - val_mae: 1.1834\n",
      "Epoch 4/5\n",
      "71/71 [==============================] - 223s 3s/step - loss: 1.5534 - mse: 0.8018 - mae: 0.7547 - val_loss: 2.5365 - val_mse: 1.8657 - val_mae: 1.2049\n",
      "Epoch 5/5\n",
      "71/71 [==============================] - 221s 3s/step - loss: 1.4377 - mse: 0.8013 - mae: 0.7541 - val_loss: 2.4734 - val_mse: 1.9109 - val_mae: 1.2204\n"
     ]
    }
   ],
   "source": [
    "# fit the model\n",
    "# %%time\n",
    "# history = model.fit(trainX, trainY, epochs=epochs, batch_size=batch_size, validation_split=0.2, verbose=1, callbacks=[model_es_callback, LearningRateScheduler(lr_time_based_decay, verbose=1)])\n",
    "\n",
    "history = model.fit(trainX, trainY, epochs=epochs, batch_size=batch_size, validation_split=0.2, verbose=1, callbacks=[model_es_callback])"
   ]
  },
  {
   "cell_type": "markdown",
   "metadata": {
    "id": "6WQzuUEReuL_"
   },
   "source": [
    "Ploting Performance of training"
   ]
  },
  {
   "cell_type": "code",
   "execution_count": null,
   "metadata": {},
   "outputs": [],
   "source": [
    "model.save(\"lstm.h5\")"
   ]
  },
  {
   "cell_type": "code",
   "execution_count": null,
   "metadata": {
    "colab": {
     "base_uri": "https://localhost:8080/",
     "height": 295
    },
    "id": "NvMHJjB7fpkR",
    "outputId": "6605a7cb-e5a7-43f4-d6a9-ec00f8c6fff9"
   },
   "outputs": [
    {
     "data": {
      "image/png": "[encoded data removed]",
      "text/plain": [
       "<Figure size 432x288 with 1 Axes>"
      ]
     },
     "metadata": {
      "needs_background": "light"
     },
     "output_type": "display_data"
    }
   ],
   "source": [
    "plt.plot(history.history['mse'])\n",
    "plt.plot(history.history['val_mse'])\n",
    "plt.title('LSTM mse')\n",
    "plt.ylabel('mse')\n",
    "plt.xlabel('epoch')\n",
    "plt.legend(['train', 'validation'], loc='upper left')\n",
    "plt.show()"
   ]
  },
  {
   "cell_type": "code",
   "execution_count": null,
   "metadata": {
    "colab": {
     "base_uri": "https://localhost:8080/",
     "height": 295
    },
    "id": "yAXj0a_EfqRs",
    "outputId": "4430e324-9ed9-4310-be86-f01b073aa0e2"
   },
   "outputs": [
    {
     "data": {
      "image/png": "[encoded data removed]",
      "text/plain": [
       "<Figure size 432x288 with 1 Axes>"
      ]
     },
     "metadata": {
      "needs_background": "light"
     },
     "output_type": "display_data"
    }
   ],
   "source": [
    "# cnn_model.evaluate(X_test, y_test, verbose = 0) \n",
    "\n",
    "plt.plot(history.history['mae'], label='mae')\n",
    "plt.plot(history.history['val_mae'], label='val_mae')\n",
    "plt.title('LSTM mae')\n",
    "plt.xlabel('Epoch')\n",
    "plt.ylabel('mae')\n",
    "plt.legend(loc='upper right')\n",
    "plt.show()"
   ]
  },
  {
   "cell_type": "code",
   "execution_count": null,
   "metadata": {
    "id": "VtSH9G-Fx2a9",
    "outputId": "c89935f3-ab1e-4ef3-cc31-25ff60aa7b6e"
   },
   "outputs": [
    {
     "data": {
      "text/plain": [
       "(15281, 20, 11)"
      ]
     },
     "execution_count": 47,
     "metadata": {},
     "output_type": "execute_result"
    }
   ],
   "source": [
    "test1X.shape"
   ]
  },
  {
   "cell_type": "code",
   "execution_count": null,
   "metadata": {
    "colab": {
     "base_uri": "https://localhost:8080/",
     "height": 249
    },
    "id": "UFenrysdvoQ3",
    "outputId": "520dae56-f4eb-43f4-af40-bf015b05c8d8",
    "scrolled": true
   },
   "outputs": [
    {
     "name": "stdout",
     "output_type": "stream",
     "text": [
      "['loss', 'mse', 'mae']\n",
      "478/478 - 119s - loss: 1.6172 - mse: 1.0348 - mae: 0.8698\n",
      "1253/1253 - 315s - loss: 1.6176 - mse: 1.0353 - mae: 0.8678\n",
      "MSE testing set1: 1.035\n",
      "MAE testing set1: 0.870\n",
      "MSE testing set2 : 1.035\n",
      "MAE testing set2: 0.868\n"
     ]
    }
   ],
   "source": [
    "# print(history.history.keys())\n",
    "print(model.metrics_names)\n",
    "\n",
    "# Evaluate the model average testing performance \n",
    "result1 = model.evaluate(test1X,  test1Y, verbose=2)\n",
    "result2 = model.evaluate(test2X,  test2Y, verbose=2)\n",
    "\n",
    "print('MSE testing set1: %.3f' % (result1[1]))\n",
    "print('MAE testing set1: %.3f' % (result1[2]))\n",
    "print('MSE testing set2 : %.3f' % (result2[1]))\n",
    "print('MAE testing set2: %.3f' % (result2[2]))"
   ]
  },
  {
   "cell_type": "markdown",
   "metadata": {
    "id": "ciB2SyY7ekQf"
   },
   "source": [
    "Predictictions"
   ]
  },
  {
   "cell_type": "code",
   "execution_count": null,
   "metadata": {
    "id": "v0lwz33BtEwW"
   },
   "outputs": [],
   "source": [
    "# Here we do not need to perform inverse scaling as we do not want to see the predicted values in their real scale\n",
    "# Refer to the original teaching material at https://www.youtube.com/watch?v=tepxdcepTbY"
   ]
  },
  {
   "cell_type": "code",
   "execution_count": null,
   "metadata": {
    "id": "UOF0ryNhAA2J",
    "outputId": "85431aa8-095d-437b-d24e-28b0a0c2b705",
    "scrolled": true
   },
   "outputs": [
    {
     "name": "stdout",
     "output_type": "stream",
     "text": [
      "WARNING:tensorflow:Model was constructed with shape (None, 10, 11) for input KerasTensor(type_spec=TensorSpec(shape=(None, 10, 11), dtype=tf.float32, name='lstm_2_input'), name='lstm_2_input', description=\"created by layer 'lstm_2_input'\"), but it was called on an input with incompatible shape (None, 20, 11).\n"
     ]
    }
   ],
   "source": [
    "# Predict the output \n",
    "test1Y_pred = []\n",
    "test2Y_pred = []\n",
    "\n",
    "# This can be run only once. Cecause it reshapes the original array\n",
    "test1Y_shaped = test1Y.reshape((test1Y.shape[0],test1Y.shape[1]*test1Y.shape[2]))\n",
    "test2Y_shaped = test2Y.reshape((test2Y.shape[0],test2Y.shape[1]*test2Y.shape[2]))\n",
    "\n",
    "test1Y_pred= model.predict(test1X)\n",
    "test2Y_pred= model.predict(test2X)\n"
   ]
  },
  {
   "cell_type": "markdown",
   "metadata": {
    "id": "ugdTtpr9x2a-"
   },
   "source": [
    "Predicting R2 for testing sets"
   ]
  },
  {
   "cell_type": "code",
   "execution_count": null,
   "metadata": {
    "colab": {
     "base_uri": "https://localhost:8080/",
     "height": 234
    },
    "id": "jcMyWMAuftjj",
    "outputId": "9f11e4bd-8ead-45da-f929-abc6d5e1a027"
   },
   "outputs": [
    {
     "name": "stdout",
     "output_type": "stream",
     "text": [
      "test1 R2: [-0.02033788 -0.05002765 -0.0350418  -0.04325705]\n",
      "test2 R2: [-0.01967476 -0.0500552  -0.03513113 -0.04330043]\n"
     ]
    }
   ],
   "source": [
    "r2_lstm1 = []\n",
    "r2_lstm2 = []\n",
    "\n",
    "# Predict R2 for test1 dataset\n",
    "r2_lstm1 = r2_score(test1Y_shaped, test1Y_pred, multioutput='raw_values')\n",
    "print('test1 R2:', r2_lstm1)\n",
    "print('test1 average R2:', np.mean(r2_lstm1))\n",
    "\n",
    "# Predict R2 for test2 dataset\n",
    "r2_lstm2 = r2_score(test2Y_shaped, test2Y_pred, multioutput='raw_values')\n",
    "print('test2 R2:', r2_lstm2)\n",
    "print('test2 average R2:', np.mean(r2_lstm2))"
   ]
  },
  {
   "cell_type": "markdown",
   "metadata": {
    "id": "ri0UuNFBx2a-"
   },
   "source": [
    "Predicting MSE in testing sets"
   ]
  },
  {
   "cell_type": "code",
   "execution_count": null,
   "metadata": {
    "colab": {
     "base_uri": "https://localhost:8080/",
     "height": 234
    },
    "id": "1oKfw3fdx2a-",
    "outputId": "9f11e4bd-8ead-45da-f929-abc6d5e1a027"
   },
   "outputs": [
    {
     "name": "stdout",
     "output_type": "stream",
     "text": [
      "test1 MSE: [1.01507269 1.04958214 1.03389213 1.0417054 ]\n",
      "test2 MSE: [1.01687564 1.04881076 1.03396807 1.04230646]\n"
     ]
    }
   ],
   "source": [
    "mse_lstm1 = []\n",
    "mse_lstm2 = []\n",
    "\n",
    "# Predict R2 for test1 dataset\n",
    "\n",
    "mse_lstm1 = mean_squared_error(test1Y_shaped, test1Y_pred, multioutput='raw_values')\n",
    "print('test1 MSE:', mse_lstm1)\n",
    "print('test1 average MSE:', np.mean(mse_lstm1))\n",
    "\n",
    "# Predict R2 for test2 dataset\n",
    "mse_lstm2 = mean_squared_error(test2Y_shaped, test2Y_pred, multioutput='raw_values')\n",
    "print('test2 MSE:', mse_lstm2)\n",
    "print('test2 average MSE:', np.mean(mse_lstm2))"
   ]
  },
  {
   "cell_type": "markdown",
   "metadata": {
    "id": "n8m1vvFTx2a-"
   },
   "source": [
    "Predicting MAE in testing sets"
   ]
  },
  {
   "cell_type": "code",
   "execution_count": null,
   "metadata": {
    "id": "7ZH5TTkcx2a-"
   },
   "outputs": [],
   "source": [
    "mae_lstm1 = []\n",
    "mae_lstm2 = []\n",
    "\n",
    "# Predict mae for test1 dataset\n",
    "mae_lstm1 = mean_absolute_error(test1Y_shaped, test1Y_pred, multioutput='raw_values')\n",
    "print('test1 MAE:', mae_lstm1)\n",
    "print('test1 average MAE:', np.mean(mae_lstm1))\n",
    "\n",
    "# Predict mae for test2 dataset\n",
    "mae_lstm2 = mean_absolute_error(test2Y_shaped, test2Y_pred, multioutput='raw_values')\n",
    "print('test2 MAE:', mae_lstm2)\n",
    "print('test2 average MAE:', np.mean(mae_lstm2))"
   ]
  },
  {
   "cell_type": "markdown",
   "metadata": {
    "id": "ph-tA8vRMkp2"
   },
   "source": [
    "# CNN model"
   ]
  },
  {
   "cell_type": "code",
   "execution_count": 45,
   "metadata": {
    "id": "RSjy4biSPEhg"
   },
   "outputs": [],
   "source": [
    "def cnn_model_builder(seq_len, n_input_features, n_targets, kernel_size):\n",
    "    # input shape: window_size x len(x_cols)\n",
    "    x = Input((seq_len, n_input_features), name='input_62')\n",
    "    y = Conv1D(filters=1024, kernel_size=kernel_size, padding='same', activation='relu')(x)\n",
    "\n",
    "    y = Conv1D(filters=512, kernel_size=kernel_size, padding='same',\n",
    "                      dilation_rate=2, activation='relu', kernel_regularizer=l2(0.01), bias_regularizer=l2(0.01))(y)\n",
    "    y = Conv1D(filters=256, kernel_size=kernel_size, padding='same',\n",
    "                      dilation_rate=2, activation='relu')(y)\n",
    "    y = Conv1D(filters=128, kernel_size=2, padding='same',\n",
    "                      dilation_rate=2, activation='relu', kernel_regularizer=l2(0.01), bias_regularizer=l2(0.01))(y)\n",
    "    \n",
    "#     y = AveragePooling1D(pool_size=2, strides=1, padding='same')(y)\n",
    "\n",
    "    y = Conv1D(filters=256, kernel_size=kernel_size, padding='same',\n",
    "                      dilation_rate=2, activation='relu')(y)\n",
    "    \n",
    "    shortcut = Conv1D(filters=256, kernel_size=1,\n",
    "                             dilation_rate=2, padding='same')(x)\n",
    "    y = add([shortcut, y])\n",
    "\n",
    "    # y = MaxPool1D(pool_size=32)(y)\n",
    "    y = Flatten()(y)\n",
    "    y = Dense(128, name='dense_128', activation='relu')(y)\n",
    "    y = Dropout(rate=0.05)(y)\n",
    "    y = Dense(n_targets, name=f'dense_{n_targets}', activation='linear')(y)\n",
    "    model = models.Model(inputs=x, outputs=y)\n",
    "\n",
    "    return model\n",
    "  \n",
    " "
   ]
  },
  {
   "cell_type": "code",
   "execution_count": 46,
   "metadata": {
    "colab": {
     "base_uri": "https://localhost:8080/"
    },
    "id": "wg6JDOHQPPhA",
    "outputId": "89da0fbf-9b32-4748-f5f4-8f4f1b24f566"
   },
   "outputs": [
    {
     "name": "stdout",
     "output_type": "stream",
     "text": [
      "Model: \"model_1\"\n",
      "__________________________________________________________________________________________________\n",
      " Layer (type)                   Output Shape         Param #     Connected to                     \n",
      "==================================================================================================\n",
      " input_62 (InputLayer)          [(None, 20, 11)]     0           []                               \n",
      "                                                                                                  \n",
      " conv1d_6 (Conv1D)              (None, 20, 1024)     34816       ['input_62[0][0]']               \n",
      "                                                                                                  \n",
      " conv1d_7 (Conv1D)              (None, 20, 512)      1573376     ['conv1d_6[0][0]']               \n",
      "                                                                                                  \n",
      " conv1d_8 (Conv1D)              (None, 20, 256)      393472      ['conv1d_7[0][0]']               \n",
      "                                                                                                  \n",
      " conv1d_9 (Conv1D)              (None, 20, 128)      65664       ['conv1d_8[0][0]']               \n",
      "                                                                                                  \n",
      " conv1d_11 (Conv1D)             (None, 20, 256)      3072        ['input_62[0][0]']               \n",
      "                                                                                                  \n",
      " conv1d_10 (Conv1D)             (None, 20, 256)      98560       ['conv1d_9[0][0]']               \n",
      "                                                                                                  \n",
      " add_1 (Add)                    (None, 20, 256)      0           ['conv1d_11[0][0]',              \n",
      "                                                                  'conv1d_10[0][0]']              \n",
      "                                                                                                  \n",
      " flatten_1 (Flatten)            (None, 5120)         0           ['add_1[0][0]']                  \n",
      "                                                                                                  \n",
      " dense_128 (Dense)              (None, 128)          655488      ['flatten_1[0][0]']              \n",
      "                                                                                                  \n",
      " dropout_1 (Dropout)            (None, 128)          0           ['dense_128[0][0]']              \n",
      "                                                                                                  \n",
      " dense_4 (Dense)                (None, 4)            516         ['dropout_1[0][0]']              \n",
      "                                                                                                  \n",
      "==================================================================================================\n",
      "Total params: 2,824,964\n",
      "Trainable params: 2,824,964\n",
      "Non-trainable params: 0\n",
      "__________________________________________________________________________________________________\n"
     ]
    }
   ],
   "source": [
    "cnn_model = cnn_model_builder(seq_len, n_input_features, n_targets, kernel_size=3)\n",
    "cnn_model.summary()"
   ]
  },
  {
   "cell_type": "code",
   "execution_count": 47,
   "metadata": {
    "id": "_nfGMXZyx2a_"
   },
   "outputs": [],
   "source": [
    "# Learning Rate Decay\n",
    "lr_schedule = tf.keras.optimizers.schedules.ExponentialDecay(\n",
    "    initial_learning_rate=1e-3,\n",
    "    decay_steps=5000,\n",
    "    decay_rate=0.7)\n",
    "\n",
    "opt = tf.keras.optimizers.Adam(learning_rate=lr_schedule)"
   ]
  },
  {
   "cell_type": "code",
   "execution_count": 48,
   "metadata": {
    "id": "W8CM2eXzZdKB"
   },
   "outputs": [],
   "source": [
    "cnn_model.compile(optimizer=opt, loss='mse', metrics=['mse','mae'])"
   ]
  },
  {
   "cell_type": "code",
   "execution_count": 49,
   "metadata": {
    "colab": {
     "base_uri": "https://localhost:8080/"
    },
    "id": "BosXVrEwJOV_",
    "outputId": "77269dfa-2cab-4c45-cc0b-93e51618782c"
   },
   "outputs": [
    {
     "name": "stdout",
     "output_type": "stream",
     "text": [
      "Epoch 1/50\n",
      "26/26 [==============================] - 58s 2s/step - loss: 5.9641 - mse: 1.3151 - mae: 0.8808 - val_loss: 3.0745 - val_mse: 1.2694 - val_mae: 0.9233\n",
      "Epoch 2/50\n",
      "26/26 [==============================] - 35s 1s/step - loss: 1.9687 - mse: 0.9358 - mae: 0.7821 - val_loss: 1.8320 - val_mse: 1.3119 - val_mae: 0.9353\n",
      "Epoch 3/50\n",
      "26/26 [==============================] - 35s 1s/step - loss: 1.2904 - mse: 0.9335 - mae: 0.7787 - val_loss: 1.5065 - val_mse: 1.2966 - val_mae: 0.9386\n",
      "Epoch 4/50\n",
      "26/26 [==============================] - 37s 1s/step - loss: 1.0920 - mse: 0.9326 - mae: 0.7783 - val_loss: 1.4177 - val_mse: 1.3178 - val_mae: 0.9371\n",
      "Epoch 5/50\n",
      "26/26 [==============================] - 35s 1s/step - loss: 1.0178 - mse: 0.9328 - mae: 0.7783 - val_loss: 1.3137 - val_mse: 1.2566 - val_mae: 0.9175\n",
      "Epoch 6/50\n",
      "26/26 [==============================] - 35s 1s/step - loss: 0.9849 - mse: 0.9333 - mae: 0.7796 - val_loss: 1.3661 - val_mse: 1.3367 - val_mae: 0.9487\n",
      "Epoch 7/50\n",
      "26/26 [==============================] - 35s 1s/step - loss: 0.9632 - mse: 0.9317 - mae: 0.7774 - val_loss: 1.3535 - val_mse: 1.3379 - val_mae: 0.9480\n",
      "Epoch 8/50\n",
      "26/26 [==============================] - 35s 1s/step - loss: 0.9564 - mse: 0.9336 - mae: 0.7797 - val_loss: 1.2875 - val_mse: 1.2795 - val_mae: 0.9371\n",
      "Epoch 9/50\n",
      "26/26 [==============================] - 35s 1s/step - loss: 0.9463 - mse: 0.9320 - mae: 0.7775 - val_loss: 1.3314 - val_mse: 1.3284 - val_mae: 0.9380\n",
      "Epoch 10/50\n",
      "26/26 [==============================] - 36s 1s/step - loss: 0.9421 - mse: 0.9321 - mae: 0.7771 - val_loss: 1.3177 - val_mse: 1.3172 - val_mae: 0.9371\n",
      "Epoch 11/50\n",
      "26/26 [==============================] - 35s 1s/step - loss: 0.9476 - mse: 0.9343 - mae: 0.7810 - val_loss: 1.3470 - val_mse: 1.3364 - val_mae: 0.9437\n",
      "Epoch 12/50\n",
      "26/26 [==============================] - 34s 1s/step - loss: 0.9653 - mse: 0.9343 - mae: 0.7836 - val_loss: 1.3227 - val_mse: 1.2997 - val_mae: 0.9337\n",
      "Epoch 13/50\n",
      "26/26 [==============================] - 34s 1s/step - loss: 0.9476 - mse: 0.9325 - mae: 0.7808 - val_loss: 1.3133 - val_mse: 1.3177 - val_mae: 0.9385\n",
      "Epoch 14/50\n",
      "26/26 [==============================] - 35s 1s/step - loss: 0.9357 - mse: 0.9319 - mae: 0.7783 - val_loss: 1.3096 - val_mse: 1.3163 - val_mae: 0.9407\n",
      "Epoch 15/50\n",
      "26/26 [==============================] - 35s 1s/step - loss: 0.9338 - mse: 0.9318 - mae: 0.7775 - val_loss: 1.3204 - val_mse: 1.3279 - val_mae: 0.9404\n",
      "Epoch 16/50\n",
      "26/26 [==============================] - 37s 1s/step - loss: 0.9339 - mse: 0.9316 - mae: 0.7775 - val_loss: 1.3090 - val_mse: 1.3168 - val_mae: 0.9435\n",
      "Epoch 17/50\n",
      "26/26 [==============================] - 35s 1s/step - loss: 0.9327 - mse: 0.9316 - mae: 0.7772 - val_loss: 1.3099 - val_mse: 1.3176 - val_mae: 0.9455\n",
      "Epoch 18/50\n",
      "26/26 [==============================] - 35s 1s/step - loss: 0.9324 - mse: 0.9317 - mae: 0.7770 - val_loss: 1.3107 - val_mse: 1.3187 - val_mae: 0.9469\n",
      "Epoch 19/50\n",
      "26/26 [==============================] - 37s 1s/step - loss: 0.9322 - mse: 0.9313 - mae: 0.7768 - val_loss: 1.3134 - val_mse: 1.3218 - val_mae: 0.9450\n",
      "Epoch 20/50\n",
      "26/26 [==============================] - 35s 1s/step - loss: 0.9321 - mse: 0.9317 - mae: 0.7771 - val_loss: 1.3095 - val_mse: 1.3178 - val_mae: 0.9444\n",
      "Epoch 21/50\n",
      "26/26 [==============================] - 35s 1s/step - loss: 0.9320 - mse: 0.9315 - mae: 0.7768 - val_loss: 1.3089 - val_mse: 1.3173 - val_mae: 0.9443\n",
      "Epoch 22/50\n",
      "26/26 [==============================] - 34s 1s/step - loss: 0.9318 - mse: 0.9315 - mae: 0.7771 - val_loss: 1.3084 - val_mse: 1.3168 - val_mae: 0.9462\n",
      "Epoch 23/50\n",
      "26/26 [==============================] - 34s 1s/step - loss: 0.9321 - mse: 0.9315 - mae: 0.7769 - val_loss: 1.3306 - val_mse: 1.3350 - val_mae: 0.9426\n",
      "Epoch 24/50\n",
      "26/26 [==============================] - 34s 1s/step - loss: 0.9341 - mse: 0.9311 - mae: 0.7767 - val_loss: 1.3157 - val_mse: 1.3239 - val_mae: 0.9485\n",
      "Epoch 25/50\n",
      "26/26 [==============================] - ETA: 0s - loss: 0.9318 - mse: 0.9313 - mae: 0.7767Restoring model weights from the end of the best epoch: 5.\n",
      "26/26 [==============================] - 34s 1s/step - loss: 0.9318 - mse: 0.9313 - mae: 0.7767 - val_loss: 1.3108 - val_mse: 1.3194 - val_mae: 0.9454\n",
      "Epoch 25: early stopping\n"
     ]
    }
   ],
   "source": [
    "# fit the model\n",
    "# %%time\n",
    "history = cnn_model.fit(trainX, trainY, epochs=epochs, batch_size=batch_size, validation_split=0.2, verbose=1, callbacks=[model_es_callback])"
   ]
  },
  {
   "cell_type": "markdown",
   "metadata": {
    "id": "Lc8HC03jH-Q-"
   },
   "source": [
    "Ploting Performance of training"
   ]
  },
  {
   "cell_type": "code",
   "execution_count": null,
   "metadata": {},
   "outputs": [],
   "source": [
    "cnn_model.save(\"cnn.h5\")"
   ]
  },
  {
   "cell_type": "code",
   "execution_count": 50,
   "metadata": {
    "colab": {
     "base_uri": "https://localhost:8080/",
     "height": 295
    },
    "id": "rn6-yn5uH-Q-",
    "outputId": "7657a89a-4854-42a7-d392-406011c9cc70"
   },
   "outputs": [
    {
     "data": {
      "image/png": "[encoded data removed]",
      "text/plain": [
       "<Figure size 432x288 with 1 Axes>"
      ]
     },
     "metadata": {
      "needs_background": "light"
     },
     "output_type": "display_data"
    }
   ],
   "source": [
    "plt.plot(history.history['mse'], label='mse')\n",
    "plt.plot(history.history['val_mse'],label='val_mse')\n",
    "plt.title('CNN mse') \n",
    "plt.ylabel('mse')\n",
    "plt.xlabel('epoch')\n",
    "plt.legend(['train', 'validation'], loc='upper left')\n",
    "plt.show()"
   ]
  },
  {
   "cell_type": "code",
   "execution_count": 54,
   "metadata": {
    "colab": {
     "base_uri": "https://localhost:8080/",
     "height": 295
    },
    "id": "JGyE-qUsY8sg",
    "outputId": "030f5bd4-6fea-494c-adbe-2d451f4a5ad2"
   },
   "outputs": [
    {
     "data": {
      "image/png": "[encoded data removed]",
      "text/plain": [
       "<Figure size 432x288 with 1 Axes>"
      ]
     },
     "metadata": {
      "needs_background": "light"
     },
     "output_type": "display_data"
    }
   ],
   "source": [
    "plt.plot(history.history['mae'], label='mae')\n",
    "plt.plot(history.history['val_mae'], label='val_mae')\n",
    "plt.title('CNN mae')\n",
    "plt.xlabel('Epoch')\n",
    "plt.ylabel('Mean_absolute_error')\n",
    "plt.legend(loc='upper right')\n",
    "plt.show()"
   ]
  },
  {
   "cell_type": "code",
   "execution_count": 52,
   "metadata": {
    "colab": {
     "base_uri": "https://localhost:8080/"
    },
    "id": "sBiaTcszx2a_",
    "outputId": "7cb0fcdb-8bb0-4ce3-a82d-ae9b4bb7246d"
   },
   "outputs": [
    {
     "data": {
      "text/plain": [
       "(15281, 20, 11)"
      ]
     },
     "execution_count": 52,
     "metadata": {},
     "output_type": "execute_result"
    }
   ],
   "source": [
    "test1X.shape"
   ]
  },
  {
   "cell_type": "code",
   "execution_count": 55,
   "metadata": {
    "colab": {
     "base_uri": "https://localhost:8080/"
    },
    "id": "yvfL6xPYx2a_",
    "outputId": "2a8e402e-9ff5-4eaa-f0dd-43f5c73842f1",
    "scrolled": true
   },
   "outputs": [
    {
     "name": "stdout",
     "output_type": "stream",
     "text": [
      "['loss', 'mse', 'mae']\n",
      "478/478 - 3s - loss: 1.0355 - mse: 0.9677 - mae: 0.8581 - 3s/epoch - 7ms/step\n",
      "1253/1253 - 7s - loss: 1.0193 - mse: 0.9515 - mae: 0.8381 - 7s/epoch - 6ms/step\n",
      "MSE testing set1: 0.968\n",
      "MAE testing set1: 0.858\n",
      "MSE testing set2 : 0.951\n",
      "MAE testing set2: 0.838\n"
     ]
    }
   ],
   "source": [
    "# print(history.history.keys())\n",
    "print(cnn_model.metrics_names)\n",
    "\n",
    "# Evaluate the model average testing performance \n",
    "result1 = cnn_model.evaluate(test1X,  test1Y, verbose=2)\n",
    "result2 = cnn_model.evaluate(test2X,  test2Y, verbose=2)\n",
    "\n",
    "print('MSE testing set1: %.3f' % (result1[1]))\n",
    "print('MAE testing set1: %.3f' % (result1[2]))\n",
    "print('MSE testing set2 : %.3f' % (result2[1]))\n",
    "print('MAE testing set2: %.3f' % (result2[2]))"
   ]
  },
  {
   "cell_type": "markdown",
   "metadata": {
    "id": "YmBt9r9tx2a_"
   },
   "source": [
    "Predictictions"
   ]
  },
  {
   "cell_type": "markdown",
   "metadata": {
    "id": "XkRtY2Usx2bA"
   },
   "source": [
    "Here we do not need to perform inverse scaling as we do not want to see the predicted values in their real scale\n",
    "Refer to the original teaching material at https://www.youtube.com/watch?v=tepxdcepTbY"
   ]
  },
  {
   "cell_type": "code",
   "execution_count": 56,
   "metadata": {
    "colab": {
     "base_uri": "https://localhost:8080/"
    },
    "id": "lFjwytsEx2bA",
    "outputId": "21c9d8f8-cb6f-4543-d795-ecd31dde1775"
   },
   "outputs": [
    {
     "data": {
      "text/plain": [
       "(15281, 1, 4)"
      ]
     },
     "execution_count": 56,
     "metadata": {},
     "output_type": "execute_result"
    }
   ],
   "source": [
    "test1Y.shape"
   ]
  },
  {
   "cell_type": "code",
   "execution_count": 57,
   "metadata": {
    "id": "g2oARHbMx2bA",
    "scrolled": true
   },
   "outputs": [],
   "source": [
    "# Predict the output \n",
    "test1Y_predcnn = []\n",
    "test2Y_predcnn = []\n",
    "\n",
    "# This can be run only once. Cecause it reshapes the original array\n",
    "test1Y_shaped = test1Y.reshape((test1Y.shape[0],test1Y.shape[1]*test1Y.shape[2]))\n",
    "test2Y_shaped = test2Y.reshape((test2Y.shape[0],test2Y.shape[1]*test2Y.shape[2]))\n",
    "\n",
    "test1Y_predcnn= cnn_model.predict(test1X)\n",
    "test2Y_predcnn= cnn_model.predict(test2X)\n"
   ]
  },
  {
   "cell_type": "markdown",
   "metadata": {
    "id": "7ay0Cteix2bA"
   },
   "source": [
    "Predicting R2 for testing sets"
   ]
  },
  {
   "cell_type": "code",
   "execution_count": 58,
   "metadata": {
    "colab": {
     "base_uri": "https://localhost:8080/"
    },
    "id": "D1ZSyni9x2bA",
    "outputId": "0702afdd-0b53-4d57-cdef-4844f3f0dcf1"
   },
   "outputs": [
    {
     "name": "stdout",
     "output_type": "stream",
     "text": [
      "test1 R2: [ 0.02134217  0.08141744  0.01924488 -0.00115714]\n",
      "test2 R2: [0.02277038 0.08804663 0.06461538 0.01226333]\n"
     ]
    }
   ],
   "source": [
    "r2_cnn1 = []\n",
    "r2_cnn2 = []\n",
    "\n",
    "# Predict R2 for test1 dataset\n",
    "r2_cnn1 = r2_score(test1Y_shaped, test1Y_predcnn, multioutput='raw_values')\n",
    "print('test1 R2:', r2_cnn1)\n",
    "\n",
    "# Predict R2 for test2 dataset\n",
    "r2_cnn2 = r2_score(test2Y_shaped, test2Y_predcnn, multioutput='raw_values')\n",
    "print('test2 R2:', r2_cnn2)"
   ]
  },
  {
   "cell_type": "markdown",
   "metadata": {
    "id": "ou6n0KvZx2bB"
   },
   "source": [
    "Predicting MSE in testing sets"
   ]
  },
  {
   "cell_type": "code",
   "execution_count": 61,
   "metadata": {
    "colab": {
     "base_uri": "https://localhost:8080/"
    },
    "id": "B02IVmV0x2bB",
    "outputId": "5f115523-8eba-414b-b05d-57f9a82d34bf"
   },
   "outputs": [
    {
     "name": "stdout",
     "output_type": "stream",
     "text": [
      "test1 MSE: [0.97360772 0.91819281 0.97966574 0.99966811]\n",
      "test1 average MSE: 0.9677835961641819\n",
      "test2 MSE: [0.97454701 0.91087259 0.93433363 0.98679563]\n",
      "test2 average MSE: 0.9516372177843713\n"
     ]
    }
   ],
   "source": [
    "mse_cnn1 = []\n",
    "mse_cnn2 = []\n",
    "\n",
    "# Predict mse for test1 dataset\n",
    "mse_cnn1 = mean_squared_error(test1Y_shaped, test1Y_predcnn, multioutput='raw_values')\n",
    "print('test1 MSE:', mse_cnn1)\n",
    "print('test1 average MSE:', np.mean(mse_cnn1))\n",
    "\n",
    "# Predict mse for test2 dataset\n",
    "mse_cnn2 = mean_squared_error(test2Y_shaped, test2Y_predcnn, multioutput='raw_values')\n",
    "print('test2 MSE:', mse_cnn2)\n",
    "print('test2 average MSE:', np.mean(mse_cnn2))"
   ]
  },
  {
   "cell_type": "markdown",
   "metadata": {
    "id": "4XoQru1Yx2bB"
   },
   "source": [
    "Predicting MAE in testing sets"
   ]
  },
  {
   "cell_type": "code",
   "execution_count": 62,
   "metadata": {
    "colab": {
     "base_uri": "https://localhost:8080/"
    },
    "id": "8BOJSKZ_x2bB",
    "outputId": "67d054b8-29d3-478b-ffe4-9aeb9f095628"
   },
   "outputs": [
    {
     "name": "stdout",
     "output_type": "stream",
     "text": [
      "test1 MAE: [0.84234881 0.83985694 0.86675574 0.88391844]\n",
      "test1 average MAE: 0.8582199833148583\n",
      "test2 MAE: [0.83291695 0.81604928 0.83080697 0.87305973]\n",
      "test2 average MAE: 0.83820823306367\n"
     ]
    }
   ],
   "source": [
    "mae_cnn1 = []\n",
    "mae_cnn2 = []\n",
    "\n",
    "# Predict mae for test1 dataset\n",
    "\n",
    "mae_cnn1 = mean_absolute_error(test1Y_shaped, test1Y_predcnn, multioutput='raw_values')\n",
    "print('test1 MAE:', mae_cnn1)\n",
    "print('test1 average MAE:', np.mean(mae_cnn1))\n",
    "\n",
    "# Predict mae for test2 dataset\n",
    "mae_cnn2 = mean_absolute_error(test2Y_shaped, test2Y_predcnn, multioutput='raw_values')\n",
    "print('test2 MAE:', mae_cnn2)\n",
    "print('test2 average MAE:', np.mean(mae_cnn2))"
   ]
  }
 ],
 "metadata": {
  "accelerator": "GPU",
  "colab": {
   "collapsed_sections": [],
   "name": "DL_project_Group2_V1_DLModels (4).ipynb",
   "provenance": []
  },
  "kernelspec": {
   "display_name": "Python 3 (ipykernel)",
   "language": "python",
   "name": "python3"
  },
  "language_info": {
   "codemirror_mode": {
    "name": "ipython",
    "version": 3
   },
   "file_extension": ".py",
   "mimetype": "text/x-python",
   "name": "python",
   "nbconvert_exporter": "python",
   "pygments_lexer": "ipython3",
   "version": "3.9.6"
  }
 },
 "nbformat": 4,
 "nbformat_minor": 1
}
